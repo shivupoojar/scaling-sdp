{
 "cells": [
  {
   "cell_type": "code",
   "execution_count": 1,
   "id": "b90c0e59",
   "metadata": {},
   "outputs": [],
   "source": [
    "import sys\n",
    "import  datetime\n",
    "import os\n",
    "from minio import Minio\n",
    "import csv\n",
    "import json\n",
    "import pandas as pd\n",
    "import time\n",
    "import subprocess\n",
    "from subprocess import Popen, PIPE\n",
    "import requests\n",
    "from IPython.display import display\n",
    "import datetime"
   ]
  },
  {
   "cell_type": "code",
   "execution_count": 2,
   "id": "52fbed03",
   "metadata": {},
   "outputs": [],
   "source": [
    "PROMETHEUS = 'http://172.17.141.197:31022/'\n",
    "pre_url = PROMETHEUS + '/api/v1/query?query='\n",
    "df_metric = pd.DataFrame(columns=['timestamp','pod_count_aeneas','pod_count_tocloud','pod_count_getobject'],index=[0])\n",
    "df_metric.to_csv('pod_count_resources.csv')\n",
    "# timestamp= pd.to_datetime(df['outtime'].iloc[-1], format='%Y-%m-%d %H:%M:%S')\n",
    "# time = (time.mktime(timestamp.timetuple()))\n",
    "#df['timestamp']=datetime.datetime.now()\n",
    "df_metrics=pd.read_csv('pod_count_resources.csv')\n"
   ]
  },
  {
   "cell_type": "code",
   "execution_count": 3,
   "id": "68294a6e",
   "metadata": {},
   "outputs": [],
   "source": [
    "def getdataprometheus(url):\n",
    "    headers= {\"Accept\": \"application/json\"}\n",
    "    res = json.loads(requests.post(url=url, headers=headers).content.decode('utf8', 'ignore'))\n",
    "    data=res.get('data').get('result')[0].get('value')[1]\n",
    "    return data"
   ]
  },
  {
   "cell_type": "code",
   "execution_count": 4,
   "id": "b0de93f1",
   "metadata": {},
   "outputs": [],
   "source": [
    "df=pd.read_csv('pod_count_resources.csv')\n",
    "expr_pod_aeneas_function = 'sum(kube_pod_container_status_ready{namespace=\"openfaas-fn\",pod=~\"aeneas.*\"})'\n",
    "expr_pod_tocloud_function = 'sum(kube_pod_container_status_ready{namespace=\"openfaas-fn\",pod=~\"scaling.*\"})'\n",
    "expr_pod_getobject_function = 'sum(kube_pod_container_status_ready{namespace=\"openfaas-fn\",pod=~\"getobject.*\"})'\n",
    "df['pod_count_aeneas']=getdataprometheus(pre_url+expr_pod_aeneas_function)\n",
    "df['pod_count_tocloud']=getdataprometheus(pre_url+expr_pod_tocloud_function)\n",
    "df['pod_count_getobject']=getdataprometheus(pre_url+expr_pod_getobject_function)\n",
    "df['timestamp']=datetime.datetime.now()\n"
   ]
  },
  {
   "cell_type": "code",
   "execution_count": 5,
   "id": "3a8950de",
   "metadata": {},
   "outputs": [],
   "source": [
    "expr_pod_cpu_aeneas_function = 'sum((container_cpu_usage_seconds_total{container_name!=\"POD\",namespace=\"openfaas-fn\",pod=~\"aeneas.*\"}))'\n",
    "expr_pod_cpu_tocloud_function = 'sum((container_cpu_usage_seconds_total{container_name!=\"POD\",namespace=\"openfaas-fn\",pod=~\"scaling.*\"}))'\n",
    "expr_pod_cpu_mosquitto_broker = 'sum((container_cpu_usage_seconds_total{container_name!=\"POD\",namespace=\"openfaas\",pod=~\"emqx.*\"}))'\n",
    "expr_pod_cpu_mosquitto_connector_aeneas = 'sum((container_cpu_usage_seconds_total{container_name!=\"POD\",namespace=\"openfaas\",pod=~\"aeneas.*\"}))'\n",
    "expr_pod_cpu_mosquitto_connector_tocloud = 'sum((container_cpu_usage_seconds_total{container_name!=\"POD\",namespace=\"openfaas\",pod=~\"tocloud.*\"}))'\n",
    "expr_pod_cpu_functions_all = 'sum((container_cpu_usage_seconds_total{container_name!=\"POD\",namespace=\"openfaas-fn\"}))'\n",
    "\n",
    "df['pod_cpu_aeneas_function']=getdataprometheus(pre_url+expr_pod_cpu_aeneas_function)\n",
    "df['pod_cpu_tocloud_function']=getdataprometheus(pre_url+expr_pod_cpu_tocloud_function)\n",
    "df['pod_cpu_mosquitto_broker']=getdataprometheus(pre_url+expr_pod_cpu_mosquitto_broker)\n",
    "df['pod_cpu_mosquitto_connector_aeneas']=getdataprometheus(pre_url+expr_pod_cpu_mosquitto_connector_aeneas)\n",
    "df['pod_cpu_mosquitto_connector_tocloud']=getdataprometheus(pre_url+expr_pod_cpu_mosquitto_connector_tocloud)\n",
    "df['pod_cpu_functions_all']=getdataprometheus(pre_url+expr_pod_cpu_functions_all)"
   ]
  },
  {
   "cell_type": "code",
   "execution_count": 6,
   "id": "d27cae06",
   "metadata": {},
   "outputs": [
    {
     "name": "stderr",
     "output_type": "stream",
     "text": [
      "/tmp/ipykernel_34906/3860766684.py:1: FutureWarning: The frame.append method is deprecated and will be removed from pandas in a future version. Use pandas.concat instead.\n",
      "  df_metrics = df_metrics.append(df, ignore_index=True)\n"
     ]
    },
    {
     "data": {
      "text/html": [
       "<div>\n",
       "<style scoped>\n",
       "    .dataframe tbody tr th:only-of-type {\n",
       "        vertical-align: middle;\n",
       "    }\n",
       "\n",
       "    .dataframe tbody tr th {\n",
       "        vertical-align: top;\n",
       "    }\n",
       "\n",
       "    .dataframe thead th {\n",
       "        text-align: right;\n",
       "    }\n",
       "</style>\n",
       "<table border=\"1\" class=\"dataframe\">\n",
       "  <thead>\n",
       "    <tr style=\"text-align: right;\">\n",
       "      <th></th>\n",
       "      <th>Unnamed: 0</th>\n",
       "      <th>timestamp</th>\n",
       "      <th>pod_count_aeneas</th>\n",
       "      <th>pod_count_tocloud</th>\n",
       "      <th>pod_count_getobject</th>\n",
       "      <th>pod_cpu_aeneas_function</th>\n",
       "      <th>pod_cpu_tocloud_function</th>\n",
       "      <th>pod_cpu_mosquitto_broker</th>\n",
       "      <th>pod_cpu_mosquitto_connector_aeneas</th>\n",
       "      <th>pod_cpu_mosquitto_connector_tocloud</th>\n",
       "      <th>pod_cpu_functions_all</th>\n",
       "    </tr>\n",
       "  </thead>\n",
       "  <tbody>\n",
       "    <tr>\n",
       "      <th>0</th>\n",
       "      <td>0</td>\n",
       "      <td>NaT</td>\n",
       "      <td>NaN</td>\n",
       "      <td>NaN</td>\n",
       "      <td>NaN</td>\n",
       "      <td>NaN</td>\n",
       "      <td>NaN</td>\n",
       "      <td>NaN</td>\n",
       "      <td>NaN</td>\n",
       "      <td>NaN</td>\n",
       "      <td>NaN</td>\n",
       "    </tr>\n",
       "    <tr>\n",
       "      <th>1</th>\n",
       "      <td>0</td>\n",
       "      <td>2022-12-06 06:54:32.189631</td>\n",
       "      <td>2</td>\n",
       "      <td>1</td>\n",
       "      <td>1</td>\n",
       "      <td>552.7162130170001</td>\n",
       "      <td>2220.925530257</td>\n",
       "      <td>21421.918621442</td>\n",
       "      <td>1765.1327257149999</td>\n",
       "      <td>12930.547882878</td>\n",
       "      <td>5837.800462384999</td>\n",
       "    </tr>\n",
       "  </tbody>\n",
       "</table>\n",
       "</div>"
      ],
      "text/plain": [
       "   Unnamed: 0                  timestamp pod_count_aeneas pod_count_tocloud  \\\n",
       "0           0                        NaT              NaN               NaN   \n",
       "1           0 2022-12-06 06:54:32.189631                2                 1   \n",
       "\n",
       "  pod_count_getobject pod_cpu_aeneas_function pod_cpu_tocloud_function  \\\n",
       "0                 NaN                     NaN                      NaN   \n",
       "1                   1       552.7162130170001           2220.925530257   \n",
       "\n",
       "  pod_cpu_mosquitto_broker pod_cpu_mosquitto_connector_aeneas  \\\n",
       "0                      NaN                                NaN   \n",
       "1          21421.918621442                 1765.1327257149999   \n",
       "\n",
       "  pod_cpu_mosquitto_connector_tocloud pod_cpu_functions_all  \n",
       "0                                 NaN                   NaN  \n",
       "1                     12930.547882878     5837.800462384999  "
      ]
     },
     "metadata": {},
     "output_type": "display_data"
    }
   ],
   "source": [
    "df_metrics = df_metrics.append(df, ignore_index=True)\n",
    "df_metrics.to_csv(\"pod_count_resources.csv\",index=False)\n",
    "display(df_metrics)\n"
   ]
  },
  {
   "cell_type": "code",
   "execution_count": null,
   "id": "1995f892",
   "metadata": {},
   "outputs": [],
   "source": []
  }
 ],
 "metadata": {
  "kernelspec": {
   "display_name": "Python 3 (ipykernel)",
   "language": "python",
   "name": "python3"
  },
  "language_info": {
   "codemirror_mode": {
    "name": "ipython",
    "version": 3
   },
   "file_extension": ".py",
   "mimetype": "text/x-python",
   "name": "python",
   "nbconvert_exporter": "python",
   "pygments_lexer": "ipython3",
   "version": "3.8.10"
  }
 },
 "nbformat": 4,
 "nbformat_minor": 5
}
