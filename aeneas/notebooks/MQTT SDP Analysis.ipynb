{
 "cells": [
  {
   "cell_type": "code",
   "execution_count": 1,
   "id": "060a0155",
   "metadata": {},
   "outputs": [
    {
     "name": "stdout",
     "output_type": "stream",
     "text": [
      "Requirement already satisfied: minio in /home/ubuntu/.local/lib/python3.8/site-packages (7.1.11)\n",
      "Requirement already satisfied: certifi in /usr/lib/python3/dist-packages (from minio) (2019.11.28)\n",
      "Requirement already satisfied: urllib3 in /usr/lib/python3/dist-packages (from minio) (1.25.8)\n",
      "Requirement already satisfied: pandas in /home/ubuntu/.local/lib/python3.8/site-packages (1.4.3)\n",
      "Requirement already satisfied: python-dateutil>=2.8.1 in /usr/local/lib/python3.8/dist-packages (from pandas) (2.8.2)\n",
      "Requirement already satisfied: pytz>=2020.1 in /home/ubuntu/.local/lib/python3.8/site-packages (from pandas) (2022.2.1)\n",
      "Requirement already satisfied: numpy>=1.19.2; platform_machine == \"aarch64\" and python_version < \"3.10\" in /home/ubuntu/.local/lib/python3.8/site-packages (from pandas) (1.23.2)\n",
      "Requirement already satisfied: six>=1.5 in /usr/lib/python3/dist-packages (from python-dateutil>=2.8.1->pandas) (1.14.0)\n",
      "Reading package lists... Done\n",
      "Building dependency tree       \n",
      "Reading state information... Done\n",
      "mosquitto-clients is already the newest version (1.6.9-1).\n",
      "0 upgraded, 0 newly installed, 0 to remove and 74 not upgraded.\n"
     ]
    }
   ],
   "source": [
    "!pip3 install minio\n",
    "!pip3 install pandas\n",
    "!sudo apt-get install -y mosquitto-clients"
   ]
  },
  {
   "cell_type": "code",
   "execution_count": 2,
   "id": "74a84da0",
   "metadata": {},
   "outputs": [],
   "source": [
    "import sys\n",
    "import  datetime\n",
    "import os\n",
    "from minio import Minio\n",
    "import csv\n",
    "import json\n",
    "import pandas as pd\n",
    "import time\n",
    "import subprocess\n",
    "from subprocess import Popen, PIPE\n",
    "import requests\n",
    "from IPython.display import display"
   ]
  },
  {
   "cell_type": "markdown",
   "id": "53e499a3",
   "metadata": {},
   "source": [
    "#df_metrics = pd.DataFrame(columns=['Workload_size','Workload TPT','Average Workload TPT','Average FET','Average CT'])\n",
    "http://172.17.141.197:3000/goto/MU1mA-MVk?orgId=1"
   ]
  },
  {
   "cell_type": "code",
   "execution_count": 3,
   "id": "7e0b3c52",
   "metadata": {},
   "outputs": [],
   "source": [
    "scenario=\"emqx_testing_namespace_scaling_without_max_inflight_replicas_2\"\n",
    "user=30\n",
    "iteration=60\n",
    "minio_host=\"172.17.141.197:9001\"\n",
    "bucket_name=\"aeneas-output\"\n",
    "PROMETHEUS = 'http://172.17.141.197:9096/'\n"
   ]
  },
  {
   "cell_type": "code",
   "execution_count": 4,
   "id": "6ec4da23",
   "metadata": {},
   "outputs": [],
   "source": [
    "!rm input_data.csv\n",
    "!touch input_data.csv\n",
    "!echo \"intime\" > input_data.csv\n"
   ]
  },
  {
   "cell_type": "code",
   "execution_count": null,
   "id": "d85db6e8",
   "metadata": {},
   "outputs": [
    {
     "name": "stdout",
     "output_type": "stream",
     "text": [
      "[2022-09-14 13:36:17,779] ubuntu/WARNING/locust.main: System open file limit '4096' is below minimum setting '10000'.\n",
      "It's not high enough for load testing, and the OS didn't allow locust to increase it by itself.\n",
      "See https://github.com/locustio/locust/wiki/Installation#increasing-maximum-number-of-open-files-limit for more info.\n",
      "[2022-09-14 13:36:17,780] ubuntu/INFO/locust.main: Run time limit set to 60 seconds\n",
      "[2022-09-14 13:36:17,781] ubuntu/INFO/locust.main: Starting Locust 2.12.0\n",
      "Type     Name  # reqs      # fails |    Avg     Min     Max    Med |   req/s  failures/s\n",
      "--------||-------|-------------|-------|-------|-------|-------|--------|-----------\n",
      "--------||-------|-------------|-------|-------|-------|-------|--------|-----------\n",
      "         Aggregated       0     0(0.00%) |      0       0       0      0 |    0.00        0.00\n",
      "\n",
      "[2022-09-14 13:36:17,784] ubuntu/INFO/locust.runners: Ramping to 2 users at a rate of 1.00 per second\n",
      "Disconnected result code None\n",
      "Disconnected result code None\n",
      "[2022-09-14 13:36:18,787] ubuntu/INFO/locust.runners: All users spawned: {\"MQTTLocust\": 2} (2 total users)\n",
      "Disconnected result code None\n",
      "Disconnected result code None\n",
      "Type     Name  # reqs      # fails |    Avg     Min     Max    Med |   req/s  failures/s\n",
      "--------||-------|-------------|-------|-------|-------|-------|--------|-----------\n",
      "MQTT     b'Device - 1'       1     0(0.00%) |     13      13      13     13 |    0.00        0.00\n",
      "MQTT     b'Device - 2'       1     0(0.00%) |     15      15      15     15 |    0.00        0.00\n",
      "MQTT     connect       2     0(0.00%) |      0       0       0      0 |    0.00        0.00\n",
      "--------||-------|-------------|-------|-------|-------|-------|--------|-----------\n",
      "         Aggregated       4     0(0.00%) |      7       0      15      0 |    0.00        0.00\n",
      "\n",
      "Type     Name  # reqs      # fails |    Avg     Min     Max    Med |   req/s  failures/s\n",
      "--------||-------|-------------|-------|-------|-------|-------|--------|-----------\n",
      "MQTT     b'Device - 1'       1     0(0.00%) |     13      13      13     13 |    0.00        0.00\n",
      "MQTT     b'Device - 2'       1     0(0.00%) |     15      15      15     15 |    0.00        0.00\n",
      "MQTT     connect       2     0(0.00%) |      0       0       0      0 |    0.00        0.00\n",
      "--------||-------|-------------|-------|-------|-------|-------|--------|-----------\n",
      "         Aggregated       4     0(0.00%) |      7       0      15      0 |    0.00        0.00\n",
      "\n",
      "Type     Name  # reqs      # fails |    Avg     Min     Max    Med |   req/s  failures/s\n",
      "--------||-------|-------------|-------|-------|-------|-------|--------|-----------\n",
      "MQTT     b'Device - 1'       1     0(0.00%) |     13      13      13     13 |    0.00        0.00\n",
      "MQTT     b'Device - 2'       1     0(0.00%) |     15      15      15     15 |    0.00        0.00\n",
      "MQTT     connect       2     0(0.00%) |      0       0       0      0 |    0.00        0.00\n",
      "--------||-------|-------------|-------|-------|-------|-------|--------|-----------\n",
      "         Aggregated       4     0(0.00%) |      7       0      15      0 |    0.00        0.00\n",
      "\n",
      "Disconnected result code None\n",
      "Type     Name  # reqs      # fails |    Avg     Min     Max    Med |   req/s  failures/s\n",
      "--------||-------|-------------|-------|-------|-------|-------|--------|-----------\n",
      "MQTT     b'Device - 1'       1     0(0.00%) |     13      13      13     13 |    0.17        0.00\n",
      "MQTT     b'Device - 2'       2     0(0.00%) |     13      12      15     12 |    0.17        0.00\n",
      "MQTT     connect       3     0(0.00%) |      0       0       0      0 |    0.33        0.00\n",
      "--------||-------|-------------|-------|-------|-------|-------|--------|-----------\n",
      "         Aggregated       6     0(0.00%) |      6       0      15      0 |    0.67        0.00\n",
      "\n",
      "Type     Name  # reqs      # fails |    Avg     Min     Max    Med |   req/s  failures/s\n",
      "--------||-------|-------------|-------|-------|-------|-------|--------|-----------\n",
      "MQTT     b'Device - 1'       1     0(0.00%) |     13      13      13     13 |    0.17        0.00\n",
      "MQTT     b'Device - 2'       2     0(0.00%) |     13      12      15     12 |    0.17        0.00\n",
      "MQTT     connect       3     0(0.00%) |      0       0       0      0 |    0.33        0.00\n",
      "--------||-------|-------------|-------|-------|-------|-------|--------|-----------\n",
      "         Aggregated       6     0(0.00%) |      6       0      15      0 |    0.67        0.00\n",
      "\n",
      "Type     Name  # reqs      # fails |    Avg     Min     Max    Med |   req/s  failures/s\n",
      "--------||-------|-------------|-------|-------|-------|-------|--------|-----------\n",
      "MQTT     b'Device - 1'       1     0(0.00%) |     13      13      13     13 |    0.17        0.00\n",
      "MQTT     b'Device - 2'       2     0(0.00%) |     13      12      15     12 |    0.17        0.00\n",
      "MQTT     connect       3     0(0.00%) |      0       0       0      0 |    0.33        0.00\n",
      "--------||-------|-------------|-------|-------|-------|-------|--------|-----------\n",
      "         Aggregated       6     0(0.00%) |      6       0      15      0 |    0.67        0.00\n",
      "\n",
      "Disconnected result code None\n",
      "Disconnected result code None\n",
      "Type     Name  # reqs      # fails |    Avg     Min     Max    Med |   req/s  failures/s\n",
      "--------||-------|-------------|-------|-------|-------|-------|--------|-----------\n",
      "MQTT     b'Device - 1'       2     0(0.00%) |     12      12      13     12 |    0.00        0.00\n",
      "MQTT     b'Device - 2'       3     0(0.00%) |     14      12      15     15 |    0.10        0.00\n",
      "MQTT     connect       5     0(0.00%) |      0       0       0      0 |    0.10        0.00\n",
      "--------||-------|-------------|-------|-------|-------|-------|--------|-----------\n",
      "         Aggregated      10     0(0.00%) |      6       0      15      0 |    0.20        0.00\n",
      "\n",
      "Type     Name  # reqs      # fails |    Avg     Min     Max    Med |   req/s  failures/s\n",
      "--------||-------|-------------|-------|-------|-------|-------|--------|-----------\n",
      "MQTT     b'Device - 1'       2     0(0.00%) |     12      12      13     12 |    0.00        0.00\n",
      "MQTT     b'Device - 2'       3     0(0.00%) |     14      12      15     15 |    0.10        0.00\n",
      "MQTT     connect       5     0(0.00%) |      0       0       0      0 |    0.10        0.00\n",
      "--------||-------|-------------|-------|-------|-------|-------|--------|-----------\n",
      "         Aggregated      10     0(0.00%) |      6       0      15      0 |    0.20        0.00\n",
      "\n",
      "Type     Name  # reqs      # fails |    Avg     Min     Max    Med |   req/s  failures/s\n",
      "--------||-------|-------------|-------|-------|-------|-------|--------|-----------\n",
      "MQTT     b'Device - 1'       2     0(0.00%) |     12      12      13     12 |    0.00        0.00\n",
      "MQTT     b'Device - 2'       3     0(0.00%) |     14      12      15     15 |    0.10        0.00\n",
      "MQTT     connect       5     0(0.00%) |      0       0       0      0 |    0.10        0.00\n",
      "--------||-------|-------------|-------|-------|-------|-------|--------|-----------\n",
      "         Aggregated      10     0(0.00%) |      6       0      15      0 |    0.20        0.00\n",
      "\n",
      "Disconnected result code None\n",
      "Type     Name  # reqs      # fails |    Avg     Min     Max    Med |   req/s  failures/s\n",
      "--------||-------|-------------|-------|-------|-------|-------|--------|-----------\n",
      "MQTT     b'Device - 1'       3     0(0.00%) |     14      12      17     13 |    0.10        0.00\n",
      "MQTT     b'Device - 2'       3     0(0.00%) |     14      12      15     15 |    0.20        0.00\n",
      "MQTT     connect       6     0(0.00%) |      0       0       0      0 |    0.30        0.00\n",
      "--------||-------|-------------|-------|-------|-------|-------|--------|-----------\n",
      "         Aggregated      12     0(0.00%) |      7       0      17      0 |    0.60        0.00\n",
      "\n",
      "Type     Name  # reqs      # fails |    Avg     Min     Max    Med |   req/s  failures/s\n",
      "--------||-------|-------------|-------|-------|-------|-------|--------|-----------\n",
      "MQTT     b'Device - 1'       3     0(0.00%) |     14      12      17     13 |    0.10        0.00\n",
      "MQTT     b'Device - 2'       3     0(0.00%) |     14      12      15     15 |    0.20        0.00\n",
      "MQTT     connect       6     0(0.00%) |      0       0       0      0 |    0.30        0.00\n",
      "--------||-------|-------------|-------|-------|-------|-------|--------|-----------\n",
      "         Aggregated      12     0(0.00%) |      7       0      17      0 |    0.60        0.00\n",
      "\n"
     ]
    },
    {
     "name": "stdout",
     "output_type": "stream",
     "text": [
      "Type     Name  # reqs      # fails |    Avg     Min     Max    Med |   req/s  failures/s\n",
      "--------||-------|-------------|-------|-------|-------|-------|--------|-----------\n",
      "MQTT     b'Device - 1'       3     0(0.00%) |     14      12      17     13 |    0.10        0.00\n",
      "MQTT     b'Device - 2'       3     0(0.00%) |     14      12      15     15 |    0.20        0.00\n",
      "MQTT     connect       6     0(0.00%) |      0       0       0      0 |    0.30        0.00\n",
      "--------||-------|-------------|-------|-------|-------|-------|--------|-----------\n",
      "         Aggregated      12     0(0.00%) |      7       0      17      0 |    0.60        0.00\n",
      "\n",
      "Disconnected result code None\n"
     ]
    }
   ],
   "source": [
    "!locust --headless -f mqtt_locust.py --host='127.0.0.1' -t 60  --users 2 --spawn-rate 1 "
   ]
  },
  {
   "cell_type": "code",
   "execution_count": null,
   "id": "3b42ec31",
   "metadata": {},
   "outputs": [],
   "source": [
    "#cmd = \"./mqtt_client.sh \"+str(user)\n",
    "#with Popen(cmd, stdout=PIPE, stderr=None, shell=True) as process:\n",
    "#    output1 = process.communicate()[0].decode(\"utf-8\")\n",
    "time.sleep(20)"
   ]
  },
  {
   "cell_type": "code",
   "execution_count": null,
   "id": "26baf96a",
   "metadata": {
    "scrolled": false
   },
   "outputs": [],
   "source": [
    "\n",
    "df= pd.read_csv('input_data.csv')\n",
    "print(df)"
   ]
  },
  {
   "cell_type": "code",
   "execution_count": null,
   "id": "5edcf7af",
   "metadata": {},
   "outputs": [],
   "source": [
    "#Minio Client\n",
    "client = Minio(minio_host, access_key = \"minio\", secret_key =\"minio123\",secure=False)\n",
    "# List objects from the bicket and notedown time  stamp  when they stored\n",
    "objects = client.list_objects(bucket_name,recursive=True)\n",
    "outtime = []\n",
    "for obj in objects:\n",
    "    outtime.append(obj.last_modified)#\n",
    "    client.remove_object(bucket_name, obj.object_name)\n"
   ]
  },
  {
   "cell_type": "code",
   "execution_count": null,
   "id": "7315e1e9",
   "metadata": {
    "scrolled": true
   },
   "outputs": [],
   "source": [
    "df['outtime']= outtime\n",
    "df['outtime']= pd.to_datetime(df['outtime']).dt.tz_convert(None)\n",
    "df['intime']= pd.to_datetime(df['intime'])\n",
    "df =df.sort_values(by=\"outtime\")\n",
    "display(df)\n",
    "print(df['outtime'].iloc[-1]-df['intime'].iloc[0])"
   ]
  },
  {
   "cell_type": "code",
   "execution_count": null,
   "id": "10f383a2",
   "metadata": {},
   "outputs": [],
   "source": [
    "def get_function_execution_time(cmd):\n",
    "    with Popen(cmd, stdout=PIPE, stderr=None, shell=True) as process:\n",
    "        return (process.communicate()[0].decode(\"utf-8\"))    \n"
   ]
  },
  {
   "cell_type": "code",
   "execution_count": null,
   "id": "58e9c028",
   "metadata": {},
   "outputs": [],
   "source": [
    "#cmd1 = \"sudo kubectl logs gateway-7b8d9dbb5b-rhnwl  -n openfaas -c gateway | grep getobject | cut -c 71-77 | tail -\"\n",
    "cmd1=\"ssh ubuntu@172.17.141.197 \"+\"sudo kubectl logs gateway-7b8d9dbb5b-ggwl6  -n openfaas -c gateway  | grep /function/scaling-aeneas-mqtt | cut -c 93-97 | tail -\"+str(len(outtime))\n",
    "cmd2=\"ssh ubuntu@172.17.141.197 \"+\"sudo kubectl logs gateway-7b8d9dbb5b-ggwl6  -n openfaas -c gateway  | grep /function/scaling-aeneas-tocloud | cut -c 96-101 | tail -\"+str(len(outtime))\n",
    "df['aeneas']=(get_function_execution_time(cmd1)).split(\"\\n\")[:-1]\n",
    "df['tocloud']=(get_function_execution_time(cmd2)).split(\"\\n\")[:-1]\n"
   ]
  },
  {
   "cell_type": "code",
   "execution_count": null,
   "id": "0b305551",
   "metadata": {
    "scrolled": true
   },
   "outputs": [],
   "source": [
    "#print(df['aeneas'])\n",
    "#print(df['tocloud'])\n",
    "#TPT: Total Processing Time\n",
    "#FET: Function Execution Time\n",
    "#CT: Communication Time\n",
    "df =df.sort_values(by=\"outtime\")\n",
    "df['TPT']=(df['outtime']-df['intime']).dt.seconds\n",
    "df['FET'] = (df['aeneas']).astype(float) + (df['tocloud']).astype(float)\n",
    "df['Waiting time']= (df['TPT']).astype(float) - df['FET']\n",
    "\n",
    "display(df)\n",
    "df.to_csv(\"data/\"+str(user)+\"_\"+str(iteration)+\"_\"+scenario+\".csv\")"
   ]
  },
  {
   "cell_type": "code",
   "execution_count": null,
   "id": "7bf30658",
   "metadata": {
    "scrolled": true
   },
   "outputs": [],
   "source": [
    "metrics = {'workload_type':str(user)+\"_\"+scenario,'workload_size':user,'Workload TPT':(df.loc[user-1, 'outtime'] - df.loc[0, 'intime']).total_seconds(),'Average Workload TPT':df['TPT'].mean(),'Average FET':df['FET'].mean(),'Average Waiting Time':df['Waiting Time'].mean()}\n",
    "print(metrics)"
   ]
  },
  {
   "cell_type": "code",
   "execution_count": null,
   "id": "b57aa799",
   "metadata": {},
   "outputs": [],
   "source": [
    "pre_url = PROMETHEUS + '/api/v1/query?query='\n",
    "timestamp= pd.to_datetime(df['outtime'].iloc[-1], format='%Y-%m-%d %H:%M:%S')\n",
    "time = (time.mktime(timestamp.timetuple()))\n",
    "#interval= int(df['TPT'].sum()) if int(df['TPT'].sum()) > 60  else 60\n"
   ]
  },
  {
   "cell_type": "code",
   "execution_count": null,
   "id": "69bfb5c5",
   "metadata": {},
   "outputs": [],
   "source": [
    "user=df.shape[0]\n",
    "interval = (df.loc[user-1, 'outtime'] - df.loc[0, 'intime']).total_seconds()\n",
    "interval= round(interval)"
   ]
  },
  {
   "cell_type": "code",
   "execution_count": null,
   "id": "9ac91c17",
   "metadata": {},
   "outputs": [],
   "source": [
    "interval= round((df.loc[user-1, 'outtime'] - df.loc[0, 'intime']).total_seconds()) if round((df.loc[user-1, 'outtime'] - df.loc[0, 'intime']).total_seconds()) > 60  else 60\n",
    "print(interval)"
   ]
  },
  {
   "cell_type": "code",
   "execution_count": null,
   "id": "af766581",
   "metadata": {},
   "outputs": [],
   "source": [
    "def getdataprometheus(url):\n",
    "    headers= {\"Accept\": \"application/json\"}\n",
    "    res = json.loads(requests.post(url=url, headers=headers).content.decode('utf8', 'ignore'))\n",
    "    data=res.get('data').get('result')[0].get('value')[1]\n",
    "    return data"
   ]
  },
  {
   "cell_type": "code",
   "execution_count": null,
   "id": "094384ba",
   "metadata": {},
   "outputs": [],
   "source": [
    "\n",
    "expr_cpu='sum(rate(container_cpu_usage_seconds_total{container_name!=\"POD\",namespace=~\"openfaas.*|default\"}[5m]))&time='+str(time)\n",
    "expr_memory='sum(container_memory_working_set_bytes{container_name!=\"POD\",namespace=~\"openfaas.*|default\"})&time='+str(time)\n",
    "expr_disk_read ='sum(rate(container_fs_reads_bytes_total{namespace=~\"openfaas.*|default\"}['+str(interval)+'s]))&time='+str(time)\n",
    "expr_disk_write='sum(rate(container_fs_writes_bytes_total{namespace=~\"openfaas.*|default\"}['+str(interval)+'s]))&time='+str(time)\n",
    "expr_network_transmit='sum(rate(container_network_transmit_bytes_total{namespace=~\"openfaas.*|default\"}['+str(interval)+'s]))&time='+str(time)\n",
    "expr_network_recieve='sum(rate(container_network_receive_bytes_total{namespace=~\"openfaas.*|default\"}['+str(interval)+'s]))&time='+str(time)\n",
    "#expr_cpu = '100 - (avg (irate(node_cpu_seconds_total{mode=\"idle\"}['+str(interval)+'s])) * 100)&time='+str(time)\n",
    "#expr_memory = '100 - ((sum(node_memory_MemAvailable_bytes) / sum(node_memory_MemTotal_bytes))*100)&time='+str(time)\n",
    "#expr_disk_read = 'sum(rate(node_disk_read_bytes_total['+str(interval)+'s]))&time='+str(time)\n",
    "#expr_disk_write =  'sum(rate(node_disk_written_bytes_total['+str(interval)+'s]))&time='+str(time)\n",
    "#expr_network_transmit= 'sum(rate(node_network_transmit_errs_total{device!~\"lo | veth. | docker.* | flannel.* | cali.* | cbr.\"}['+str(interval)+'s]))&time='+str(time)\n",
    "#expr_network_recieve='sum(rate(node_network_receive_packets_total{device!~\"lo | veth. | docker.* | flannel.* | cali.* | cbr.\"}['+str(interval)+'s]))&time='+str(time)\n",
    "metrics['C_CPU'] = getdataprometheus(pre_url+expr_cpu)\n",
    "metrics['C_RAM'] = getdataprometheus(pre_url+expr_memory)\n",
    "metrics['C_disk_read']=getdataprometheus(pre_url+expr_disk_read)\n",
    "metrics['C_disk_write']=getdataprometheus(pre_url+expr_disk_write)\n",
    "metrics['C_network_recieve']=getdataprometheus(pre_url+expr_network_transmit)\n",
    "metrics['C_network_transmit']=getdataprometheus(pre_url+expr_network_recieve)"
   ]
  },
  {
   "cell_type": "code",
   "execution_count": null,
   "id": "7874d2bd",
   "metadata": {},
   "outputs": [],
   "source": [
    "#Pod Stats\n",
    "expr_pod_cpu_aeneas_function = 'sum(rate(container_cpu_usage_seconds_total{container_name!=\"POD\",namespace=\"openfaas-fn\",pod=~\"scaling-aeneas-mqtt.*\"}['+str(interval)+'s]))&time='+str(time)\n",
    "expr_pod_cpu_mosquitto_broker = 'sum(rate(container_cpu_usage_seconds_total{container_name!=\"POD\",namespace=\"openfaas\",pod=~\"emqx.*\"}['+str(interval)+'s]))&time='+str(time)\n",
    "expr_pod_cpu_mosquitto_connector_aeneas = 'sum(rate(container_cpu_usage_seconds_total{container_name!=\"POD\",namespace=\"openfaas\",pod=~\"aeneas.*\"}['+str(interval)+'s]))&time='+str(time)\n",
    "expr_pod_cpu_mosquitto_connector_tocloud = 'sum(rate(container_cpu_usage_seconds_total{container_name!=\"POD\",namespace=\"openfaas\",pod=~\"tocloud.*\"}['+str(interval)+'s]))&time='+str(time)\n",
    "expr_pod_cpu_functions_all = 'sum(rate(container_cpu_usage_seconds_total{container_name!=\"POD\",namespace=\"openfaas-fn\"}['+str(interval)+'s]))&time='+str(time)\n",
    "\n",
    "\n",
    "metrics['pod_cpu_aeneas_function']=getdataprometheus(pre_url+expr_pod_cpu_aeneas_function)\n",
    "metrics['pod_cpu_mosquitto_broker']=getdataprometheus(pre_url+expr_pod_cpu_mosquitto_broker)\n",
    "metrics['pod_cpu_mosquitto_connector_aeneas']=getdataprometheus(pre_url+expr_pod_cpu_mosquitto_connector_aeneas)\n",
    "metrics['pod_cpu_mosquitto_connector_tocloud']=getdataprometheus(pre_url+expr_pod_cpu_mosquitto_connector_tocloud)\n",
    "metrics['pod_cpu_functions_all']=getdataprometheus(pre_url+expr_pod_cpu_functions_all)\n",
    "\n"
   ]
  },
  {
   "cell_type": "code",
   "execution_count": null,
   "id": "7edeb35d",
   "metadata": {},
   "outputs": [],
   "source": [
    "df_metrics = pd.read_csv(\"data/locus_emqx_data.csv\")\n",
    "df_metrics = df_metrics.append(metrics, ignore_index=True)\n"
   ]
  },
  {
   "cell_type": "code",
   "execution_count": null,
   "id": "1adadec1",
   "metadata": {},
   "outputs": [],
   "source": [
    "df_metrics.to_csv(\"data/locus_emqx_data.csv\",index=False)\n",
    "#df_metrics=df_metrics.sort_values(by=\"workload_size\")\n",
    "display(df_metrics)"
   ]
  },
  {
   "cell_type": "code",
   "execution_count": null,
   "id": "b314722d",
   "metadata": {},
   "outputs": [],
   "source": []
  },
  {
   "cell_type": "code",
   "execution_count": null,
   "id": "79fdc485",
   "metadata": {},
   "outputs": [],
   "source": []
  }
 ],
 "metadata": {
  "kernelspec": {
   "display_name": "Python 3 (ipykernel)",
   "language": "python",
   "name": "python3"
  },
  "language_info": {
   "codemirror_mode": {
    "name": "ipython",
    "version": 3
   },
   "file_extension": ".py",
   "mimetype": "text/x-python",
   "name": "python",
   "nbconvert_exporter": "python",
   "pygments_lexer": "ipython3",
   "version": "3.8.10"
  }
 },
 "nbformat": 4,
 "nbformat_minor": 5
}
