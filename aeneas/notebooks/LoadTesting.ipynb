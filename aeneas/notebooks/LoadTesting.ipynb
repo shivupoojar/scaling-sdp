{
 "cells": [
  {
   "cell_type": "code",
   "execution_count": 3,
   "id": "295cb3fb",
   "metadata": {},
   "outputs": [],
   "source": [
    "!cd ~/scaling-sdp/aeneas/dataset"
   ]
  },
  {
   "cell_type": "code",
   "execution_count": 5,
   "id": "353a7225",
   "metadata": {},
   "outputs": [
    {
     "name": "stdout",
     "output_type": "stream",
     "text": [
      "^C\r\n"
     ]
    }
   ],
   "source": [
    "!ssh ubuntu@172.17.141.197 \"hey -m POST -D p001.mp3 -z 100s -c 2 -q 0.1 http://localhost:8080/function/aeneas\""
   ]
  },
  {
   "cell_type": "code",
   "execution_count": null,
   "id": "c7a2d207",
   "metadata": {},
   "outputs": [],
   "source": []
  }
 ],
 "metadata": {
  "kernelspec": {
   "display_name": "Python 3 (ipykernel)",
   "language": "python",
   "name": "python3"
  },
  "language_info": {
   "codemirror_mode": {
    "name": "ipython",
    "version": 3
   },
   "file_extension": ".py",
   "mimetype": "text/x-python",
   "name": "python",
   "nbconvert_exporter": "python",
   "pygments_lexer": "ipython3",
   "version": "3.8.10"
  }
 },
 "nbformat": 4,
 "nbformat_minor": 5
}
