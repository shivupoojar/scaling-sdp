{
 "cells": [
  {
   "cell_type": "markdown",
   "id": "7e6c7847",
   "metadata": {},
   "source": [
    "## KEDA based deployment"
   ]
  },
  {
   "cell_type": "code",
   "execution_count": 5,
   "id": "90817e9c",
   "metadata": {},
   "outputs": [
    {
     "name": "stdout",
     "output_type": "stream",
     "text": [
      "secret/rabbitmq-consumer-secret created\n",
      "scaledobject.keda.sh/rabbitmq-connector created\n",
      "triggerauthentication.keda.sh/rabbitmq-consumer-trigger created\n"
     ]
    }
   ],
   "source": [
    "#Create Scaler\n",
    "!ssh ubuntu@172.17.141.197 \"cd /home/ubuntu/rabbitmq-testing/sample-go-rabbitmq/deploy;sudo kubectl apply -f deploy-consumer.yaml\"\n"
   ]
  },
  {
   "cell_type": "code",
   "execution_count": null,
   "id": "cd0eb5a4",
   "metadata": {},
   "outputs": [],
   "source": [
    "#Create Scaler\n",
    "!ssh ubuntu@172.17.141.197 \"cd /home/ubuntu/rabbitmq-testing/sample-go-rabbitmq/deploy;sudo kubectl delete -f deploy-consumer.yaml\"\n"
   ]
  }
 ],
 "metadata": {
  "kernelspec": {
   "display_name": "Python 3 (ipykernel)",
   "language": "python",
   "name": "python3"
  },
  "language_info": {
   "codemirror_mode": {
    "name": "ipython",
    "version": 3
   },
   "file_extension": ".py",
   "mimetype": "text/x-python",
   "name": "python",
   "nbconvert_exporter": "python",
   "pygments_lexer": "ipython3",
   "version": "3.8.10"
  }
 },
 "nbformat": 4,
 "nbformat_minor": 5
}
