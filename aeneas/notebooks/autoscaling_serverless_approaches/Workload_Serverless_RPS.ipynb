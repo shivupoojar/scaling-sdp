{
 "cells": [
  {
   "cell_type": "markdown",
   "id": "b3c1f212",
   "metadata": {},
   "source": [
    "# Deploying functions "
   ]
  },
  {
   "cell_type": "code",
   "execution_count": 185,
   "id": "0ed36b5a",
   "metadata": {},
   "outputs": [],
   "source": [
    "#Reference\n",
    "#https://docs.openfaas.com/tutorials/kubernetes-hpa/"
   ]
  },
  {
   "cell_type": "code",
   "execution_count": 186,
   "id": "3205dd11",
   "metadata": {},
   "outputs": [
    {
     "name": "stdout",
     "output_type": "stream",
     "text": [
      "Deploying: aeneas.\n",
      "\n",
      "Deployed. 202 Accepted.\n",
      "URL: http://127.0.0.1:8080/function/aeneas\n",
      "\n"
     ]
    }
   ],
   "source": [
    "#Deploy function and enable the function auto scaling by openfaas\n",
    "!ssh ubuntu@172.17.141.197 \"cd scalingsdp;faas deploy  -f aeneas.yml --annotation topic=\"aeneas\" --label com.openfaas.scale.min=1 --label com.openfaas.scale.max=15 --label com.openfaas.scale.type=rps --label com.openfaas.scale.target-proportion=0.90;\""
   ]
  },
  {
   "cell_type": "code",
   "execution_count": 187,
   "id": "77641d47",
   "metadata": {},
   "outputs": [
    {
     "name": "stdout",
     "output_type": "stream",
     "text": [
      "Deploying: scaling-aeneas-tocloud.\n",
      "\n",
      "Deployed. 202 Accepted.\n",
      "URL: http://127.0.0.1:8080/function/scaling-aeneas-tocloud\n",
      "\n"
     ]
    }
   ],
   "source": [
    "#Deploy function and enable the function auto scaling by openfaas\n",
    "!ssh ubuntu@172.17.141.197 \"cd scalingsdp;faas deploy  -f scaling-aeneas-tocloud.yml --annotation topic=\"tocloud\" --label com.openfaas.scale.min=1 --label com.openfaas.scale.max=5 --label com.openfaas.scale.target=50 --label com.openfaas.scale.type=rps --label com.openfaas.scale.target-proportion=0.90;\""
   ]
  },
  {
   "cell_type": "code",
   "execution_count": 188,
   "id": "64da125f",
   "metadata": {},
   "outputs": [
    {
     "name": "stdout",
     "output_type": "stream",
     "text": [
      "Deploying: getobject.\n",
      "\n",
      "Deployed. 202 Accepted.\n",
      "URL: http://127.0.0.1:8080/function/getobject\n",
      "\n"
     ]
    }
   ],
   "source": [
    "!ssh ubuntu@172.17.141.197 \"cd scalingsdp;faas deploy  -f getobject.yml  --label com.openfaas.scale.min=1 --label com.openfaas.scale.max=1 --label com.openfaas.scale.target=50 --label com.openfaas.scale.type=rps --label com.openfaas.scale.target-proportion=0.90;\""
   ]
  },
  {
   "cell_type": "code",
   "execution_count": 189,
   "id": "929cc65b",
   "metadata": {},
   "outputs": [
    {
     "name": "stdout",
     "output_type": "stream",
     "text": [
      "Deploying: pubrabbitmq.\n",
      "\n",
      "Deployed. 202 Accepted.\n",
      "URL: http://127.0.0.1:8080/function/pubrabbitmq\n",
      "\n"
     ]
    }
   ],
   "source": [
    "!ssh ubuntu@172.17.141.197 \"cd scalingsdp;faas deploy  -f pubrabbitmq.yml  --label com.openfaas.scale.min=1 --label com.openfaas.scale.max=1 --label com.openfaas.scale.target=50 --label com.openfaas.scale.type=rps --label com.openfaas.scale.target-proportion=0.90;\""
   ]
  },
  {
   "cell_type": "code",
   "execution_count": 190,
   "id": "fb035310",
   "metadata": {},
   "outputs": [
    {
     "name": "stdout",
     "output_type": "stream",
     "text": [
      "Name:               aeneas\r\n",
      "Status:             Ready\r\n",
      "Replicas:           1\r\n",
      "Available Replicas: 1\r\n",
      "Invocations:        40510\r\n",
      "Image:              shivupoojar/pythonaeneasrabbitmq:latest\r\n",
      "Function Process:   python index.py\r\n",
      "URL:                http://127.0.0.1:8080/function/aeneas\r\n",
      "Async URL:          http://127.0.0.1:8080/async-function/aeneas\r\n",
      "Labels:\r\n",
      " com.openfaas.scale.min: 1\r\n",
      " com.openfaas.scale.target-proportion: 0.90\r\n",
      " com.openfaas.scale.type: rps\r\n",
      " faas_function: aeneas\r\n",
      " uid: 266714417\r\n",
      " com.openfaas.scale.max: 15\r\n",
      "Annotations:\r\n",
      " prometheus.io.scrape: false\r\n",
      " topic: aeneas\r\n",
      "Requests:  CPU: 1\r\n",
      " Memory: 512Mi\r\n"
     ]
    }
   ],
   "source": [
    "!ssh ubuntu@172.17.141.197 \"faas describe aeneas\""
   ]
  },
  {
   "cell_type": "markdown",
   "id": "c51c7291",
   "metadata": {},
   "source": [
    "# Deploying Rabbitmq Connector "
   ]
  },
  {
   "cell_type": "code",
   "execution_count": 191,
   "id": "1b7ec5a5",
   "metadata": {},
   "outputs": [
    {
     "name": "stdout",
     "output_type": "stream",
     "text": [
      "configmap/rabbitmq-connector-configmap unchanged\r\n"
     ]
    }
   ],
   "source": [
    "# Deploying connector configurartion\n",
    "!ssh ubuntu@172.17.141.197 \"cd rabbitmq-connector/artifacts;sudo kubectl apply -f cf.yaml\""
   ]
  },
  {
   "cell_type": "code",
   "execution_count": 192,
   "id": "407f3d5c",
   "metadata": {},
   "outputs": [
    {
     "name": "stdout",
     "output_type": "stream",
     "text": [
      "deployment.apps \"rabbitmq-connector\" deleted\r\n"
     ]
    }
   ],
   "source": [
    "# Deploy connector\n",
    "!ssh ubuntu@172.17.141.197 \"cd rabbitmq-connector/artifacts;sudo kubectl delete  -f configmap.yaml\""
   ]
  },
  {
   "cell_type": "code",
   "execution_count": 193,
   "id": "cfdc2819",
   "metadata": {},
   "outputs": [
    {
     "name": "stdout",
     "output_type": "stream",
     "text": [
      "deployment.apps/rabbitmq-connector created\r\n"
     ]
    }
   ],
   "source": [
    "# Deploy connector\n",
    "!ssh ubuntu@172.17.141.197 \"cd rabbitmq-connector/artifacts;sudo kubectl apply  -f configmap.yaml\""
   ]
  },
  {
   "cell_type": "code",
   "execution_count": 194,
   "id": "884c6e8f",
   "metadata": {},
   "outputs": [
    {
     "name": "stdout",
     "output_type": "stream",
     "text": [
      "NAME                                  READY   STATUS              RESTARTS         AGE\r\n",
      "nats-5b77986b8-48p2x                  1/1     Running             4 (8d ago)       44d\r\n",
      "queue-worker-7d8668444f-tmq7b         1/1     Running             5 (8d ago)       30d\r\n",
      "alertmanager-6cd7bd5c64-hrcrt         1/1     Running             4 (8d ago)       30d\r\n",
      "basic-auth-plugin-78b958969c-tnpck    1/1     Running             4 (8d ago)       30d\r\n",
      "gateway-bf4f5d6f7-4q7kn               2/2     Running             10 (6d23h ago)   30d\r\n",
      "prometheus-7678c644d6-k28wr           1/1     Running             0                2d7h\r\n",
      "rabbitmq-connector-64cbd548f5-gdsqk   0/1     ContainerCreating   0                2s\r\n"
     ]
    }
   ],
   "source": [
    "!ssh ubuntu@172.17.141.197 \"sudo kubectl get po -n openfaas\" "
   ]
  },
  {
   "cell_type": "markdown",
   "id": "09820ed2",
   "metadata": {},
   "source": [
    "# Experiments "
   ]
  },
  {
   "cell_type": "code",
   "execution_count": 195,
   "id": "27a95447",
   "metadata": {},
   "outputs": [],
   "source": [
    "import sys\n",
    "import  datetime\n",
    "import os\n",
    "from minio import Minio\n",
    "import csv\n",
    "import json\n",
    "import pandas as pd\n",
    "import time\n",
    "import subprocess\n",
    "from subprocess import Popen, PIPE\n",
    "import requests\n",
    "from IPython.display import display"
   ]
  },
  {
   "cell_type": "code",
   "execution_count": 196,
   "id": "e6c110ef",
   "metadata": {},
   "outputs": [],
   "source": [
    "scenario = \"rps_keda\"\n",
    "user=10\n",
    "iteration=0.08\n",
    "minio_host=\"172.17.141.197:9001\"\n",
    "bucket_name=\"aeneas-output\"\n",
    "PROMETHEUS = 'http://172.17.141.197:31022/'\n",
    "time_locust=300\n"
   ]
  },
  {
   "cell_type": "code",
   "execution_count": 197,
   "id": "b897c7c2",
   "metadata": {},
   "outputs": [],
   "source": [
    "!rm input_data.csv\n",
    "!touch input_data.csv\n",
    "!echo \"intime\" > input_data.csv"
   ]
  },
  {
   "cell_type": "code",
   "execution_count": 198,
   "id": "d0966936",
   "metadata": {},
   "outputs": [],
   "source": [
    "#Minio Client\n",
    "client = Minio(minio_host, access_key = \"minio\", secret_key =\"minio123\",secure=False)\n",
    "# List objects from the bicket and notedown time  stamp  when they stored\n",
    "objects = client.list_objects(bucket_name,recursive=True)\n",
    "outtime = []\n",
    "for obj in objects:\n",
    "    client.remove_object(bucket_name, obj.object_name)"
   ]
  },
  {
   "cell_type": "code",
   "execution_count": 199,
   "id": "7aabce53",
   "metadata": {
    "scrolled": false
   },
   "outputs": [],
   "source": [
    "!locust --headless -f testingrabbitlocust.py --host='127.0.0.1' --skip-log -t 300s  --users 10 --spawn-rate 0.08"
   ]
  },
  {
   "cell_type": "code",
   "execution_count": 200,
   "id": "b1849ce7",
   "metadata": {},
   "outputs": [],
   "source": [
    "time.sleep(80)"
   ]
  },
  {
   "cell_type": "code",
   "execution_count": 201,
   "id": "361c8a3a",
   "metadata": {},
   "outputs": [
    {
     "name": "stdout",
     "output_type": "stream",
     "text": [
      "                           intime\n",
      "0    '2023-01-19 18:10:46.784608'\n",
      "1    '2023-01-19 18:10:57.361472'\n",
      "2    '2023-01-19 18:10:59.275737'\n",
      "3    '2023-01-19 18:11:04.348511'\n",
      "4    '2023-01-19 18:11:08.825738'\n",
      "..                            ...\n",
      "236  '2023-01-19 18:15:40.446405'\n",
      "237  '2023-01-19 18:15:40.480791'\n",
      "238  '2023-01-19 18:15:40.662053'\n",
      "239  '2023-01-19 18:15:43.329973'\n",
      "240  '2023-01-19 18:15:43.907219'\n",
      "\n",
      "[241 rows x 1 columns]\n"
     ]
    }
   ],
   "source": [
    "df= pd.read_csv('input_data.csv')\n",
    "print(df)"
   ]
  },
  {
   "cell_type": "code",
   "execution_count": 202,
   "id": "b7578ed7",
   "metadata": {},
   "outputs": [],
   "source": [
    "#Minio Client\n",
    "client = Minio(minio_host, access_key = \"minio\", secret_key =\"minio123\",secure=False)\n",
    "# List objects from the bicket and notedown time  stamp  when they stored\n",
    "objects = client.list_objects(bucket_name,recursive=True)\n",
    "outtime = []\n",
    "for obj in objects:\n",
    "    outtime.append(obj.last_modified)#\n",
    "    client.remove_object(bucket_name, obj.object_name)"
   ]
  },
  {
   "cell_type": "code",
   "execution_count": 210,
   "id": "89ad0c15",
   "metadata": {},
   "outputs": [],
   "source": [
    "outtime2 = df['intime'].shape[0]\n"
   ]
  },
  {
   "cell_type": "code",
   "execution_count": 213,
   "id": "96890f42",
   "metadata": {},
   "outputs": [
    {
     "data": {
      "text/html": [
       "<div>\n",
       "<style scoped>\n",
       "    .dataframe tbody tr th:only-of-type {\n",
       "        vertical-align: middle;\n",
       "    }\n",
       "\n",
       "    .dataframe tbody tr th {\n",
       "        vertical-align: top;\n",
       "    }\n",
       "\n",
       "    .dataframe thead th {\n",
       "        text-align: right;\n",
       "    }\n",
       "</style>\n",
       "<table border=\"1\" class=\"dataframe\">\n",
       "  <thead>\n",
       "    <tr style=\"text-align: right;\">\n",
       "      <th></th>\n",
       "      <th>intime</th>\n",
       "      <th>outtime</th>\n",
       "    </tr>\n",
       "  </thead>\n",
       "  <tbody>\n",
       "    <tr>\n",
       "      <th>0</th>\n",
       "      <td>2023-01-19 18:10:46.784608</td>\n",
       "      <td>2023-01-19 18:11:02.813</td>\n",
       "    </tr>\n",
       "    <tr>\n",
       "      <th>1</th>\n",
       "      <td>2023-01-19 18:10:57.361472</td>\n",
       "      <td>2023-01-19 18:11:05.358</td>\n",
       "    </tr>\n",
       "    <tr>\n",
       "      <th>2</th>\n",
       "      <td>2023-01-19 18:10:59.275737</td>\n",
       "      <td>2023-01-19 18:11:09.641</td>\n",
       "    </tr>\n",
       "    <tr>\n",
       "      <th>3</th>\n",
       "      <td>2023-01-19 18:11:04.348511</td>\n",
       "      <td>2023-01-19 18:11:13.858</td>\n",
       "    </tr>\n",
       "    <tr>\n",
       "      <th>4</th>\n",
       "      <td>2023-01-19 18:11:08.825738</td>\n",
       "      <td>2023-01-19 18:11:18.083</td>\n",
       "    </tr>\n",
       "    <tr>\n",
       "      <th>...</th>\n",
       "      <td>...</td>\n",
       "      <td>...</td>\n",
       "    </tr>\n",
       "    <tr>\n",
       "      <th>236</th>\n",
       "      <td>2023-01-19 18:15:40.446405</td>\n",
       "      <td>2023-01-19 18:15:43.624</td>\n",
       "    </tr>\n",
       "    <tr>\n",
       "      <th>237</th>\n",
       "      <td>2023-01-19 18:15:40.480791</td>\n",
       "      <td>2023-01-19 18:15:44.064</td>\n",
       "    </tr>\n",
       "    <tr>\n",
       "      <th>238</th>\n",
       "      <td>2023-01-19 18:15:40.662053</td>\n",
       "      <td>2023-01-19 18:15:45.726</td>\n",
       "    </tr>\n",
       "    <tr>\n",
       "      <th>239</th>\n",
       "      <td>2023-01-19 18:15:43.329973</td>\n",
       "      <td>2023-01-19 18:15:47.776</td>\n",
       "    </tr>\n",
       "    <tr>\n",
       "      <th>240</th>\n",
       "      <td>2023-01-19 18:15:43.907219</td>\n",
       "      <td>2023-01-19 18:15:47.883</td>\n",
       "    </tr>\n",
       "  </tbody>\n",
       "</table>\n",
       "<p>241 rows × 2 columns</p>\n",
       "</div>"
      ],
      "text/plain": [
       "                        intime                 outtime\n",
       "0   2023-01-19 18:10:46.784608 2023-01-19 18:11:02.813\n",
       "1   2023-01-19 18:10:57.361472 2023-01-19 18:11:05.358\n",
       "2   2023-01-19 18:10:59.275737 2023-01-19 18:11:09.641\n",
       "3   2023-01-19 18:11:04.348511 2023-01-19 18:11:13.858\n",
       "4   2023-01-19 18:11:08.825738 2023-01-19 18:11:18.083\n",
       "..                         ...                     ...\n",
       "236 2023-01-19 18:15:40.446405 2023-01-19 18:15:43.624\n",
       "237 2023-01-19 18:15:40.480791 2023-01-19 18:15:44.064\n",
       "238 2023-01-19 18:15:40.662053 2023-01-19 18:15:45.726\n",
       "239 2023-01-19 18:15:43.329973 2023-01-19 18:15:47.776\n",
       "240 2023-01-19 18:15:43.907219 2023-01-19 18:15:47.883\n",
       "\n",
       "[241 rows x 2 columns]"
      ]
     },
     "metadata": {},
     "output_type": "display_data"
    },
    {
     "name": "stdout",
     "output_type": "stream",
     "text": [
      "0 days 00:05:01.098392\n"
     ]
    }
   ],
   "source": [
    "df['outtime']= outtime[:-outtime2]\n",
    "\n",
    "df['outtime']= pd.to_datetime(df['outtime'],errors='coerce').dt.tz_convert(None)\n",
    "df['intime']= pd.to_datetime(df['intime'],errors='coerce')\n",
    "df =df.sort_values(by=\"outtime\")\n",
    "display(df)\n",
    "print(df['outtime'].iloc[-1]-df['intime'].iloc[0])"
   ]
  },
  {
   "cell_type": "code",
   "execution_count": 224,
   "id": "7529fc9b",
   "metadata": {},
   "outputs": [],
   "source": [
    "outtime=df['outtime']"
   ]
  },
  {
   "cell_type": "code",
   "execution_count": 227,
   "id": "ce3c7bd0",
   "metadata": {},
   "outputs": [],
   "source": [
    "def get_function_execution_time(cmd):\n",
    "    with Popen(cmd, stdout=PIPE, stderr=None, shell=True) as process:\n",
    "        return (process.communicate()[0].decode(\"utf-8\"))"
   ]
  },
  {
   "cell_type": "code",
   "execution_count": 228,
   "id": "c571693d",
   "metadata": {},
   "outputs": [
    {
     "data": {
      "text/html": [
       "<div>\n",
       "<style scoped>\n",
       "    .dataframe tbody tr th:only-of-type {\n",
       "        vertical-align: middle;\n",
       "    }\n",
       "\n",
       "    .dataframe tbody tr th {\n",
       "        vertical-align: top;\n",
       "    }\n",
       "\n",
       "    .dataframe thead th {\n",
       "        text-align: right;\n",
       "    }\n",
       "</style>\n",
       "<table border=\"1\" class=\"dataframe\">\n",
       "  <thead>\n",
       "    <tr style=\"text-align: right;\">\n",
       "      <th></th>\n",
       "      <th>intime</th>\n",
       "      <th>outtime</th>\n",
       "      <th>aeneas</th>\n",
       "      <th>tocloud</th>\n",
       "      <th>pubrabbitmq</th>\n",
       "    </tr>\n",
       "  </thead>\n",
       "  <tbody>\n",
       "    <tr>\n",
       "      <th>0</th>\n",
       "      <td>2023-01-19 18:10:46.784608</td>\n",
       "      <td>2023-01-19 18:11:02.813</td>\n",
       "      <td>- 0.</td>\n",
       "      <td>0.0437</td>\n",
       "      <td>0.0330</td>\n",
       "    </tr>\n",
       "    <tr>\n",
       "      <th>1</th>\n",
       "      <td>2023-01-19 18:10:57.361472</td>\n",
       "      <td>2023-01-19 18:11:05.358</td>\n",
       "      <td>5.34</td>\n",
       "      <td>0.0409</td>\n",
       "      <td>0.0362</td>\n",
       "    </tr>\n",
       "    <tr>\n",
       "      <th>2</th>\n",
       "      <td>2023-01-19 18:10:59.275737</td>\n",
       "      <td>2023-01-19 18:11:09.641</td>\n",
       "      <td>5.98</td>\n",
       "      <td>0.0490</td>\n",
       "      <td>0.0468</td>\n",
       "    </tr>\n",
       "    <tr>\n",
       "      <th>3</th>\n",
       "      <td>2023-01-19 18:11:04.348511</td>\n",
       "      <td>2023-01-19 18:11:13.858</td>\n",
       "      <td>5.20</td>\n",
       "      <td>0.0605</td>\n",
       "      <td>0.0324</td>\n",
       "    </tr>\n",
       "    <tr>\n",
       "      <th>4</th>\n",
       "      <td>2023-01-19 18:11:08.825738</td>\n",
       "      <td>2023-01-19 18:11:18.083</td>\n",
       "      <td>4.93</td>\n",
       "      <td>0.0367</td>\n",
       "      <td>0.0500</td>\n",
       "    </tr>\n",
       "    <tr>\n",
       "      <th>...</th>\n",
       "      <td>...</td>\n",
       "      <td>...</td>\n",
       "      <td>...</td>\n",
       "      <td>...</td>\n",
       "      <td>...</td>\n",
       "    </tr>\n",
       "    <tr>\n",
       "      <th>236</th>\n",
       "      <td>2023-01-19 18:15:40.446405</td>\n",
       "      <td>2023-01-19 18:15:43.624</td>\n",
       "      <td>5.17</td>\n",
       "      <td>0.0422</td>\n",
       "      <td>0.0514</td>\n",
       "    </tr>\n",
       "    <tr>\n",
       "      <th>237</th>\n",
       "      <td>2023-01-19 18:15:40.480791</td>\n",
       "      <td>2023-01-19 18:15:44.064</td>\n",
       "      <td>4.37</td>\n",
       "      <td>0.0358</td>\n",
       "      <td>0.0443</td>\n",
       "    </tr>\n",
       "    <tr>\n",
       "      <th>238</th>\n",
       "      <td>2023-01-19 18:15:40.662053</td>\n",
       "      <td>2023-01-19 18:15:45.726</td>\n",
       "      <td>7.32</td>\n",
       "      <td>0.0396</td>\n",
       "      <td>0.0332</td>\n",
       "    </tr>\n",
       "    <tr>\n",
       "      <th>239</th>\n",
       "      <td>2023-01-19 18:15:43.329973</td>\n",
       "      <td>2023-01-19 18:15:47.776</td>\n",
       "      <td>7.29</td>\n",
       "      <td>0.0458</td>\n",
       "      <td>0.0340</td>\n",
       "    </tr>\n",
       "    <tr>\n",
       "      <th>240</th>\n",
       "      <td>2023-01-19 18:15:43.907219</td>\n",
       "      <td>2023-01-19 18:15:47.883</td>\n",
       "      <td>4.20</td>\n",
       "      <td>0.0376</td>\n",
       "      <td>0.0321</td>\n",
       "    </tr>\n",
       "  </tbody>\n",
       "</table>\n",
       "<p>241 rows × 5 columns</p>\n",
       "</div>"
      ],
      "text/plain": [
       "                        intime                 outtime aeneas tocloud  \\\n",
       "0   2023-01-19 18:10:46.784608 2023-01-19 18:11:02.813   - 0.  0.0437   \n",
       "1   2023-01-19 18:10:57.361472 2023-01-19 18:11:05.358   5.34  0.0409   \n",
       "2   2023-01-19 18:10:59.275737 2023-01-19 18:11:09.641   5.98  0.0490   \n",
       "3   2023-01-19 18:11:04.348511 2023-01-19 18:11:13.858   5.20  0.0605   \n",
       "4   2023-01-19 18:11:08.825738 2023-01-19 18:11:18.083   4.93  0.0367   \n",
       "..                         ...                     ...    ...     ...   \n",
       "236 2023-01-19 18:15:40.446405 2023-01-19 18:15:43.624   5.17  0.0422   \n",
       "237 2023-01-19 18:15:40.480791 2023-01-19 18:15:44.064   4.37  0.0358   \n",
       "238 2023-01-19 18:15:40.662053 2023-01-19 18:15:45.726   7.32  0.0396   \n",
       "239 2023-01-19 18:15:43.329973 2023-01-19 18:15:47.776   7.29  0.0458   \n",
       "240 2023-01-19 18:15:43.907219 2023-01-19 18:15:47.883   4.20  0.0376   \n",
       "\n",
       "    pubrabbitmq  \n",
       "0        0.0330  \n",
       "1        0.0362  \n",
       "2        0.0468  \n",
       "3        0.0324  \n",
       "4        0.0500  \n",
       "..          ...  \n",
       "236      0.0514  \n",
       "237      0.0443  \n",
       "238      0.0332  \n",
       "239      0.0340  \n",
       "240      0.0321  \n",
       "\n",
       "[241 rows x 5 columns]"
      ]
     },
     "execution_count": 228,
     "metadata": {},
     "output_type": "execute_result"
    }
   ],
   "source": [
    "#cmd1 = \"sudo kubectl logs gateway-7b8d9dbb5b-rhnwl  -n openfaas -c gateway | grep getobject | cut -c 71-77 | tail -\"\n",
    "cmd1=\"ssh ubuntu@172.17.141.197 \"+\"sudo kubectl logs gateway-bf4f5d6f7-4q7kn  -n openfaas -c gateway  | grep /function/aeneas | grep 200 | cut -c 80-83 | tail -\"+str(len(outtime))\n",
    "cmd2=\"ssh ubuntu@172.17.141.197 \"+\"sudo kubectl logs gateway-bf4f5d6f7-4q7kn -n openfaas -c gateway  | grep /function/scaling-aeneas-tocloud | cut -c 96-101 | tail -\"+str(len(outtime))\n",
    "cmd3=\"ssh ubuntu@172.17.141.197 \"+\"sudo kubectl logs gateway-bf4f5d6f7-4q7kn -n openfaas -c gateway  | grep /function/getobject | grep POST | cut -c 71-76  | tail -\"+str(len(outtime))\n",
    "cmd4=\"ssh ubuntu@172.17.141.197 \"+\"sudo kubectl logs gateway-bf4f5d6f7-4q7kn -n openfaas -c gateway  | grep /function/pubrabbitmq | grep POST | cut -c 73-78 | tail -\"+str(len(outtime))\n",
    "df['aeneas']=(get_function_execution_time(cmd1)).split(\"\\n\")[:-1]\n",
    "#df['aeneas']=(pd.to_timedelta(df['aeneas'].astype(float), unit='s'))\n",
    "\n",
    "df['tocloud']=(get_function_execution_time(cmd2)).split(\"\\n\")[:-1]\n",
    "#df['tocloud']=(pd.to_timedelta(df['tocloud'].astype(float), unit='s'))\n",
    "\n",
    "#df['getobject']=(get_function_execution_time(cmd3)).split(\"\\n\")[:-1]\n",
    "df['pubrabbitmq']=((get_function_execution_time(cmd4)).split(\"\\n\")[:-1])\n",
    "#df['pubrabbitmq']=(pd.to_timedelta(df['pubrabbitmq'].astype(float), unit='s'))\n",
    "\n",
    "df"
   ]
  },
  {
   "cell_type": "code",
   "execution_count": 229,
   "id": "ef1ebee4",
   "metadata": {},
   "outputs": [
    {
     "ename": "ValueError",
     "evalue": "could not convert string to float: '- 0.'",
     "output_type": "error",
     "traceback": [
      "\u001b[0;31m---------------------------------------------------------------------------\u001b[0m",
      "\u001b[0;31mValueError\u001b[0m                                Traceback (most recent call last)",
      "Input \u001b[0;32mIn [229]\u001b[0m, in \u001b[0;36m<cell line: 7>\u001b[0;34m()\u001b[0m\n\u001b[1;32m      5\u001b[0m df[\u001b[38;5;124m'\u001b[39m\u001b[38;5;124mTPT\u001b[39m\u001b[38;5;124m'\u001b[39m]\u001b[38;5;241m=\u001b[39mdf[\u001b[38;5;124m'\u001b[39m\u001b[38;5;124mTPT\u001b[39m\u001b[38;5;124m'\u001b[39m]\u001b[38;5;241m.\u001b[39mastype(\u001b[38;5;28mfloat\u001b[39m)\n\u001b[1;32m      6\u001b[0m df[\u001b[38;5;124m'\u001b[39m\u001b[38;5;124mPT\u001b[39m\u001b[38;5;124m'\u001b[39m]\u001b[38;5;241m=\u001b[39m df[\u001b[38;5;124m'\u001b[39m\u001b[38;5;124mTPT\u001b[39m\u001b[38;5;124m'\u001b[39m]\u001b[38;5;241m.\u001b[39mround(decimals \u001b[38;5;241m=\u001b[39m \u001b[38;5;241m0\u001b[39m)\n\u001b[0;32m----> 7\u001b[0m df[\u001b[38;5;124m'\u001b[39m\u001b[38;5;124mFET\u001b[39m\u001b[38;5;124m'\u001b[39m] \u001b[38;5;241m=\u001b[39m \u001b[43m(\u001b[49m\u001b[43mdf\u001b[49m\u001b[43m[\u001b[49m\u001b[38;5;124;43m'\u001b[39;49m\u001b[38;5;124;43maeneas\u001b[39;49m\u001b[38;5;124;43m'\u001b[39;49m\u001b[43m]\u001b[49m\u001b[43m)\u001b[49m\u001b[38;5;241;43m.\u001b[39;49m\u001b[43mastype\u001b[49m\u001b[43m(\u001b[49m\u001b[38;5;28;43mfloat\u001b[39;49m\u001b[43m)\u001b[49m \u001b[38;5;241m+\u001b[39m (df[\u001b[38;5;124m'\u001b[39m\u001b[38;5;124mtocloud\u001b[39m\u001b[38;5;124m'\u001b[39m])\u001b[38;5;241m.\u001b[39mastype(\u001b[38;5;28mfloat\u001b[39m)\n\u001b[1;32m      8\u001b[0m \u001b[38;5;66;03m#df['MQ time']= ((df['TPT']).astype(float) - df['FET'])\u001b[39;00m\n\u001b[1;32m      9\u001b[0m df[\u001b[38;5;124m\"\u001b[39m\u001b[38;5;124mscenario\u001b[39m\u001b[38;5;124m\"\u001b[39m]\u001b[38;5;241m=\u001b[39m \u001b[38;5;124m\"\u001b[39m\u001b[38;5;124m\"\u001b[39m\u001b[38;5;241m+\u001b[39m\u001b[38;5;28mstr\u001b[39m(user)\u001b[38;5;241m+\u001b[39m\u001b[38;5;124m\"\u001b[39m\u001b[38;5;124m_\u001b[39m\u001b[38;5;124m\"\u001b[39m\u001b[38;5;241m+\u001b[39m\u001b[38;5;28mstr\u001b[39m(iteration)\u001b[38;5;241m+\u001b[39m\u001b[38;5;124m\"\u001b[39m\u001b[38;5;124m_\u001b[39m\u001b[38;5;124m\"\u001b[39m\u001b[38;5;241m+\u001b[39mscenario\n",
      "File \u001b[0;32m~/.local/lib/python3.8/site-packages/pandas/core/generic.py:5912\u001b[0m, in \u001b[0;36mNDFrame.astype\u001b[0;34m(self, dtype, copy, errors)\u001b[0m\n\u001b[1;32m   5905\u001b[0m     results \u001b[38;5;241m=\u001b[39m [\n\u001b[1;32m   5906\u001b[0m         \u001b[38;5;28mself\u001b[39m\u001b[38;5;241m.\u001b[39miloc[:, i]\u001b[38;5;241m.\u001b[39mastype(dtype, copy\u001b[38;5;241m=\u001b[39mcopy)\n\u001b[1;32m   5907\u001b[0m         \u001b[38;5;28;01mfor\u001b[39;00m i \u001b[38;5;129;01min\u001b[39;00m \u001b[38;5;28mrange\u001b[39m(\u001b[38;5;28mlen\u001b[39m(\u001b[38;5;28mself\u001b[39m\u001b[38;5;241m.\u001b[39mcolumns))\n\u001b[1;32m   5908\u001b[0m     ]\n\u001b[1;32m   5910\u001b[0m \u001b[38;5;28;01melse\u001b[39;00m:\n\u001b[1;32m   5911\u001b[0m     \u001b[38;5;66;03m# else, only a single dtype is given\u001b[39;00m\n\u001b[0;32m-> 5912\u001b[0m     new_data \u001b[38;5;241m=\u001b[39m \u001b[38;5;28;43mself\u001b[39;49m\u001b[38;5;241;43m.\u001b[39;49m\u001b[43m_mgr\u001b[49m\u001b[38;5;241;43m.\u001b[39;49m\u001b[43mastype\u001b[49m\u001b[43m(\u001b[49m\u001b[43mdtype\u001b[49m\u001b[38;5;241;43m=\u001b[39;49m\u001b[43mdtype\u001b[49m\u001b[43m,\u001b[49m\u001b[43m \u001b[49m\u001b[43mcopy\u001b[49m\u001b[38;5;241;43m=\u001b[39;49m\u001b[43mcopy\u001b[49m\u001b[43m,\u001b[49m\u001b[43m \u001b[49m\u001b[43merrors\u001b[49m\u001b[38;5;241;43m=\u001b[39;49m\u001b[43merrors\u001b[49m\u001b[43m)\u001b[49m\n\u001b[1;32m   5913\u001b[0m     \u001b[38;5;28;01mreturn\u001b[39;00m \u001b[38;5;28mself\u001b[39m\u001b[38;5;241m.\u001b[39m_constructor(new_data)\u001b[38;5;241m.\u001b[39m__finalize__(\u001b[38;5;28mself\u001b[39m, method\u001b[38;5;241m=\u001b[39m\u001b[38;5;124m\"\u001b[39m\u001b[38;5;124mastype\u001b[39m\u001b[38;5;124m\"\u001b[39m)\n\u001b[1;32m   5915\u001b[0m \u001b[38;5;66;03m# GH 33113: handle empty frame or series\u001b[39;00m\n",
      "File \u001b[0;32m~/.local/lib/python3.8/site-packages/pandas/core/internals/managers.py:419\u001b[0m, in \u001b[0;36mBaseBlockManager.astype\u001b[0;34m(self, dtype, copy, errors)\u001b[0m\n\u001b[1;32m    418\u001b[0m \u001b[38;5;28;01mdef\u001b[39;00m \u001b[38;5;21mastype\u001b[39m(\u001b[38;5;28mself\u001b[39m: T, dtype, copy: \u001b[38;5;28mbool\u001b[39m \u001b[38;5;241m=\u001b[39m \u001b[38;5;28;01mFalse\u001b[39;00m, errors: \u001b[38;5;28mstr\u001b[39m \u001b[38;5;241m=\u001b[39m \u001b[38;5;124m\"\u001b[39m\u001b[38;5;124mraise\u001b[39m\u001b[38;5;124m\"\u001b[39m) \u001b[38;5;241m-\u001b[39m\u001b[38;5;241m>\u001b[39m T:\n\u001b[0;32m--> 419\u001b[0m     \u001b[38;5;28;01mreturn\u001b[39;00m \u001b[38;5;28;43mself\u001b[39;49m\u001b[38;5;241;43m.\u001b[39;49m\u001b[43mapply\u001b[49m\u001b[43m(\u001b[49m\u001b[38;5;124;43m\"\u001b[39;49m\u001b[38;5;124;43mastype\u001b[39;49m\u001b[38;5;124;43m\"\u001b[39;49m\u001b[43m,\u001b[49m\u001b[43m \u001b[49m\u001b[43mdtype\u001b[49m\u001b[38;5;241;43m=\u001b[39;49m\u001b[43mdtype\u001b[49m\u001b[43m,\u001b[49m\u001b[43m \u001b[49m\u001b[43mcopy\u001b[49m\u001b[38;5;241;43m=\u001b[39;49m\u001b[43mcopy\u001b[49m\u001b[43m,\u001b[49m\u001b[43m \u001b[49m\u001b[43merrors\u001b[49m\u001b[38;5;241;43m=\u001b[39;49m\u001b[43merrors\u001b[49m\u001b[43m)\u001b[49m\n",
      "File \u001b[0;32m~/.local/lib/python3.8/site-packages/pandas/core/internals/managers.py:304\u001b[0m, in \u001b[0;36mBaseBlockManager.apply\u001b[0;34m(self, f, align_keys, ignore_failures, **kwargs)\u001b[0m\n\u001b[1;32m    302\u001b[0m         applied \u001b[38;5;241m=\u001b[39m b\u001b[38;5;241m.\u001b[39mapply(f, \u001b[38;5;241m*\u001b[39m\u001b[38;5;241m*\u001b[39mkwargs)\n\u001b[1;32m    303\u001b[0m     \u001b[38;5;28;01melse\u001b[39;00m:\n\u001b[0;32m--> 304\u001b[0m         applied \u001b[38;5;241m=\u001b[39m \u001b[38;5;28;43mgetattr\u001b[39;49m\u001b[43m(\u001b[49m\u001b[43mb\u001b[49m\u001b[43m,\u001b[49m\u001b[43m \u001b[49m\u001b[43mf\u001b[49m\u001b[43m)\u001b[49m\u001b[43m(\u001b[49m\u001b[38;5;241;43m*\u001b[39;49m\u001b[38;5;241;43m*\u001b[39;49m\u001b[43mkwargs\u001b[49m\u001b[43m)\u001b[49m\n\u001b[1;32m    305\u001b[0m \u001b[38;5;28;01mexcept\u001b[39;00m (\u001b[38;5;167;01mTypeError\u001b[39;00m, \u001b[38;5;167;01mNotImplementedError\u001b[39;00m):\n\u001b[1;32m    306\u001b[0m     \u001b[38;5;28;01mif\u001b[39;00m \u001b[38;5;129;01mnot\u001b[39;00m ignore_failures:\n",
      "File \u001b[0;32m~/.local/lib/python3.8/site-packages/pandas/core/internals/blocks.py:580\u001b[0m, in \u001b[0;36mBlock.astype\u001b[0;34m(self, dtype, copy, errors)\u001b[0m\n\u001b[1;32m    562\u001b[0m \u001b[38;5;124;03m\"\"\"\u001b[39;00m\n\u001b[1;32m    563\u001b[0m \u001b[38;5;124;03mCoerce to the new dtype.\u001b[39;00m\n\u001b[1;32m    564\u001b[0m \n\u001b[0;32m   (...)\u001b[0m\n\u001b[1;32m    576\u001b[0m \u001b[38;5;124;03mBlock\u001b[39;00m\n\u001b[1;32m    577\u001b[0m \u001b[38;5;124;03m\"\"\"\u001b[39;00m\n\u001b[1;32m    578\u001b[0m values \u001b[38;5;241m=\u001b[39m \u001b[38;5;28mself\u001b[39m\u001b[38;5;241m.\u001b[39mvalues\n\u001b[0;32m--> 580\u001b[0m new_values \u001b[38;5;241m=\u001b[39m \u001b[43mastype_array_safe\u001b[49m\u001b[43m(\u001b[49m\u001b[43mvalues\u001b[49m\u001b[43m,\u001b[49m\u001b[43m \u001b[49m\u001b[43mdtype\u001b[49m\u001b[43m,\u001b[49m\u001b[43m \u001b[49m\u001b[43mcopy\u001b[49m\u001b[38;5;241;43m=\u001b[39;49m\u001b[43mcopy\u001b[49m\u001b[43m,\u001b[49m\u001b[43m \u001b[49m\u001b[43merrors\u001b[49m\u001b[38;5;241;43m=\u001b[39;49m\u001b[43merrors\u001b[49m\u001b[43m)\u001b[49m\n\u001b[1;32m    582\u001b[0m new_values \u001b[38;5;241m=\u001b[39m maybe_coerce_values(new_values)\n\u001b[1;32m    583\u001b[0m newb \u001b[38;5;241m=\u001b[39m \u001b[38;5;28mself\u001b[39m\u001b[38;5;241m.\u001b[39mmake_block(new_values)\n",
      "File \u001b[0;32m~/.local/lib/python3.8/site-packages/pandas/core/dtypes/cast.py:1292\u001b[0m, in \u001b[0;36mastype_array_safe\u001b[0;34m(values, dtype, copy, errors)\u001b[0m\n\u001b[1;32m   1289\u001b[0m     dtype \u001b[38;5;241m=\u001b[39m dtype\u001b[38;5;241m.\u001b[39mnumpy_dtype\n\u001b[1;32m   1291\u001b[0m \u001b[38;5;28;01mtry\u001b[39;00m:\n\u001b[0;32m-> 1292\u001b[0m     new_values \u001b[38;5;241m=\u001b[39m \u001b[43mastype_array\u001b[49m\u001b[43m(\u001b[49m\u001b[43mvalues\u001b[49m\u001b[43m,\u001b[49m\u001b[43m \u001b[49m\u001b[43mdtype\u001b[49m\u001b[43m,\u001b[49m\u001b[43m \u001b[49m\u001b[43mcopy\u001b[49m\u001b[38;5;241;43m=\u001b[39;49m\u001b[43mcopy\u001b[49m\u001b[43m)\u001b[49m\n\u001b[1;32m   1293\u001b[0m \u001b[38;5;28;01mexcept\u001b[39;00m (\u001b[38;5;167;01mValueError\u001b[39;00m, \u001b[38;5;167;01mTypeError\u001b[39;00m):\n\u001b[1;32m   1294\u001b[0m     \u001b[38;5;66;03m# e.g. astype_nansafe can fail on object-dtype of strings\u001b[39;00m\n\u001b[1;32m   1295\u001b[0m     \u001b[38;5;66;03m#  trying to convert to float\u001b[39;00m\n\u001b[1;32m   1296\u001b[0m     \u001b[38;5;28;01mif\u001b[39;00m errors \u001b[38;5;241m==\u001b[39m \u001b[38;5;124m\"\u001b[39m\u001b[38;5;124mignore\u001b[39m\u001b[38;5;124m\"\u001b[39m:\n",
      "File \u001b[0;32m~/.local/lib/python3.8/site-packages/pandas/core/dtypes/cast.py:1237\u001b[0m, in \u001b[0;36mastype_array\u001b[0;34m(values, dtype, copy)\u001b[0m\n\u001b[1;32m   1234\u001b[0m     values \u001b[38;5;241m=\u001b[39m values\u001b[38;5;241m.\u001b[39mastype(dtype, copy\u001b[38;5;241m=\u001b[39mcopy)\n\u001b[1;32m   1236\u001b[0m \u001b[38;5;28;01melse\u001b[39;00m:\n\u001b[0;32m-> 1237\u001b[0m     values \u001b[38;5;241m=\u001b[39m \u001b[43mastype_nansafe\u001b[49m\u001b[43m(\u001b[49m\u001b[43mvalues\u001b[49m\u001b[43m,\u001b[49m\u001b[43m \u001b[49m\u001b[43mdtype\u001b[49m\u001b[43m,\u001b[49m\u001b[43m \u001b[49m\u001b[43mcopy\u001b[49m\u001b[38;5;241;43m=\u001b[39;49m\u001b[43mcopy\u001b[49m\u001b[43m)\u001b[49m\n\u001b[1;32m   1239\u001b[0m \u001b[38;5;66;03m# in pandas we don't store numpy str dtypes, so convert to object\u001b[39;00m\n\u001b[1;32m   1240\u001b[0m \u001b[38;5;28;01mif\u001b[39;00m \u001b[38;5;28misinstance\u001b[39m(dtype, np\u001b[38;5;241m.\u001b[39mdtype) \u001b[38;5;129;01mand\u001b[39;00m \u001b[38;5;28missubclass\u001b[39m(values\u001b[38;5;241m.\u001b[39mdtype\u001b[38;5;241m.\u001b[39mtype, \u001b[38;5;28mstr\u001b[39m):\n",
      "File \u001b[0;32m~/.local/lib/python3.8/site-packages/pandas/core/dtypes/cast.py:1181\u001b[0m, in \u001b[0;36mastype_nansafe\u001b[0;34m(arr, dtype, copy, skipna)\u001b[0m\n\u001b[1;32m   1177\u001b[0m     \u001b[38;5;28;01mraise\u001b[39;00m \u001b[38;5;167;01mValueError\u001b[39;00m(msg)\n\u001b[1;32m   1179\u001b[0m \u001b[38;5;28;01mif\u001b[39;00m copy \u001b[38;5;129;01mor\u001b[39;00m is_object_dtype(arr\u001b[38;5;241m.\u001b[39mdtype) \u001b[38;5;129;01mor\u001b[39;00m is_object_dtype(dtype):\n\u001b[1;32m   1180\u001b[0m     \u001b[38;5;66;03m# Explicit copy, or required since NumPy can't view from / to object.\u001b[39;00m\n\u001b[0;32m-> 1181\u001b[0m     \u001b[38;5;28;01mreturn\u001b[39;00m \u001b[43marr\u001b[49m\u001b[38;5;241;43m.\u001b[39;49m\u001b[43mastype\u001b[49m\u001b[43m(\u001b[49m\u001b[43mdtype\u001b[49m\u001b[43m,\u001b[49m\u001b[43m \u001b[49m\u001b[43mcopy\u001b[49m\u001b[38;5;241;43m=\u001b[39;49m\u001b[38;5;28;43;01mTrue\u001b[39;49;00m\u001b[43m)\u001b[49m\n\u001b[1;32m   1183\u001b[0m \u001b[38;5;28;01mreturn\u001b[39;00m arr\u001b[38;5;241m.\u001b[39mastype(dtype, copy\u001b[38;5;241m=\u001b[39mcopy)\n",
      "\u001b[0;31mValueError\u001b[0m: could not convert string to float: '- 0.'"
     ]
    }
   ],
   "source": [
    "#df =df.sort_values(by=\"outtime\")\n",
    "df['TPT']=(df['outtime']-df['intime'])\n",
    "df['TPT']=df['TPT'].values.astype('datetime64[ns]')\n",
    "df['TPT']= pd.to_datetime(df['TPT']).dt.strftime('%S.%f')\n",
    "df['TPT']=df['TPT'].astype(float)\n",
    "df['PT']= df['TPT'].round(decimals = 0)\n",
    "df['FET'] = (df['aeneas']).astype(float) + (df['tocloud']).astype(float)\n",
    "#df['MQ time']= ((df['TPT']).astype(float) - df['FET'])\n",
    "df[\"scenario\"]= \"\"+str(user)+\"_\"+str(iteration)+\"_\"+scenario\n",
    "display(df)\n",
    "df.to_csv(str(user)+\"_\"+str(time_locust)+\"_\"+scenario+\"_\"+str(iteration)+'.csv')"
   ]
  },
  {
   "cell_type": "code",
   "execution_count": null,
   "id": "718b5bc2",
   "metadata": {},
   "outputs": [],
   "source": [
    "pre_url = PROMETHEUS + '/api/v1/query_range?query='\n",
    "timestamp= pd.to_datetime(df['outtime'].iloc[-1], format='%Y-%m-%d %H:%M:%S')\n",
    "time_interval = (time.mktime(timestamp.timetuple()))\n",
    "user=df.shape[0]\n",
    "end=(time.mktime(timestamp.timetuple()))\n",
    "start=pd.to_datetime(df['intime'].iloc[0], format='%Y-%m-%d %H:%M:%S')\n",
    "start=(time.mktime(start.timetuple()))\n",
    "print(start,end)"
   ]
  },
  {
   "cell_type": "code",
   "execution_count": null,
   "id": "1fd58e78",
   "metadata": {},
   "outputs": [],
   "source": [
    "interval = (df.loc[user-1, 'outtime'] - df.loc[0, 'intime']).total_seconds()\n",
    "interval= round(interval)"
   ]
  },
  {
   "cell_type": "code",
   "execution_count": null,
   "id": "c230896a",
   "metadata": {},
   "outputs": [],
   "source": [
    "interval= round((df.loc[user-1, 'outtime'] - df.loc[0, 'intime']).total_seconds()) if round((df.loc[user-1, 'outtime'] - df.loc[0, 'intime']).total_seconds()) > 60  else 60\n",
    "print(interval)"
   ]
  },
  {
   "cell_type": "code",
   "execution_count": null,
   "id": "81cbc520",
   "metadata": {},
   "outputs": [],
   "source": [
    "import copy \n",
    "def getdataprometheus(url):\n",
    "    headers= {\"Accept\": \"application/json\"}\n",
    "    res = json.loads(requests.post(url=url, headers=headers).content.decode('utf8', 'ignore'))\n",
    "    #data2=res.get('data').get('result')[0].get('values')\n",
    "    data_dict={}\n",
    "    metric_list = []\n",
    "    # print(data['data']['result']['values'])\n",
    "    # exit()\n",
    "    for i in res['data']['result']:\n",
    "        for j in i['values']:\n",
    "            data_dict = copy.deepcopy(i['metric'])\n",
    "            data_dict['time'] = j[0]\n",
    "            data_dict['value'] = j[1]\n",
    "            metric_list.append(data_dict)\n",
    "    df_metric = pd.DataFrame(metric_list)\n",
    "    return df_metric"
   ]
  },
  {
   "cell_type": "code",
   "execution_count": null,
   "id": "8eac1ab9",
   "metadata": {},
   "outputs": [],
   "source": [
    "user=df.shape[0]\n",
    "metrics = {'workload_type':\"\"+str(user)+\"_\"+str(time_locust)+\"_\"+scenario+\"_\"+str(iteration),'workload_size':user,'Workload TPT':(df.loc[user-1, 'outtime'] - df.loc[0, 'intime']).total_seconds(),'Average Workload TPT':df['TPT'].mean(),'Average FET':df['FET'].mean()}\n",
    "\n",
    "promo_metrics = pd.DataFrame(columns=['cpu_used','cpu_requested'])"
   ]
  },
  {
   "cell_type": "code",
   "execution_count": null,
   "id": "7d0786b9",
   "metadata": {},
   "outputs": [],
   "source": [
    "\n",
    "expr_namespace_cpu_requested = 'sum(kube_pod_container_resource_requests{job=\"kube-state-metrics\", namespace=\"openfaas-fn\", resource=\"cpu\"})&start='+str(start)+'&end='+str(end)+'&step=10s'\n",
    "promo_metrics['cpu_requested']=getdataprometheus(pre_url+expr_namespace_cpu_requested)['value']\n",
    "\n",
    "promo_metrics['time']=getdataprometheus(pre_url+expr_namespace_cpu_requested)['time']\n",
    "expr_namespace_cpu_used = 'sum(rate(container_cpu_usage_seconds_total{container_name!=\"POD\",namespace=\"openfaas-fn\"}[60s]))&start='+str(start)+'&end='+str(end)+'&step=10s'\n",
    "promo_metrics['cpu_used']=getdataprometheus(pre_url+expr_namespace_cpu_used)['value']\n",
    "\n",
    "expr_namespace_pod_count = 'sum(kube_pod_container_status_ready{namespace=\"openfaas-fn\"})&start='+str(start)+'&end='+str(end)+'&step=10s'\n",
    "promo_metrics['pod_count']=getdataprometheus(pre_url+expr_namespace_pod_count)['value']\n",
    "\n",
    "expr_namespace_memory_used = 'sum(rate(container_memory_usage_bytes{container_name!=\"POD\",namespace=\"openfaas-fn\"}[60s]))&start='+str(start)+'&end='+str(end)+'&step=10s'\n",
    "promo_metrics['memory_used']=getdataprometheus(pre_url+expr_namespace_memory_used)['value']\n",
    "\n",
    "expr_namespace_memory_requested = 'sum(rate(container_memory_working_set_bytes{container_name!=\"POD\",namespace=\"openfaas-fn\"}[60s]))&start='+str(start)+'&end='+str(end)+'&step=10s'\n",
    "promo_metrics['memory_used']=getdataprometheus(pre_url+expr_namespace_memory_requested)['value']\n",
    "\n",
    "promo_metrics['time']= pd.to_datetime(promo_metrics['time'],unit='s')\n",
    "seconds = []\n",
    "for i in range(promo_metrics.shape[0]): \n",
    "    seconds.append(i*10)\n",
    "promo_metrics['seconds'] = seconds\n",
    "\n",
    "throughput_qurty = 'sum (rate(gateway_function_invocation_total{code=\"200\"}[10s]))'\n",
    "promo_metrics['throughput']= getdataprometheus('http://172.17.141.197:31376/api/v1/query_range?query=sum (rate(gateway_function_invocation_total{code=\"200\"}[20s]))&start='+str(start)+'&end='+str(end)+'&step=10s')['value']\n",
    "promo_metrics.to_csv(\"keda_results/promo_metrics\"+str(user)+\"_\"+str(time_locust)+\"_\"+scenario+\"_\"+str(iteration)+'.csv',index=False)\n",
    "\n",
    "\n",
    "# #expr_namespace_cpu_requested = 'sum(node_namespace_pod_container:container_cpu_usage_seconds_total:sum_irate{namespace=\"openfaas-fn\"})&time='+str(time_interval)\n",
    "# expr_namespace_cpu_used='sum(rate(container_cpu_usage_seconds_total{container_name!=\"POD\",namespace=\"openfaas-fn\"}['+str(interval)+'s]))&time='+str(time_interval)\n",
    "# metrics['CPU_used']=getdataprometheus(pre_url+expr_namespace_cpu_used)\n",
    "# expr_namespace_cpu_requested='sum(kube_pod_container_resource_requests{job=\"kube-state-metrics\", namespace=\"openfaas-fn\", resource=\"cpu\"})&time='+str(time_interval)\n",
    "# metrics['CPU_requested']=getdataprometheus(pre_url+expr_namespace_cpu_requested)\n",
    "\n",
    "# expr_pod_cpu_rabbitmq_connector = 'sum(rate(container_cpu_usage_seconds_total{container_name!=\"POD\",namespace=\"openfaas\",pod=~\"rabbitmq.*\"}['+str(interval)+'s]))&time='+str(time_interval)\n",
    "# expr_pod_memory_rabbitmq_connector = 'sum(rate(container_memory_usage_bytes{container_name!=\"POD\",namespace=\"openfaas\",pod=~\"rabbitmq.*\"}['+str(interval)+'s]))&time='+str(time_interval)\n",
    "# metrics['CPU_rabbitmq_broker_used']=getdataprometheus(pre_url+expr_pod_cpu_rabbitmq_connector)\n",
    "# metrics['Memory_rabbitmq_broker_used']=getdataprometheus(pre_url+expr_pod_memory_rabbitmq_connector)\n",
    "\n",
    "# expr_pod_cpu_rabbitmq_connector_requested = 'sum(kube_pod_container_resource_requests{job=\"kube-state-metrics\", namespace=\"openfaas\", resource=\"cpu\",pod=~\"rabbitmq.*\"})&time='+str(time_interval)\n",
    "# expr_pod_memory_rabbitmq_connector = 'sum(rate(container_memory_usage_bytes{container_name!=\"POD\",namespace=\"openfaas\",pod=~\"rabbitmq.*\"}['+str(interval)+'s]))&time='+str(time_interval)\n",
    "# metrics['CPU_rabbitmq_broker_requested']=getdataprometheus(pre_url+expr_pod_cpu_rabbitmq_connector_requested)\n",
    "\n",
    "# expr_pod_rabbitmq_function = 'sum(kube_pod_container_status_ready{namespace=\"openfaas\",pod=~\"rabbitmq.*\"})&time='+str(time_interval)\n",
    "# metrics['pod_count_rabbitmq']=getdataprometheus(pre_url+expr_pod_rabbitmq_function)\n",
    "\n",
    "# expr_pod_aeneas_function = 'sum(kube_pod_container_status_ready{namespace=\"openfaas-fn\",pod=~\"aeneas.*\"})&time='+str(time_interval)\n",
    "# expr_pod_tocloud_function = 'sum(kube_pod_container_status_ready{namespace=\"openfaas-fn\",pod=~\"scaling-aeneas-tocloud.*\"})&time='+str(time_interval)\n",
    "# expr_pod_getobject_function = 'sum(kube_pod_container_status_ready{namespace=\"openfaas-fn\",pod=~\"getobject.*\"})&time='+str(time_interval)\n",
    "# print(pre_url+expr_pod_aeneas_function)\n",
    "# metrics['pod_count_aeneas']=getdataprometheus(pre_url+expr_pod_aeneas_function)\n",
    "# metrics['pod_count_tocloud']=getdataprometheus(pre_url+expr_pod_tocloud_function)\n",
    "# metrics['pod_count_getobject']=getdataprometheus(pre_url+expr_pod_getobject_function)\n",
    "\n",
    "# metrics"
   ]
  },
  {
   "cell_type": "code",
   "execution_count": null,
   "id": "39833ed1",
   "metadata": {},
   "outputs": [],
   "source": [
    "promo_metrics"
   ]
  },
  {
   "cell_type": "code",
   "execution_count": null,
   "id": "4141194b",
   "metadata": {},
   "outputs": [],
   "source": [
    "df_metrics = pd.read_csv(\"overall_rps.csv\")\n",
    "df_metrics = df_metrics.append(metrics, ignore_index=True)"
   ]
  },
  {
   "cell_type": "code",
   "execution_count": null,
   "id": "31b05702",
   "metadata": {},
   "outputs": [],
   "source": [
    "df_metrics.to_csv(\"overall_rps.csv\",index=False)\n",
    "display(df_metrics)"
   ]
  },
  {
   "cell_type": "code",
   "execution_count": null,
   "id": "24104f36",
   "metadata": {},
   "outputs": [],
   "source": [
    "def getdataprometheus(url):\n",
    "    headers= {\"Accept\": \"application/json\"}\n",
    "    res = json.loads(requests.post(url=url, headers=headers).content.decode('utf8', 'ignore'))\n",
    " #   data=res.get('data').get('result')[0].get('value')[1]\n",
    "    return res"
   ]
  },
  {
   "cell_type": "code",
   "execution_count": null,
   "id": "4cb04c1d",
   "metadata": {},
   "outputs": [],
   "source": [
    "\n",
    "# Frequency\n",
    "stats_df = df \\\n",
    ".groupby('PT') \\\n",
    "['PT'] \\\n",
    ".agg('count') \\\n",
    ".pipe(pd.DataFrame) \\\n",
    ".rename(columns = {'PT': 'frequency'})\n",
    "\n",
    "# PDF\n",
    "stats_df['pdf'] = stats_df['frequency'] / sum(stats_df['frequency'])\n",
    "stats_df['cdf'] = stats_df['pdf'].cumsum()\n",
    "stats_df = stats_df.reset_index()\n",
    "display(stats_df)\n",
    "\n",
    "\n",
    "stats_df.to_csv(\"stats_df_\"+str(user)+\"_\"+str(time_locust)+\"_\"+scenario+\"_\"+str(iteration)+'.csv')\n",
    "# from matplotlib import pyplot as plt\n",
    "\n",
    "# plt.plot(stats_df['PT'],stats_df['cdf'],  linestyle='--', marker='o', color='b', label='k8s_k8s')\n",
    "# #plt.plot(df['user'],df['CT'],  linestyle='--', marker='*', color='r', label='Communication Time')\n",
    "# plt.grid()\n",
    "# plt.legend(loc='best')\n",
    "# plt.xlabel('PT (Seconds)', fontsize=18)\n",
    "# plt.ylabel('CDF', fontsize=16)\n"
   ]
  }
 ],
 "metadata": {
  "kernelspec": {
   "display_name": "Python 3 (ipykernel)",
   "language": "python",
   "name": "python3"
  },
  "language_info": {
   "codemirror_mode": {
    "name": "ipython",
    "version": 3
   },
   "file_extension": ".py",
   "mimetype": "text/x-python",
   "name": "python",
   "nbconvert_exporter": "python",
   "pygments_lexer": "ipython3",
   "version": "3.8.10"
  }
 },
 "nbformat": 4,
 "nbformat_minor": 5
}
