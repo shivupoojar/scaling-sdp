{
 "cells": [
  {
   "cell_type": "markdown",
   "id": "1f0878fa",
   "metadata": {
    "tags": [
     "papermill-error-cell-tag"
    ]
   },
   "source": [
    "<span style=\"color:red; font-family:Helvetica Neue, Helvetica, Arial, sans-serif; font-size:2em;\">An Exception was encountered at '<a href=\"#papermill-error-cell\">In [8]</a>'.</span>"
   ]
  },
  {
   "cell_type": "code",
   "execution_count": 1,
   "id": "060a0155",
   "metadata": {
    "execution": {
     "iopub.execute_input": "2022-12-02T11:01:11.352021Z",
     "iopub.status.busy": "2022-12-02T11:01:11.350646Z",
     "iopub.status.idle": "2022-12-02T11:01:11.363579Z",
     "shell.execute_reply": "2022-12-02T11:01:11.361196Z"
    },
    "papermill": {
     "duration": 0.048679,
     "end_time": "2022-12-02T09:17:48.070009",
     "exception": false,
     "start_time": "2022-12-02T09:17:48.021330",
     "status": "completed"
    },
    "tags": []
   },
   "outputs": [],
   "source": [
    "# !pip3 install minio\n",
    "# !pip3 install pandas\n",
    "# !sudo apt-get install -y mosquitto-clients"
   ]
  },
  {
   "cell_type": "code",
   "execution_count": 2,
   "id": "74a84da0",
   "metadata": {
    "execution": {
     "iopub.execute_input": "2022-12-02T11:01:11.374841Z",
     "iopub.status.busy": "2022-12-02T11:01:11.373769Z",
     "iopub.status.idle": "2022-12-02T11:01:12.403898Z",
     "shell.execute_reply": "2022-12-02T11:01:12.401793Z"
    },
    "papermill": {
     "duration": 1.057801,
     "end_time": "2022-12-02T09:17:49.147129",
     "exception": false,
     "start_time": "2022-12-02T09:17:48.089328",
     "status": "completed"
    },
    "tags": []
   },
   "outputs": [],
   "source": [
    "import sys\n",
    "import  datetime\n",
    "import os\n",
    "from minio import Minio\n",
    "import csv\n",
    "import json\n",
    "import pandas as pd\n",
    "import time\n",
    "import subprocess\n",
    "from subprocess import Popen, PIPE\n",
    "import requests\n",
    "from IPython.display import display"
   ]
  },
  {
   "cell_type": "markdown",
   "id": "53e499a3",
   "metadata": {
    "papermill": {
     "duration": 0.02129,
     "end_time": "2022-12-02T09:17:49.191780",
     "exception": false,
     "start_time": "2022-12-02T09:17:49.170490",
     "status": "completed"
    },
    "tags": []
   },
   "source": [
    "#df_metrics = pd.DataFrame(columns=['Workload_size','Workload TPT','Average Workload TPT','Average FET','Average CT'])\n",
    "http://172.17.141.197:3000/goto/MU1mA-MVk?orgId=1"
   ]
  },
  {
   "cell_type": "code",
   "execution_count": 3,
   "id": "7e0b3c52",
   "metadata": {
    "execution": {
     "iopub.execute_input": "2022-12-02T11:01:12.415837Z",
     "iopub.status.busy": "2022-12-02T11:01:12.414545Z",
     "iopub.status.idle": "2022-12-02T11:01:12.426785Z",
     "shell.execute_reply": "2022-12-02T11:01:12.424385Z"
    },
    "papermill": {
     "duration": 0.039825,
     "end_time": "2022-12-02T09:17:49.248505",
     "exception": false,
     "start_time": "2022-12-02T09:17:49.208680",
     "status": "completed"
    },
    "tags": []
   },
   "outputs": [],
   "source": [
    "#scenario=\"emqx_testing_namespace_scaling_without_max_inflight_replicas_2_10_3\"\n",
    "scenario = \"resource_usage\"\n",
    "user=1\n",
    "iteration=1\n",
    "minio_host=\"172.17.141.197:9001\"\n",
    "bucket_name=\"aeneas-output\"\n",
    "PROMETHEUS = 'http://172.17.141.197:31022/'\n"
   ]
  },
  {
   "cell_type": "code",
   "execution_count": 4,
   "id": "84830a9a",
   "metadata": {
    "execution": {
     "iopub.execute_input": "2022-12-02T11:01:12.437996Z",
     "iopub.status.busy": "2022-12-02T11:01:12.436910Z",
     "iopub.status.idle": "2022-12-02T11:01:12.889231Z",
     "shell.execute_reply": "2022-12-02T11:01:12.884190Z"
    },
    "papermill": {
     "duration": 0.48006,
     "end_time": "2022-12-02T09:17:49.747843",
     "exception": false,
     "start_time": "2022-12-02T09:17:49.267783",
     "status": "completed"
    },
    "tags": []
   },
   "outputs": [],
   "source": [
    "!rm input_data.csv\n",
    "!touch input_data.csv\n",
    "!echo \"intime\" > input_data.csv\n"
   ]
  },
  {
   "cell_type": "raw",
   "id": "a3cb7ec0",
   "metadata": {
    "papermill": {
     "duration": 0.017494,
     "end_time": "2022-12-02T09:17:49.785055",
     "exception": false,
     "start_time": "2022-12-02T09:17:49.767561",
     "status": "completed"
    },
    "tags": []
   },
   "source": [
    "Reference code  for locust and MQTT: https://chowdera.com/2021/10/20211003075420298x.html"
   ]
  },
  {
   "cell_type": "code",
   "execution_count": 5,
   "id": "547960f7",
   "metadata": {
    "execution": {
     "iopub.execute_input": "2022-12-02T11:01:12.904282Z",
     "iopub.status.busy": "2022-12-02T11:01:12.903045Z",
     "iopub.status.idle": "2022-12-02T11:01:12.915769Z",
     "shell.execute_reply": "2022-12-02T11:01:12.912974Z"
    },
    "papermill": {
     "duration": 0.038945,
     "end_time": "2022-12-02T09:17:49.841067",
     "exception": false,
     "start_time": "2022-12-02T09:17:49.802122",
     "status": "completed"
    },
    "tags": []
   },
   "outputs": [],
   "source": [
    "#!cp /home/ubuntu/scaling-sdp/aeneas/dataset/p001.mp3 ."
   ]
  },
  {
   "cell_type": "code",
   "execution_count": 6,
   "id": "4e0913d8",
   "metadata": {
    "execution": {
     "iopub.execute_input": "2022-12-02T11:01:12.946459Z",
     "iopub.status.busy": "2022-12-02T11:01:12.944925Z",
     "iopub.status.idle": "2022-12-02T11:01:15.587893Z",
     "shell.execute_reply": "2022-12-02T11:01:15.582669Z"
    },
    "papermill": {
     "duration": 2.328703,
     "end_time": "2022-12-02T09:17:52.192775",
     "exception": false,
     "start_time": "2022-12-02T09:17:49.864072",
     "status": "completed"
    },
    "tags": []
   },
   "outputs": [
    {
     "name": "stdout",
     "output_type": "stream",
     "text": [
      "[2022-12-02 11:01:14,928] ubuntu/INFO/locust.main: Run time limit set to 1 seconds\r\n",
      "[2022-12-02 11:01:14,929] ubuntu/INFO/locust.main: Starting Locust 2.12.0\r\n",
      "Type     Name  # reqs      # fails |    Avg     Min     Max    Med |   req/s  failures/s\r\n",
      "--------||-------|-------------|-------|-------|-------|-------|--------|-----------\r\n",
      "--------||-------|-------------|-------|-------|-------|-------|--------|-----------\r\n",
      "         Aggregated       0     0(0.00%) |      0       0       0      0 |    0.00        0.00\r\n",
      "\r\n",
      "[2022-12-02 11:01:14,931] ubuntu/INFO/locust.runners: Ramping to 1 users at a rate of 2.00 per second\r\n",
      "[2022-12-02 11:01:14,933] ubuntu/INFO/locust.runners: All users spawned: {\"MQTTLocust\": 1} (1 total users)\r\n",
      "Disconnected result code None\r\n",
      "Disconnected result code None\r\n",
      "[2022-12-02 11:01:15,228] ubuntu/INFO/locust.main: --run-time limit reached, shutting down\r\n",
      "[2022-12-02 11:01:15,231] ubuntu/INFO/locust.main: Shutting down (exit code 0)\r\n",
      "Type     Name  # reqs      # fails |    Avg     Min     Max    Med |   req/s  failures/s\r\n",
      "--------||-------|-------------|-------|-------|-------|-------|--------|-----------\r\n",
      "MQTT     b'Device - 1'       1     0(0.00%) |     14      14      14     14 |   27.66        0.00\r\n",
      "MQTT     connect       1     0(0.00%) |      0       0       0      0 |   27.66        0.00\r\n",
      "--------||-------|-------------|-------|-------|-------|-------|--------|-----------\r\n",
      "         Aggregated       2     0(0.00%) |      7       0      14      0 |   55.31        0.00\r\n",
      "\r\n",
      "Response time percentiles (approximated)\r\n",
      "Type     Name      50%    66%    75%    80%    90%    95%    98%    99%  99.9% 99.99%   100% # reqs\r\n",
      "--------||--------|------|------|------|------|------|------|------|------|------|------|------\r\n",
      "MQTT     b'Device - 1'       14     14     14     14     14     14     14     14     14     14     14      1\r\n",
      "MQTT     connect        0      0      0      0      0      0      0      0      0      0      0      1\r\n",
      "--------||--------|------|------|------|------|------|------|------|------|------|------|------\r\n",
      "         Aggregated       14     14     14     14     14     14     14     14     14     14     14      2\r\n",
      "\r\n"
     ]
    }
   ],
   "source": [
    "!locust --headless -f mqtt_locust.py --host='127.0.0.1' -t 1  --users 1 --spawn-rate 2"
   ]
  },
  {
   "cell_type": "code",
   "execution_count": 7,
   "id": "3b42ec31",
   "metadata": {
    "execution": {
     "iopub.execute_input": "2022-12-02T11:01:15.601856Z",
     "iopub.status.busy": "2022-12-02T11:01:15.600716Z",
     "iopub.status.idle": "2022-12-02T11:01:55.655066Z",
     "shell.execute_reply": "2022-12-02T11:01:55.650503Z"
    },
    "papermill": {
     "duration": 40.082633,
     "end_time": "2022-12-02T09:18:32.297769",
     "exception": false,
     "start_time": "2022-12-02T09:17:52.215136",
     "status": "completed"
    },
    "tags": []
   },
   "outputs": [],
   "source": [
    "#cmd = \"./mqtt_client.sh \"+str(user)\n",
    "#with Popen(cmd, stdout=PIPE, stderr=None, shell=True) as process:\n",
    "#    output1 = process.communicate()[0].decode(\"utf-8\")\n",
    "time.sleep(40)"
   ]
  },
  {
   "cell_type": "markdown",
   "id": "fbe6ba9c",
   "metadata": {
    "tags": [
     "papermill-error-cell-tag"
    ]
   },
   "source": [
    "<span id=\"papermill-error-cell\" style=\"color:red; font-family:Helvetica Neue, Helvetica, Arial, sans-serif; font-size:2em;\">Execution using papermill encountered an exception here and stopped:</span>"
   ]
  },
  {
   "cell_type": "code",
   "execution_count": 8,
   "id": "26baf96a",
   "metadata": {
    "execution": {
     "iopub.execute_input": "2022-12-02T11:01:55.669738Z",
     "iopub.status.busy": "2022-12-02T11:01:55.668695Z",
     "iopub.status.idle": "2022-12-02T11:01:55.709232Z",
     "shell.execute_reply": "2022-12-02T11:01:55.706620Z"
    },
    "papermill": {
     "duration": 3.819763,
     "end_time": "2022-12-02T09:18:36.137832",
     "exception": true,
     "start_time": "2022-12-02T09:18:32.318069",
     "status": "failed"
    },
    "scrolled": false,
    "tags": []
   },
   "outputs": [
    {
     "name": "stdout",
     "output_type": "stream",
     "text": [
      "                         intime\n",
      "0  '2022-12-02 11:01:14.953585'\n"
     ]
    }
   ],
   "source": [
    "\n",
    "df= pd.read_csv('input_data.csv')\n",
    "print(df)\n",
    "df_metrics=pd.read_csv('data.csv')"
   ]
  },
  {
   "cell_type": "code",
   "execution_count": 9,
   "id": "5edcf7af",
   "metadata": {
    "execution": {
     "iopub.execute_input": "2022-12-02T11:01:55.720196Z",
     "iopub.status.busy": "2022-12-02T11:01:55.719073Z",
     "iopub.status.idle": "2022-12-02T11:01:55.764090Z",
     "shell.execute_reply": "2022-12-02T11:01:55.761378Z"
    },
    "papermill": {
     "duration": null,
     "end_time": null,
     "exception": null,
     "start_time": null,
     "status": "pending"
    },
    "tags": []
   },
   "outputs": [],
   "source": [
    "#Minio Client\n",
    "client = Minio(minio_host, access_key = \"minio\", secret_key =\"minio123\",secure=False)\n",
    "# List objects from the bicket and notedown time  stamp  when they stored\n",
    "objects = client.list_objects(bucket_name,recursive=True)\n",
    "outtime = []\n",
    "for obj in objects:\n",
    "    outtime.append(obj.last_modified)#\n",
    "    client.remove_object(bucket_name, obj.object_name)\n"
   ]
  },
  {
   "cell_type": "code",
   "execution_count": 10,
   "id": "7315e1e9",
   "metadata": {
    "execution": {
     "iopub.execute_input": "2022-12-02T11:01:55.776907Z",
     "iopub.status.busy": "2022-12-02T11:01:55.775834Z",
     "iopub.status.idle": "2022-12-02T11:01:55.841193Z",
     "shell.execute_reply": "2022-12-02T11:01:55.838974Z"
    },
    "papermill": {
     "duration": null,
     "end_time": null,
     "exception": null,
     "start_time": null,
     "status": "pending"
    },
    "scrolled": true,
    "tags": []
   },
   "outputs": [
    {
     "data": {
      "text/html": [
       "<div>\n",
       "<style scoped>\n",
       "    .dataframe tbody tr th:only-of-type {\n",
       "        vertical-align: middle;\n",
       "    }\n",
       "\n",
       "    .dataframe tbody tr th {\n",
       "        vertical-align: top;\n",
       "    }\n",
       "\n",
       "    .dataframe thead th {\n",
       "        text-align: right;\n",
       "    }\n",
       "</style>\n",
       "<table border=\"1\" class=\"dataframe\">\n",
       "  <thead>\n",
       "    <tr style=\"text-align: right;\">\n",
       "      <th></th>\n",
       "      <th>intime</th>\n",
       "      <th>outtime</th>\n",
       "    </tr>\n",
       "  </thead>\n",
       "  <tbody>\n",
       "    <tr>\n",
       "      <th>0</th>\n",
       "      <td>2022-12-02 11:01:14.953585</td>\n",
       "      <td>2022-12-02 11:01:21.604</td>\n",
       "    </tr>\n",
       "  </tbody>\n",
       "</table>\n",
       "</div>"
      ],
      "text/plain": [
       "                      intime                 outtime\n",
       "0 2022-12-02 11:01:14.953585 2022-12-02 11:01:21.604"
      ]
     },
     "metadata": {},
     "output_type": "display_data"
    },
    {
     "name": "stdout",
     "output_type": "stream",
     "text": [
      "0 days 00:00:06.650415\n"
     ]
    }
   ],
   "source": [
    "df['outtime']= outtime\n",
    "df['outtime']= pd.to_datetime(df['outtime']).dt.tz_convert(None)\n",
    "df['intime']= pd.to_datetime(df['intime'])\n",
    "df =df.sort_values(by=\"outtime\")\n",
    "display(df)\n",
    "print(df['outtime'].iloc[-1]-df['intime'].iloc[0])"
   ]
  },
  {
   "cell_type": "code",
   "execution_count": 11,
   "id": "10f383a2",
   "metadata": {
    "execution": {
     "iopub.execute_input": "2022-12-02T11:01:55.854303Z",
     "iopub.status.busy": "2022-12-02T11:01:55.853232Z",
     "iopub.status.idle": "2022-12-02T11:01:55.865430Z",
     "shell.execute_reply": "2022-12-02T11:01:55.862731Z"
    },
    "papermill": {
     "duration": null,
     "end_time": null,
     "exception": null,
     "start_time": null,
     "status": "pending"
    },
    "tags": []
   },
   "outputs": [],
   "source": [
    "def get_function_execution_time(cmd):\n",
    "    with Popen(cmd, stdout=PIPE, stderr=None, shell=True) as process:\n",
    "        return (process.communicate()[0].decode(\"utf-8\"))    \n"
   ]
  },
  {
   "cell_type": "code",
   "execution_count": 12,
   "id": "58e9c028",
   "metadata": {
    "execution": {
     "iopub.execute_input": "2022-12-02T11:01:55.877167Z",
     "iopub.status.busy": "2022-12-02T11:01:55.875952Z",
     "iopub.status.idle": "2022-12-02T11:02:08.702939Z",
     "shell.execute_reply": "2022-12-02T11:02:08.700020Z"
    },
    "papermill": {
     "duration": null,
     "end_time": null,
     "exception": null,
     "start_time": null,
     "status": "pending"
    },
    "tags": []
   },
   "outputs": [
    {
     "data": {
      "text/html": [
       "<div>\n",
       "<style scoped>\n",
       "    .dataframe tbody tr th:only-of-type {\n",
       "        vertical-align: middle;\n",
       "    }\n",
       "\n",
       "    .dataframe tbody tr th {\n",
       "        vertical-align: top;\n",
       "    }\n",
       "\n",
       "    .dataframe thead th {\n",
       "        text-align: right;\n",
       "    }\n",
       "</style>\n",
       "<table border=\"1\" class=\"dataframe\">\n",
       "  <thead>\n",
       "    <tr style=\"text-align: right;\">\n",
       "      <th></th>\n",
       "      <th>intime</th>\n",
       "      <th>outtime</th>\n",
       "      <th>aeneas</th>\n",
       "      <th>tocloud</th>\n",
       "    </tr>\n",
       "  </thead>\n",
       "  <tbody>\n",
       "    <tr>\n",
       "      <th>0</th>\n",
       "      <td>2022-12-02 11:01:14.953585</td>\n",
       "      <td>2022-12-02 11:01:21.604</td>\n",
       "      <td>4.068</td>\n",
       "      <td>0.0452</td>\n",
       "    </tr>\n",
       "  </tbody>\n",
       "</table>\n",
       "</div>"
      ],
      "text/plain": [
       "                      intime                 outtime aeneas tocloud\n",
       "0 2022-12-02 11:01:14.953585 2022-12-02 11:01:21.604  4.068  0.0452"
      ]
     },
     "execution_count": 12,
     "metadata": {},
     "output_type": "execute_result"
    }
   ],
   "source": [
    "#cmd1 = \"sudo kubectl logs gateway-7b8d9dbb5b-rhnwl  -n openfaas -c gateway | grep getobject | cut -c 71-77 | tail -\"\n",
    "cmd1=\"ssh ubuntu@172.17.141.197 \"+\"sudo kubectl logs gateway-7b8d9dbb5b-xlhm8  -n openfaas -c gateway  | grep /function/aeneas | cut -c 81-85 | tail -\"+str(len(outtime))\n",
    "cmd2=\"ssh ubuntu@172.17.141.197 \"+\"sudo kubectl logs gateway-7b8d9dbb5b-xlhm8 -n openfaas -c gateway  | grep /function/scaling-aeneas-tocloud | cut -c 96-101 | tail -\"+str(len(outtime))\n",
    "df['aeneas']=(get_function_execution_time(cmd1)).split(\"\\n\")[:-1]\n",
    "df['tocloud']=(get_function_execution_time(cmd2)).split(\"\\n\")[:-1]\n",
    "df"
   ]
  },
  {
   "cell_type": "code",
   "execution_count": 13,
   "id": "0b305551",
   "metadata": {
    "execution": {
     "iopub.execute_input": "2022-12-02T11:02:08.714540Z",
     "iopub.status.busy": "2022-12-02T11:02:08.713420Z",
     "iopub.status.idle": "2022-12-02T11:02:08.768619Z",
     "shell.execute_reply": "2022-12-02T11:02:08.766252Z"
    },
    "papermill": {
     "duration": null,
     "end_time": null,
     "exception": null,
     "start_time": null,
     "status": "pending"
    },
    "scrolled": true,
    "tags": []
   },
   "outputs": [
    {
     "data": {
      "text/html": [
       "<div>\n",
       "<style scoped>\n",
       "    .dataframe tbody tr th:only-of-type {\n",
       "        vertical-align: middle;\n",
       "    }\n",
       "\n",
       "    .dataframe tbody tr th {\n",
       "        vertical-align: top;\n",
       "    }\n",
       "\n",
       "    .dataframe thead th {\n",
       "        text-align: right;\n",
       "    }\n",
       "</style>\n",
       "<table border=\"1\" class=\"dataframe\">\n",
       "  <thead>\n",
       "    <tr style=\"text-align: right;\">\n",
       "      <th></th>\n",
       "      <th>intime</th>\n",
       "      <th>outtime</th>\n",
       "      <th>aeneas</th>\n",
       "      <th>tocloud</th>\n",
       "      <th>TPT</th>\n",
       "      <th>FET</th>\n",
       "      <th>Waiting time</th>\n",
       "    </tr>\n",
       "  </thead>\n",
       "  <tbody>\n",
       "    <tr>\n",
       "      <th>0</th>\n",
       "      <td>2022-12-02 11:01:14.953585</td>\n",
       "      <td>2022-12-02 11:01:21.604</td>\n",
       "      <td>4.068</td>\n",
       "      <td>0.0452</td>\n",
       "      <td>6</td>\n",
       "      <td>4.1132</td>\n",
       "      <td>1.8868</td>\n",
       "    </tr>\n",
       "  </tbody>\n",
       "</table>\n",
       "</div>"
      ],
      "text/plain": [
       "                      intime                 outtime aeneas tocloud  TPT  \\\n",
       "0 2022-12-02 11:01:14.953585 2022-12-02 11:01:21.604  4.068  0.0452    6   \n",
       "\n",
       "      FET  Waiting time  \n",
       "0  4.1132        1.8868  "
      ]
     },
     "metadata": {},
     "output_type": "display_data"
    }
   ],
   "source": [
    "#print(df['aeneas'])\n",
    "#print(df['tocloud'])\n",
    "#TPT: Total Processing Time\n",
    "#FET: Function Execution Time\n",
    "#CT: Communication Time\n",
    "df =df.sort_values(by=\"outtime\")\n",
    "df['TPT']=(df['outtime']-df['intime']).dt.seconds\n",
    "df['FET'] = (df['aeneas']).astype(float) + (df['tocloud']).astype(float)\n",
    "df['Waiting time']= (df['TPT']).astype(float) - df['FET']\n",
    "\n",
    "display(df)\n",
    "df[\"scenario\"]= \"\"+str(user)+\"_\"+str(iteration)+\"_\"+scenario\n"
   ]
  },
  {
   "cell_type": "code",
   "execution_count": 14,
   "id": "b57aa799",
   "metadata": {
    "execution": {
     "iopub.execute_input": "2022-12-02T11:02:08.780576Z",
     "iopub.status.busy": "2022-12-02T11:02:08.779253Z",
     "iopub.status.idle": "2022-12-02T11:02:08.794052Z",
     "shell.execute_reply": "2022-12-02T11:02:08.791254Z"
    },
    "papermill": {
     "duration": null,
     "end_time": null,
     "exception": null,
     "start_time": null,
     "status": "pending"
    },
    "tags": []
   },
   "outputs": [],
   "source": [
    "pre_url = PROMETHEUS + '/api/v1/query?query='\n",
    "timestamp= pd.to_datetime(df['outtime'].iloc[-1], format='%Y-%m-%d %H:%M:%S')\n",
    "time = (time.mktime(timestamp.timetuple()))\n",
    "#interval= int(df['TPT'].sum()) if int(df['TPT'].sum()) > 60  else 60\n"
   ]
  },
  {
   "cell_type": "code",
   "execution_count": 15,
   "id": "69bfb5c5",
   "metadata": {
    "execution": {
     "iopub.execute_input": "2022-12-02T11:02:08.805539Z",
     "iopub.status.busy": "2022-12-02T11:02:08.804506Z",
     "iopub.status.idle": "2022-12-02T11:02:08.817307Z",
     "shell.execute_reply": "2022-12-02T11:02:08.814583Z"
    },
    "papermill": {
     "duration": null,
     "end_time": null,
     "exception": null,
     "start_time": null,
     "status": "pending"
    },
    "tags": []
   },
   "outputs": [],
   "source": [
    "interval = (df.loc[user-1, 'outtime'] - df.loc[0, 'intime']).total_seconds()\n",
    "interval= round(interval)"
   ]
  },
  {
   "cell_type": "code",
   "execution_count": 16,
   "id": "9ac91c17",
   "metadata": {
    "execution": {
     "iopub.execute_input": "2022-12-02T11:02:08.828854Z",
     "iopub.status.busy": "2022-12-02T11:02:08.827870Z",
     "iopub.status.idle": "2022-12-02T11:02:08.844373Z",
     "shell.execute_reply": "2022-12-02T11:02:08.841709Z"
    },
    "papermill": {
     "duration": null,
     "end_time": null,
     "exception": null,
     "start_time": null,
     "status": "pending"
    },
    "tags": []
   },
   "outputs": [
    {
     "name": "stdout",
     "output_type": "stream",
     "text": [
      "60\n"
     ]
    }
   ],
   "source": [
    "interval= round((df.loc[user-1, 'outtime'] - df.loc[0, 'intime']).total_seconds()) if round((df.loc[user-1, 'outtime'] - df.loc[0, 'intime']).total_seconds()) > 60  else 60\n",
    "print(interval)"
   ]
  },
  {
   "cell_type": "code",
   "execution_count": 17,
   "id": "af766581",
   "metadata": {
    "execution": {
     "iopub.execute_input": "2022-12-02T11:02:08.855846Z",
     "iopub.status.busy": "2022-12-02T11:02:08.854659Z",
     "iopub.status.idle": "2022-12-02T11:02:08.869879Z",
     "shell.execute_reply": "2022-12-02T11:02:08.867063Z"
    },
    "papermill": {
     "duration": null,
     "end_time": null,
     "exception": null,
     "start_time": null,
     "status": "pending"
    },
    "tags": []
   },
   "outputs": [],
   "source": [
    "def getdataprometheus(url):\n",
    "    headers= {\"Accept\": \"application/json\"}\n",
    "    res = json.loads(requests.post(url=url, headers=headers).content.decode('utf8', 'ignore'))\n",
    "    data=res.get('data').get('result')[0].get('value')[1]\n",
    "    return data"
   ]
  },
  {
   "cell_type": "code",
   "execution_count": 18,
   "id": "633a7090",
   "metadata": {
    "execution": {
     "iopub.execute_input": "2022-12-02T11:02:08.881635Z",
     "iopub.status.busy": "2022-12-02T11:02:08.880567Z",
     "iopub.status.idle": "2022-12-02T11:02:09.019865Z",
     "shell.execute_reply": "2022-12-02T11:02:09.017313Z"
    },
    "papermill": {
     "duration": null,
     "end_time": null,
     "exception": null,
     "start_time": null,
     "status": "pending"
    },
    "tags": []
   },
   "outputs": [],
   "source": [
    "#Pod Stats\n",
    "expr_pod_cpu_aeneas_function = 'sum(rate(container_cpu_usage_seconds_total{container_name!=\"POD\",namespace=\"openfaas-fn\",pod=~\"aeneas.*\"}['+str(interval)+'s]))&time='+str(time)\n",
    "expr_pod_cpu_tocloud_function = 'sum(rate(container_cpu_usage_seconds_total{container_name!=\"POD\",namespace=\"openfaas-fn\",pod=~\"scaling.*\"}['+str(interval)+'s]))&time='+str(time)\n",
    "expr_pod_cpu_mosquitto_broker = 'sum(rate(container_cpu_usage_seconds_total{container_name!=\"POD\",namespace=\"openfaas\",pod=~\"emqx.*\"}['+str(interval)+'s]))&time='+str(time)\n",
    "expr_pod_cpu_mosquitto_connector_aeneas = 'sum(rate(container_cpu_usage_seconds_total{container_name!=\"POD\",namespace=\"openfaas\",pod=~\"aeneas.*\"}['+str(interval)+'s]))&time='+str(time)\n",
    "expr_pod_cpu_mosquitto_connector_tocloud = 'sum(rate(container_cpu_usage_seconds_total{container_name!=\"POD\",namespace=\"openfaas\",pod=~\"tocloud.*\"}['+str(interval)+'s]))&time='+str(time)\n",
    "expr_pod_cpu_functions_all = 'sum(rate(container_cpu_usage_seconds_total{container_name!=\"POD\",namespace=\"openfaas-fn\"}['+str(interval)+'s]))&time='+str(time)\n",
    "\n",
    "df['pod_cpu_aeneas_function']=getdataprometheus(pre_url+expr_pod_cpu_aeneas_function)\n",
    "df['pod_cpu_tocloud_function']=getdataprometheus(pre_url+expr_pod_cpu_tocloud_function)\n",
    "df['pod_cpu_mosquitto_broker']=getdataprometheus(pre_url+expr_pod_cpu_mosquitto_broker)\n",
    "df['pod_cpu_mosquitto_connector_aeneas']=getdataprometheus(pre_url+expr_pod_cpu_mosquitto_connector_aeneas)\n",
    "df['pod_cpu_mosquitto_connector_tocloud']=getdataprometheus(pre_url+expr_pod_cpu_mosquitto_connector_tocloud)\n",
    "df['pod_cpu_functions_all']=getdataprometheus(pre_url+expr_pod_cpu_functions_all)\n"
   ]
  },
  {
   "cell_type": "code",
   "execution_count": 19,
   "id": "8fe81200",
   "metadata": {
    "execution": {
     "iopub.execute_input": "2022-12-02T11:02:09.032427Z",
     "iopub.status.busy": "2022-12-02T11:02:09.031145Z",
     "iopub.status.idle": "2022-12-02T11:02:09.104340Z",
     "shell.execute_reply": "2022-12-02T11:02:09.101785Z"
    },
    "papermill": {
     "duration": null,
     "end_time": null,
     "exception": null,
     "start_time": null,
     "status": "pending"
    },
    "tags": []
   },
   "outputs": [
    {
     "name": "stderr",
     "output_type": "stream",
     "text": [
      "/tmp/ipykernel_23146/3101442244.py:1: FutureWarning: The frame.append method is deprecated and will be removed from pandas in a future version. Use pandas.concat instead.\n",
      "  df_metrics = df_metrics.append(df, ignore_index=True)\n"
     ]
    },
    {
     "data": {
      "text/html": [
       "<div>\n",
       "<style scoped>\n",
       "    .dataframe tbody tr th:only-of-type {\n",
       "        vertical-align: middle;\n",
       "    }\n",
       "\n",
       "    .dataframe tbody tr th {\n",
       "        vertical-align: top;\n",
       "    }\n",
       "\n",
       "    .dataframe thead th {\n",
       "        text-align: right;\n",
       "    }\n",
       "</style>\n",
       "<table border=\"1\" class=\"dataframe\">\n",
       "  <thead>\n",
       "    <tr style=\"text-align: right;\">\n",
       "      <th></th>\n",
       "      <th>scenario</th>\n",
       "      <th>intime</th>\n",
       "      <th>outtime</th>\n",
       "      <th>aeneas</th>\n",
       "      <th>tocloud</th>\n",
       "      <th>TPT</th>\n",
       "      <th>FET</th>\n",
       "      <th>Waiting time</th>\n",
       "      <th>pod_cpu_aeneas_function</th>\n",
       "      <th>pod_cpu_tocloud_function</th>\n",
       "      <th>pod_cpu_mosquitto_broker</th>\n",
       "      <th>pod_cpu_mosquitto_connector_aeneas</th>\n",
       "      <th>pod_cpu_mosquitto_connector_tocloud</th>\n",
       "      <th>pod_cpu_functions_all</th>\n",
       "    </tr>\n",
       "  </thead>\n",
       "  <tbody>\n",
       "    <tr>\n",
       "      <th>0</th>\n",
       "      <td>1_1_resource_usage</td>\n",
       "      <td>2022-12-01 18:49:56.380118</td>\n",
       "      <td>2022-12-01 18:50:02.954</td>\n",
       "      <td>4.118</td>\n",
       "      <td>0.0415</td>\n",
       "      <td>6</td>\n",
       "      <td>4.1595</td>\n",
       "      <td>1.8405</td>\n",
       "      <td>0.003561</td>\n",
       "      <td>0.00402</td>\n",
       "      <td>0.034577</td>\n",
       "      <td>0.024839</td>\n",
       "      <td>0.023136</td>\n",
       "      <td>0.01167</td>\n",
       "    </tr>\n",
       "    <tr>\n",
       "      <th>1</th>\n",
       "      <td>1_1_resource_usage</td>\n",
       "      <td>2022-12-01 18:52:16.525348</td>\n",
       "      <td>2022-12-01 18:52:22.057000</td>\n",
       "      <td>4.028</td>\n",
       "      <td>0.0384</td>\n",
       "      <td>5</td>\n",
       "      <td>4.0664</td>\n",
       "      <td>0.9336</td>\n",
       "      <td>0.108619</td>\n",
       "      <td>0.00373</td>\n",
       "      <td>0.028371</td>\n",
       "      <td>0.02798</td>\n",
       "      <td>0.0</td>\n",
       "      <td>0.114632</td>\n",
       "    </tr>\n",
       "    <tr>\n",
       "      <th>2</th>\n",
       "      <td>1_1_resource_usage</td>\n",
       "      <td>2022-12-01 19:20:09.493529</td>\n",
       "      <td>2022-12-01 19:20:15.414000</td>\n",
       "      <td>4.055</td>\n",
       "      <td>0.0425</td>\n",
       "      <td>5</td>\n",
       "      <td>4.0975</td>\n",
       "      <td>0.9025</td>\n",
       "      <td>0.003992</td>\n",
       "      <td>0.004015</td>\n",
       "      <td>0.027063</td>\n",
       "      <td>0.136824</td>\n",
       "      <td>0.019329</td>\n",
       "      <td>0.013349</td>\n",
       "    </tr>\n",
       "    <tr>\n",
       "      <th>3</th>\n",
       "      <td>1_1_resource_usage</td>\n",
       "      <td>2022-12-01 19:25:32.694148</td>\n",
       "      <td>2022-12-01 19:25:38.233000</td>\n",
       "      <td>4.026</td>\n",
       "      <td>0.0398</td>\n",
       "      <td>5</td>\n",
       "      <td>4.0658</td>\n",
       "      <td>0.9342</td>\n",
       "      <td>0.004399</td>\n",
       "      <td>0.003966</td>\n",
       "      <td>0.025186</td>\n",
       "      <td>0.026365</td>\n",
       "      <td>0.025079</td>\n",
       "      <td>0.013947</td>\n",
       "    </tr>\n",
       "    <tr>\n",
       "      <th>4</th>\n",
       "      <td>1_1_resource_usage</td>\n",
       "      <td>2022-12-01 19:33:38.592264</td>\n",
       "      <td>2022-12-01 19:33:44.490000</td>\n",
       "      <td>4.031</td>\n",
       "      <td>0.0379</td>\n",
       "      <td>5</td>\n",
       "      <td>4.0689</td>\n",
       "      <td>0.9311</td>\n",
       "      <td>0.003717</td>\n",
       "      <td>0.004468</td>\n",
       "      <td>0.029632</td>\n",
       "      <td>0.012512</td>\n",
       "      <td>0.019951</td>\n",
       "      <td>0.013355</td>\n",
       "    </tr>\n",
       "    <tr>\n",
       "      <th>5</th>\n",
       "      <td>1_1_resource_usage</td>\n",
       "      <td>2022-12-01 19:42:06.285642</td>\n",
       "      <td>2022-12-01 19:42:11.476000</td>\n",
       "      <td>4.033</td>\n",
       "      <td>0.0414</td>\n",
       "      <td>5</td>\n",
       "      <td>4.0744</td>\n",
       "      <td>0.9256</td>\n",
       "      <td>0.004231</td>\n",
       "      <td>0.003788</td>\n",
       "      <td>0.035133</td>\n",
       "      <td>0.011785</td>\n",
       "      <td>0.012181</td>\n",
       "      <td>0.010219</td>\n",
       "    </tr>\n",
       "    <tr>\n",
       "      <th>6</th>\n",
       "      <td>1_1_resource_usage</td>\n",
       "      <td>2022-12-02 09:59:09.379479</td>\n",
       "      <td>2022-12-02 09:59:15.458000</td>\n",
       "      <td>4.057</td>\n",
       "      <td>0.038</td>\n",
       "      <td>6</td>\n",
       "      <td>4.0950</td>\n",
       "      <td>1.9050</td>\n",
       "      <td>0.003516</td>\n",
       "      <td>0.004177</td>\n",
       "      <td>0.038106</td>\n",
       "      <td>0.010921</td>\n",
       "      <td>0.007276</td>\n",
       "      <td>0.011493</td>\n",
       "    </tr>\n",
       "    <tr>\n",
       "      <th>7</th>\n",
       "      <td>1_1_resource_usage</td>\n",
       "      <td>2022-12-02 10:10:56.315323</td>\n",
       "      <td>2022-12-02 10:11:02.740000</td>\n",
       "      <td>4.034</td>\n",
       "      <td>0.0408</td>\n",
       "      <td>6</td>\n",
       "      <td>4.0748</td>\n",
       "      <td>1.9252</td>\n",
       "      <td>0.016082</td>\n",
       "      <td>0.002789</td>\n",
       "      <td>0.033197</td>\n",
       "      <td>0.025091</td>\n",
       "      <td>0.024858</td>\n",
       "      <td>0.023914</td>\n",
       "    </tr>\n",
       "    <tr>\n",
       "      <th>8</th>\n",
       "      <td>1_1_resource_usage</td>\n",
       "      <td>2022-12-02 10:20:48.306775</td>\n",
       "      <td>2022-12-02 10:20:53.518000</td>\n",
       "      <td>4.064</td>\n",
       "      <td>0.0396</td>\n",
       "      <td>5</td>\n",
       "      <td>4.1036</td>\n",
       "      <td>0.8964</td>\n",
       "      <td>0.029344</td>\n",
       "      <td>0.004756</td>\n",
       "      <td>0.0</td>\n",
       "      <td>0.025746</td>\n",
       "      <td>0.018616</td>\n",
       "      <td>0.039305</td>\n",
       "    </tr>\n",
       "    <tr>\n",
       "      <th>9</th>\n",
       "      <td>1_1_resource_usage</td>\n",
       "      <td>2022-12-02 11:01:14.953585</td>\n",
       "      <td>2022-12-02 11:01:21.604000</td>\n",
       "      <td>4.068</td>\n",
       "      <td>0.0452</td>\n",
       "      <td>6</td>\n",
       "      <td>4.1132</td>\n",
       "      <td>1.8868</td>\n",
       "      <td>0.02715786126816026</td>\n",
       "      <td>0.0029489358908481185</td>\n",
       "      <td>0.029098900729729416</td>\n",
       "      <td>0.168291239608318</td>\n",
       "      <td>0.01392317378115719</td>\n",
       "      <td>0.031041526359009433</td>\n",
       "    </tr>\n",
       "  </tbody>\n",
       "</table>\n",
       "</div>"
      ],
      "text/plain": [
       "             scenario                      intime                     outtime  \\\n",
       "0  1_1_resource_usage  2022-12-01 18:49:56.380118     2022-12-01 18:50:02.954   \n",
       "1  1_1_resource_usage  2022-12-01 18:52:16.525348  2022-12-01 18:52:22.057000   \n",
       "2  1_1_resource_usage  2022-12-01 19:20:09.493529  2022-12-01 19:20:15.414000   \n",
       "3  1_1_resource_usage  2022-12-01 19:25:32.694148  2022-12-01 19:25:38.233000   \n",
       "4  1_1_resource_usage  2022-12-01 19:33:38.592264  2022-12-01 19:33:44.490000   \n",
       "5  1_1_resource_usage  2022-12-01 19:42:06.285642  2022-12-01 19:42:11.476000   \n",
       "6  1_1_resource_usage  2022-12-02 09:59:09.379479  2022-12-02 09:59:15.458000   \n",
       "7  1_1_resource_usage  2022-12-02 10:10:56.315323  2022-12-02 10:11:02.740000   \n",
       "8  1_1_resource_usage  2022-12-02 10:20:48.306775  2022-12-02 10:20:53.518000   \n",
       "9  1_1_resource_usage  2022-12-02 11:01:14.953585  2022-12-02 11:01:21.604000   \n",
       "\n",
       "  aeneas tocloud  TPT     FET  Waiting time pod_cpu_aeneas_function  \\\n",
       "0  4.118  0.0415    6  4.1595        1.8405                0.003561   \n",
       "1  4.028  0.0384    5  4.0664        0.9336                0.108619   \n",
       "2  4.055  0.0425    5  4.0975        0.9025                0.003992   \n",
       "3  4.026  0.0398    5  4.0658        0.9342                0.004399   \n",
       "4  4.031  0.0379    5  4.0689        0.9311                0.003717   \n",
       "5  4.033  0.0414    5  4.0744        0.9256                0.004231   \n",
       "6  4.057   0.038    6  4.0950        1.9050                0.003516   \n",
       "7  4.034  0.0408    6  4.0748        1.9252                0.016082   \n",
       "8  4.064  0.0396    5  4.1036        0.8964                0.029344   \n",
       "9  4.068  0.0452    6  4.1132        1.8868     0.02715786126816026   \n",
       "\n",
       "  pod_cpu_tocloud_function pod_cpu_mosquitto_broker  \\\n",
       "0                  0.00402                 0.034577   \n",
       "1                  0.00373                 0.028371   \n",
       "2                 0.004015                 0.027063   \n",
       "3                 0.003966                 0.025186   \n",
       "4                 0.004468                 0.029632   \n",
       "5                 0.003788                 0.035133   \n",
       "6                 0.004177                 0.038106   \n",
       "7                 0.002789                 0.033197   \n",
       "8                 0.004756                      0.0   \n",
       "9    0.0029489358908481185     0.029098900729729416   \n",
       "\n",
       "  pod_cpu_mosquitto_connector_aeneas pod_cpu_mosquitto_connector_tocloud  \\\n",
       "0                           0.024839                            0.023136   \n",
       "1                            0.02798                                 0.0   \n",
       "2                           0.136824                            0.019329   \n",
       "3                           0.026365                            0.025079   \n",
       "4                           0.012512                            0.019951   \n",
       "5                           0.011785                            0.012181   \n",
       "6                           0.010921                            0.007276   \n",
       "7                           0.025091                            0.024858   \n",
       "8                           0.025746                            0.018616   \n",
       "9                  0.168291239608318                 0.01392317378115719   \n",
       "\n",
       "  pod_cpu_functions_all  \n",
       "0               0.01167  \n",
       "1              0.114632  \n",
       "2              0.013349  \n",
       "3              0.013947  \n",
       "4              0.013355  \n",
       "5              0.010219  \n",
       "6              0.011493  \n",
       "7              0.023914  \n",
       "8              0.039305  \n",
       "9  0.031041526359009433  "
      ]
     },
     "metadata": {},
     "output_type": "display_data"
    }
   ],
   "source": [
    "df_metrics = df_metrics.append(df, ignore_index=True)\n",
    "df_metrics.to_csv(\"data.csv\",index=False)\n",
    "display(df_metrics)"
   ]
  },
  {
   "cell_type": "code",
   "execution_count": 20,
   "id": "7bf30658",
   "metadata": {
    "execution": {
     "iopub.execute_input": "2022-12-02T11:02:09.116550Z",
     "iopub.status.busy": "2022-12-02T11:02:09.115226Z",
     "iopub.status.idle": "2022-12-02T11:02:09.126610Z",
     "shell.execute_reply": "2022-12-02T11:02:09.123740Z"
    },
    "papermill": {
     "duration": null,
     "end_time": null,
     "exception": null,
     "start_time": null,
     "status": "pending"
    },
    "scrolled": true,
    "tags": []
   },
   "outputs": [],
   "source": [
    "# user=df.shape[0]\n",
    "# metrics = {'workload_type':str(user)+\"_\"+scenario,'workload_size':user,'Workload TPT':(df.loc[user-1, 'outtime'] - df.loc[0, 'intime']).total_seconds(),'Average Workload TPT':df['TPT'].mean(),'Average FET':df['FET'].mean(),'Average Waiting Time':df['Waiting time'].mean()}\n"
   ]
  },
  {
   "cell_type": "code",
   "execution_count": 21,
   "id": "094384ba",
   "metadata": {
    "execution": {
     "iopub.execute_input": "2022-12-02T11:02:09.139828Z",
     "iopub.status.busy": "2022-12-02T11:02:09.138838Z",
     "iopub.status.idle": "2022-12-02T11:02:09.151042Z",
     "shell.execute_reply": "2022-12-02T11:02:09.148231Z"
    },
    "papermill": {
     "duration": null,
     "end_time": null,
     "exception": null,
     "start_time": null,
     "status": "pending"
    },
    "tags": []
   },
   "outputs": [],
   "source": [
    "# expr_cpu='sum(rate(container_cpu_usage_seconds_total{container_name!=\"POD\",namespace=~\"openfaas.*|default\"}[5m]))&time='+str(time)\n",
    "# expr_memory='sum(container_memory_working_set_bytes{container_name!=\"POD\",namespace=~\"openfaas.*|default\"})&time='+str(time)\n",
    "# expr_disk_read ='sum(rate(container_fs_reads_bytes_total{namespace=~\"openfaas.*|default\"}['+str(interval)+'s]))&time='+str(time)\n",
    "# expr_disk_write='sum(rate(container_fs_writes_bytes_total{namespace=~\"openfaas.*|default\"}['+str(interval)+'s]))&time='+str(time)\n",
    "# expr_network_transmit='sum(rate(container_network_transmit_bytes_total{namespace=~\"openfaas.*|default\"}['+str(interval)+'s]))&time='+str(time)\n",
    "# expr_network_recieve='sum(rate(container_network_receive_bytes_total{namespace=~\"openfaas.*|default\"}['+str(interval)+'s]))&time='+str(time)\n",
    "# #expr_cpu = '100 - (avg (irate(node_cpu_seconds_total{mode=\"idle\"}['+str(interval)+'s])) * 100)&time='+str(time)\n",
    "# #expr_memory = '100 - ((sum(node_memory_MemAvailable_bytes) / sum(node_memory_MemTotal_bytes))*100)&time='+str(time)\n",
    "# #expr_disk_read = 'sum(rate(node_disk_read_bytes_total['+str(interval)+'s]))&time='+str(time)\n",
    "# #expr_disk_write =  'sum(rate(node_disk_written_bytes_total['+str(interval)+'s]))&time='+str(time)\n",
    "# #expr_network_transmit= 'sum(rate(node_network_transmit_errs_total{device!~\"lo | veth. | docker.* | flannel.* | cali.* | cbr.\"}['+str(interval)+'s]))&time='+str(time)\n",
    "# #expr_network_recieve='sum(rate(node_network_receive_packets_total{device!~\"lo | veth. | docker.* | flannel.* | cali.* | cbr.\"}['+str(interval)+'s]))&time='+str(time)\n",
    "# metrics['C_CPU'] = getdataprometheus(pre_url+expr_cpu)\n",
    "# metrics['C_RAM'] = getdataprometheus(pre_url+expr_memory)\n",
    "# metrics['C_disk_read']=getdataprometheus(pre_url+expr_disk_read)\n",
    "# metrics['C_disk_write']=getdataprometheus(pre_url+expr_disk_write)\n",
    "# metrics['C_network_recieve']=getdataprometheus(pre_url+expr_network_transmit)\n",
    "# metrics['C_network_transmit']=getdataprometheus(pre_url+expr_network_recieve)"
   ]
  },
  {
   "cell_type": "code",
   "execution_count": 22,
   "id": "7874d2bd",
   "metadata": {
    "execution": {
     "iopub.execute_input": "2022-12-02T11:02:09.163292Z",
     "iopub.status.busy": "2022-12-02T11:02:09.162076Z",
     "iopub.status.idle": "2022-12-02T11:02:09.175589Z",
     "shell.execute_reply": "2022-12-02T11:02:09.172998Z"
    },
    "papermill": {
     "duration": null,
     "end_time": null,
     "exception": null,
     "start_time": null,
     "status": "pending"
    },
    "tags": []
   },
   "outputs": [],
   "source": [
    "# #Pod Stats\n",
    "# expr_pod_cpu_aeneas_function = 'sum(rate(container_cpu_usage_seconds_total{container_name!=\"POD\",namespace=\"openfaas-fn\",pod=~\"aeneas.*\"}['+str(interval)+'s]))&time='+str(time)\n",
    "# expr_pod_cpu_tocloud_function = 'sum(rate(container_cpu_usage_seconds_total{container_name!=\"POD\",namespace=\"openfaas-fn\",pod=~\"scaling.*\"}['+str(interval)+'s]))&time='+str(time)\n",
    "# expr_pod_cpu_mosquitto_broker = 'sum(rate(container_cpu_usage_seconds_total{container_name!=\"POD\",namespace=\"openfaas\",pod=~\"emqx.*\"}['+str(interval)+'s]))&time='+str(time)\n",
    "# expr_pod_cpu_mosquitto_connector_aeneas = 'sum(rate(container_cpu_usage_seconds_total{container_name!=\"POD\",namespace=\"openfaas\",pod=~\"aeneas.*\"}['+str(interval)+'s]))&time='+str(time)\n",
    "# expr_pod_cpu_mosquitto_connector_tocloud = 'sum(rate(container_cpu_usage_seconds_total{container_name!=\"POD\",namespace=\"openfaas\",pod=~\"tocloud.*\"}['+str(interval)+'s]))&time='+str(time)\n",
    "# expr_pod_cpu_functions_all = 'sum(rate(container_cpu_usage_seconds_total{container_name!=\"POD\",namespace=\"openfaas-fn\"}['+str(interval)+'s]))&time='+str(time)\n",
    "\n",
    "# metrics['pod_cpu_aeneas_function']=getdataprometheus(pre_url+expr_pod_cpu_aeneas_function)\n",
    "# metrics['pod_cpu_tocloud_function']=getdataprometheus(pre_url+expr_pod_cpu_tocloud_function)\n",
    "# metrics['pod_cpu_mosquitto_broker']=getdataprometheus(pre_url+expr_pod_cpu_mosquitto_broker)\n",
    "# metrics['pod_cpu_mosquitto_connector_aeneas']=getdataprometheus(pre_url+expr_pod_cpu_mosquitto_connector_aeneas)\n",
    "# metrics['pod_cpu_mosquitto_connector_tocloud']=getdataprometheus(pre_url+expr_pod_cpu_mosquitto_connector_tocloud)\n",
    "# metrics['pod_cpu_functions_all']=getdataprometheus(pre_url+expr_pod_cpu_functions_all)\n",
    "\n"
   ]
  },
  {
   "cell_type": "code",
   "execution_count": 23,
   "id": "c0429742",
   "metadata": {
    "execution": {
     "iopub.execute_input": "2022-12-02T11:02:09.187573Z",
     "iopub.status.busy": "2022-12-02T11:02:09.186445Z",
     "iopub.status.idle": "2022-12-02T11:02:09.198801Z",
     "shell.execute_reply": "2022-12-02T11:02:09.195730Z"
    },
    "papermill": {
     "duration": null,
     "end_time": null,
     "exception": null,
     "start_time": null,
     "status": "pending"
    },
    "tags": []
   },
   "outputs": [],
   "source": [
    "#!echo \"workload_type,workload_size,Workload TPT,Average Workload TPT,Average FET,Average Waiting Time,C_CPU,C_RAM,C_disk_read,C_disk_write,C_network_recieve,C_network_transmit,pod_cpu_aeneas_function,pod_cpu_functions_all,pod_cpu_mosquitto_broker,pod_cpu_mosquitto_connector_aeneas,pod_cpu_mosquitto_connector_tocloud\" > metrics.csv"
   ]
  },
  {
   "cell_type": "code",
   "execution_count": 24,
   "id": "7edeb35d",
   "metadata": {
    "execution": {
     "iopub.execute_input": "2022-12-02T11:02:09.210902Z",
     "iopub.status.busy": "2022-12-02T11:02:09.209827Z",
     "iopub.status.idle": "2022-12-02T11:02:09.220672Z",
     "shell.execute_reply": "2022-12-02T11:02:09.217760Z"
    },
    "papermill": {
     "duration": null,
     "end_time": null,
     "exception": null,
     "start_time": null,
     "status": "pending"
    },
    "tags": []
   },
   "outputs": [],
   "source": [
    "# df_metrics = pd.read_csv(\"metrics.csv\")\n",
    "# df_metrics = df_metrics.append(metrics, ignore_index=True)\n"
   ]
  },
  {
   "cell_type": "code",
   "execution_count": 25,
   "id": "1adadec1",
   "metadata": {
    "execution": {
     "iopub.execute_input": "2022-12-02T11:02:09.233069Z",
     "iopub.status.busy": "2022-12-02T11:02:09.231798Z",
     "iopub.status.idle": "2022-12-02T11:02:09.242519Z",
     "shell.execute_reply": "2022-12-02T11:02:09.240054Z"
    },
    "papermill": {
     "duration": null,
     "end_time": null,
     "exception": null,
     "start_time": null,
     "status": "pending"
    },
    "tags": []
   },
   "outputs": [],
   "source": [
    "# df_metrics.to_csv(\"metrics.csv\",index=False)\n",
    "# #df_metrics=df_metrics.sort_values(by=\"workload_size\")\n",
    "# display(df_metrics)"
   ]
  },
  {
   "cell_type": "code",
   "execution_count": 26,
   "id": "b314722d",
   "metadata": {
    "execution": {
     "iopub.execute_input": "2022-12-02T11:02:09.254858Z",
     "iopub.status.busy": "2022-12-02T11:02:09.253585Z",
     "iopub.status.idle": "2022-12-02T11:02:09.265708Z",
     "shell.execute_reply": "2022-12-02T11:02:09.262911Z"
    },
    "papermill": {
     "duration": null,
     "end_time": null,
     "exception": null,
     "start_time": null,
     "status": "pending"
    },
    "tags": []
   },
   "outputs": [],
   "source": [
    "# pod_metrics = {}\n",
    "# expr_pod_cpu_aeneas = 'sum(rate(container_cpu_usage_seconds_total{container_name!=\"POD\",namespace=\"openfaas-fn\",pod=~\"scaling-aeneas-mqtt.*\"}['+str(interval)+'s]))&time='+str(time)\n",
    "# pod_metrics['cpu_aeneas'] = getdataprometheus(pre_url+expr_pod_cpu_aeneas)\n",
    "# expr_pod_memory_aeneas = 'sum(rate(container_memory_working_set_bytes{container_name!=\"POD\",namespace=\"openfaas-fn\",pod=~\"scaling-aeneas-mqtt.*\"}['+str(interval)+'s]))&time='+str(time)\n",
    "# pod_metrics['memory_aeneas'] = getdataprometheus(pre_url+expr_pod_memory_aeneas)\n",
    "# expr_pod_cpu_tocloud = 'sum(rate(container_cpu_usage_seconds_total{container_name!=\"POD\",namespace=\"openfaas-fn\",pod=~\"scaling-aeneas-tocloud.*\"}['+str(interval)+'s]))&time='+str(time)\n",
    "# pod_metrics['cpu_tocloud'] = getdataprometheus(pre_url+expr_pod_cpu_aeneas)\n",
    "# expr_pod_memory_tocloud = 'sum(rate(container_memory_working_set_bytes{container_name!=\"POD\",namespace=\"openfaas-fn\",pod=~\"scaling-aeneas-tolcoud.*\"}['+str(interval)+'s]))&time='+str(time)\n",
    "# pod_metrics['memory_tocloud'] = getdataprometheus(pre_url+expr_pod_memory_aeneas)\n"
   ]
  },
  {
   "cell_type": "code",
   "execution_count": 27,
   "id": "79fdc485",
   "metadata": {
    "execution": {
     "iopub.execute_input": "2022-12-02T11:02:09.277579Z",
     "iopub.status.busy": "2022-12-02T11:02:09.276395Z",
     "iopub.status.idle": "2022-12-02T11:02:09.286060Z",
     "shell.execute_reply": "2022-12-02T11:02:09.283393Z"
    },
    "papermill": {
     "duration": null,
     "end_time": null,
     "exception": null,
     "start_time": null,
     "status": "pending"
    },
    "tags": []
   },
   "outputs": [],
   "source": [
    "# #pod_metrics = json.loads(pod_metrics)\n",
    "# df2 = pd.DataFrame.from_dict(pod_metrics, orient=\"index\")\n",
    "# print(df2)"
   ]
  },
  {
   "cell_type": "code",
   "execution_count": null,
   "id": "b1113345",
   "metadata": {
    "papermill": {
     "duration": null,
     "end_time": null,
     "exception": null,
     "start_time": null,
     "status": "pending"
    },
    "tags": []
   },
   "outputs": [],
   "source": []
  }
 ],
 "metadata": {
  "kernelspec": {
   "display_name": "Python 3 (ipykernel)",
   "language": "python",
   "name": "python3"
  },
  "language_info": {
   "codemirror_mode": {
    "name": "ipython",
    "version": 3
   },
   "file_extension": ".py",
   "mimetype": "text/x-python",
   "name": "python",
   "nbconvert_exporter": "python",
   "pygments_lexer": "ipython3",
   "version": "3.8.10"
  },
  "papermill": {
   "default_parameters": {},
   "duration": 53.142064,
   "end_time": "2022-12-02T09:18:37.195393",
   "environment_variables": {},
   "exception": true,
   "input_path": "aeneas/notebooks/MQTT SDP Analysis.ipynb",
   "output_path": "aeneas/notebooks/MQTT SDP Analysis.ipynb",
   "parameters": {},
   "start_time": "2022-12-02T09:17:44.053329",
   "version": "2.4.0"
  }
 },
 "nbformat": 4,
 "nbformat_minor": 5
}
