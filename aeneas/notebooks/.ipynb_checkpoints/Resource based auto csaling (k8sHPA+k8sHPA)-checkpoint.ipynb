{
 "cells": [
  {
   "cell_type": "markdown",
   "id": "b3c1f212",
   "metadata": {},
   "source": [
    "# Deploying functions "
   ]
  },
  {
   "cell_type": "code",
   "execution_count": 1,
   "id": "0ed36b5a",
   "metadata": {},
   "outputs": [],
   "source": [
    "#Reference\n",
    "#https://docs.openfaas.com/tutorials/kubernetes-hpa/"
   ]
  },
  {
   "cell_type": "code",
   "execution_count": 6,
   "id": "3205dd11",
   "metadata": {},
   "outputs": [
    {
     "name": "stdout",
     "output_type": "stream",
     "text": [
      "Deploying: aeneas.\n",
      "\n",
      "Deployed. 202 Accepted.\n",
      "URL: http://127.0.0.1:8080/function/aeneas\n",
      "\n"
     ]
    }
   ],
   "source": [
    "#Deploy function and enable the function auto scaling by openfaas\n",
    "!ssh ubuntu@172.17.141.197 \"cd scalingsdp;faas deploy  -f aeneas.yml --annotation topic=\"aeneas\" --label com.openfaas.scale.min=1 --label com.openfaas.scale.max=10 --label com.openfaas.scale.target=3 --label com.openfaas.scale.type=rps --label com.openfaas.scale.target-proportion=0.90;\""
   ]
  },
  {
   "cell_type": "code",
   "execution_count": 15,
   "id": "77641d47",
   "metadata": {},
   "outputs": [
    {
     "name": "stdout",
     "output_type": "stream",
     "text": [
      "Deploying: scaling-aeneas-tocloud.\n",
      "\n",
      "Deployed. 202 Accepted.\n",
      "URL: http://127.0.0.1:8080/function/scaling-aeneas-tocloud\n",
      "\n"
     ]
    }
   ],
   "source": [
    "#Deploy function and enable the function auto scaling by openfaas\n",
    "!ssh ubuntu@172.17.141.197 \"cd scalingsdp;faas deploy  -f scaling-aeneas-tocloud.yml --annotation topic=\"tocloud\" --label com.openfaas.scale.min=1 --label com.openfaas.scale.max=10 --label com.openfaas.scale.target=50 --label com.openfaas.scale.type=rps --label com.openfaas.scale.target-proportion=0.90;\""
   ]
  },
  {
   "cell_type": "code",
   "execution_count": 17,
   "id": "fb035310",
   "metadata": {},
   "outputs": [
    {
     "name": "stdout",
     "output_type": "stream",
     "text": [
      "Name:               scaling-aeneas-tocloud\r\n",
      "Status:             Ready\r\n",
      "Replicas:           1\r\n",
      "Available Replicas: 1\r\n",
      "Invocations:        17862905\r\n",
      "Image:              shivupoojar/scaling-aeneas-tocloud:latest\r\n",
      "Function Process:   python index.py\r\n",
      "URL:                http://127.0.0.1:8080/function/scaling-aeneas-tocloud\r\n",
      "Async URL:          http://127.0.0.1:8080/async-function/scaling-aeneas-tocloud\r\n",
      "Labels:\r\n",
      " faas_function: scaling-aeneas-tocloud\r\n",
      " uid: 126794428\r\n",
      " com.openfaas.scale.max: 10\r\n",
      " com.openfaas.scale.min: 1\r\n",
      " com.openfaas.scale.target: 50\r\n",
      " com.openfaas.scale.target-proportion: 0.90\r\n",
      " com.openfaas.scale.type: rps\r\n",
      "Annotations:\r\n",
      " prometheus.io.scrape: false\r\n",
      " topic: tocloud\r\n"
     ]
    }
   ],
   "source": [
    "!ssh ubuntu@172.17.141.197 \"faas describe scaling-aeneas-tocloud\""
   ]
  },
  {
   "cell_type": "markdown",
   "id": "c51c7291",
   "metadata": {},
   "source": [
    "# Deploying Rabbitmq Connector "
   ]
  },
  {
   "cell_type": "code",
   "execution_count": null,
   "id": "1b7ec5a5",
   "metadata": {},
   "outputs": [],
   "source": [
    "# Deploying connector configurartion\n",
    "!ssh ubuntu@172.17.141.197 \"cd rabbitmq-connector/artifacts;sudo kubectl apply -f cf.yaml\""
   ]
  },
  {
   "cell_type": "code",
   "execution_count": 2,
   "id": "cfdc2819",
   "metadata": {},
   "outputs": [
    {
     "name": "stdout",
     "output_type": "stream",
     "text": [
      "deployment.apps/rabbitmq-connector created\r\n"
     ]
    }
   ],
   "source": [
    "# Deploy connector\n",
    "!ssh ubuntu@172.17.141.197 \"cd rabbitmq-connector/artifacts;sudo kubectl apply -f configmap.yaml\""
   ]
  },
  {
   "cell_type": "code",
   "execution_count": 32,
   "id": "884c6e8f",
   "metadata": {},
   "outputs": [
    {
     "name": "stdout",
     "output_type": "stream",
     "text": [
      "NAME                                     READY   STATUS    RESTARTS            AGE\r\n",
      "prometheus-7678c644d6-9smjq              1/1     Running   2 (4d6h ago)        6d11h\r\n",
      "alertmanager-6cd7bd5c64-hrcrt            1/1     Running   2 (3d21h ago)       6d11h\r\n",
      "nats-5b77986b8-48p2x                     1/1     Running   2 (3d21h ago)       20d\r\n",
      "basic-auth-plugin-78b958969c-tnpck       1/1     Running   2 (3d21h ago)       6d11h\r\n",
      "emqx-deployment-784bfd4d4-wwllg          1/1     Running   4 (3d21h ago)       94d\r\n",
      "gateway-bf4f5d6f7-4q7kn                  2/2     Running   4 (3d21h ago)       6d11h\r\n",
      "queue-worker-7d8668444f-tmq7b            1/1     Running   3 (3d21h ago)       6d11h\r\n",
      "tocloud-mqtt-connector-cd686d989-s9shl   1/1     Running   11685 (3d21h ago)   97d\r\n",
      "aeneas-mqtt-connector-f96ff5fb6-2f6pg    1/1     Running   283 (3d21h ago)     10d\r\n"
     ]
    }
   ],
   "source": [
    "!ssh ubuntu@172.17.141.197 \"sudo kubectl get po -n openfaas\" "
   ]
  },
  {
   "cell_type": "markdown",
   "id": "7466d020",
   "metadata": {},
   "source": [
    "# Deploying KEDA and components "
   ]
  },
  {
   "cell_type": "code",
   "execution_count": 47,
   "id": "00aafd03",
   "metadata": {},
   "outputs": [
    {
     "name": "stdout",
     "output_type": "stream",
     "text": [
      "namespace/keda unchanged\n",
      "customresourcedefinition.apiextensions.k8s.io/clustertriggerauthentications.keda.sh unchanged\n",
      "customresourcedefinition.apiextensions.k8s.io/scaledjobs.keda.sh unchanged\n",
      "customresourcedefinition.apiextensions.k8s.io/scaledobjects.keda.sh unchanged\n",
      "customresourcedefinition.apiextensions.k8s.io/triggerauthentications.keda.sh unchanged\n",
      "serviceaccount/keda-operator unchanged\n",
      "clusterrole.rbac.authorization.k8s.io/keda-external-metrics-reader unchanged\n",
      "clusterrole.rbac.authorization.k8s.io/keda-operator configured\n",
      "rolebinding.rbac.authorization.k8s.io/keda-auth-reader unchanged\n",
      "clusterrolebinding.rbac.authorization.k8s.io/keda-hpa-controller-external-metrics unchanged\n",
      "clusterrolebinding.rbac.authorization.k8s.io/keda-operator unchanged\n",
      "clusterrolebinding.rbac.authorization.k8s.io/keda-system-auth-delegator unchanged\n",
      "service/keda-metrics-apiserver unchanged\n",
      "service/keda-operator unchanged\n",
      "deployment.apps/keda-metrics-apiserver configured\n",
      "deployment.apps/keda-operator configured\n",
      "apiservice.apiregistration.k8s.io/v1beta1.external.metrics.k8s.io unchanged\n"
     ]
    }
   ],
   "source": [
    "#Install KEDA \n",
    "!ssh ubuntu@172.17.141.197 \"sudo kubectl apply -f https://github.com/kedacore/keda/releases/download/v2.9.0/keda-2.9.0.yaml\""
   ]
  },
  {
   "cell_type": "code",
   "execution_count": 3,
   "id": "36dd4d31",
   "metadata": {},
   "outputs": [
    {
     "name": "stdout",
     "output_type": "stream",
     "text": [
      "NAME                                      READY   STATUS    RESTARTS        AGE\r\n",
      "keda-metrics-apiserver-5b4c56c8c8-k7f2s   1/1     Running   2 (3d1h ago)    4d17h\r\n",
      "keda-operator-598b95d667-xvd8b            1/1     Running   231 (22h ago)   4d17h\r\n"
     ]
    }
   ],
   "source": [
    "#check for the keda components\n",
    "!ssh ubuntu@172.17.141.197 \"sudo kubectl get po -n keda\""
   ]
  },
  {
   "cell_type": "code",
   "execution_count": 6,
   "id": "93abebf1",
   "metadata": {
    "scrolled": true
   },
   "outputs": [
    {
     "name": "stdout",
     "output_type": "stream",
     "text": [
      "secret/rabbitmq-consumer-secret created\n",
      "scaledobject.keda.sh/rabbitmq-connector created\n",
      "triggerauthentication.keda.sh/rabbitmq-consumer-trigger created\n"
     ]
    }
   ],
   "source": [
    "#Create Scaler\n",
    "!ssh ubuntu@172.17.141.197 \"cd /home/ubuntu/rabbitmq-testing/sample-go-rabbitmq/deploy;sudo kubectl apply -f deploy-consumer.yaml\"\n"
   ]
  },
  {
   "cell_type": "code",
   "execution_count": 8,
   "id": "8638ade8",
   "metadata": {},
   "outputs": [
    {
     "name": "stdout",
     "output_type": "stream",
     "text": [
      "NAME                          REFERENCE                       TARGETS                                MINPODS   MAXPODS   REPLICAS   AGE\r\n",
      "keda-hpa-rabbitmq-connector   Deployment/rabbitmq-connector   <unknown>/1 (avg), <unknown>/1 (avg)   1         30        0          30s\r\n"
     ]
    }
   ],
   "source": [
    "#Check for the created HPA\n",
    "!ssh ubuntu@172.17.141.197 \"sudo kubectl get hpa -n openfaas\""
   ]
  },
  {
   "cell_type": "code",
   "execution_count": 38,
   "id": "5442f65d",
   "metadata": {},
   "outputs": [
    {
     "name": "stdout",
     "output_type": "stream",
     "text": [
      "Warning: autoscaling/v2beta2 HorizontalPodAutoscaler is deprecated in v1.23+, unavailable in v1.26+; use autoscaling/v2 HorizontalPodAutoscaler\r\n",
      "Name:                                                        keda-hpa-rabbitmq-connector\r\n",
      "Namespace:                                                   openfaas\r\n",
      "Labels:                                                      app.kubernetes.io/managed-by=keda-operator\r\n",
      "                                                             app.kubernetes.io/name=keda-hpa-rabbitmq-connector\r\n",
      "                                                             app.kubernetes.io/part-of=rabbitmq-connector\r\n",
      "                                                             app.kubernetes.io/version=2.9.0\r\n",
      "                                                             scaledobject.keda.sh/name=rabbitmq-connector\r\n",
      "Annotations:                                                 <none>\r\n",
      "CreationTimestamp:                                           Mon, 26 Dec 2022 08:17:32 +0000\r\n",
      "Reference:                                                   Deployment/rabbitmq-connector\r\n",
      "Metrics:                                                     ( current / target )\r\n",
      "  \"s0-rabbitmq-OpenFaaS_Dex_aeneas\" (target average value):  <unknown> / 1\r\n",
      "  \"s1-rabbitmq-OpenFaaS_Dex_aeneas\" (target average value):  <unknown> / 1\r\n",
      "Min replicas:                                                1\r\n",
      "Max replicas:                                                30\r\n",
      "Deployment pods:                                             0 current / 0 desired\r\n",
      "Conditions:\r\n",
      "  Type            Status  Reason              Message\r\n",
      "  ----            ------  ------              -------\r\n",
      "  AbleToScale     True    SucceededGetScale   the HPA controller was able to get the target's current scale\r\n",
      "  ScalingActive   False   ScalingDisabled     scaling is disabled since the replica count of the target is zero\r\n",
      "  ScalingLimited  False   DesiredWithinRange  the desired count is within the acceptable range\r\n",
      "Events:\r\n",
      "  Type     Reason             Age                  From                       Message\r\n",
      "  ----     ------             ----                 ----                       -------\r\n",
      "  Warning  FailedGetScale     57m (x145 over 16h)  horizontal-pod-autoscaler  deployments/scale.apps \"rabbitmq-connector\" not found\r\n",
      "  Normal   SuccessfulRescale  52m                  horizontal-pod-autoscaler  New size: 2; reason: external metric s0-rabbitmq-OpenFaaS_Dex_aeneas(&LabelSelector{MatchLabels:map[string]string{scaledobject.keda.sh/name: rabbitmq-connector,},MatchExpressions:[]LabelSelectorRequirement{},}) above target\r\n",
      "  Normal   SuccessfulRescale  6m22s (x3 over 17h)  horizontal-pod-autoscaler  New size: 3; reason: external metric s0-rabbitmq-OpenFaaS_Dex_aeneas(&LabelSelector{MatchLabels:map[string]string{scaledobject.keda.sh/name: rabbitmq-connector,},MatchExpressions:[]LabelSelectorRequirement{},}) above target\r\n",
      "  Normal   SuccessfulRescale  6m7s                 horizontal-pod-autoscaler  New size: 5; reason: external metric s0-rabbitmq-OpenFaaS_Dex_aeneas(&LabelSelector{MatchLabels:map[string]string{scaledobject.keda.sh/name: rabbitmq-connector,},MatchExpressions:[]LabelSelectorRequirement{},}) above target\r\n"
     ]
    }
   ],
   "source": [
    "#Check for the HPA settings\n",
    "!ssh ubuntu@172.17.141.197 \"sudo kubectl describe hpa/keda-hpa-rabbitmq-connector -n openfaas\""
   ]
  },
  {
   "cell_type": "markdown",
   "id": "d99b834a",
   "metadata": {},
   "source": []
  },
  {
   "cell_type": "code",
   "execution_count": 16,
   "id": "ac60c327",
   "metadata": {},
   "outputs": [
    {
     "name": "stdout",
     "output_type": "stream",
     "text": [
      "^C\r\n"
     ]
    }
   ],
   "source": [
    "# Watch for every 5 seconds\n",
    "!ssh ubuntu@172.17.141.197 \"watch -n 5 \"kubectl describe hpa/nodeinfo -n openfaas-fn\"\""
   ]
  },
  {
   "cell_type": "markdown",
   "id": "09820ed2",
   "metadata": {},
   "source": [
    "# Experiments "
   ]
  },
  {
   "cell_type": "code",
   "execution_count": 25,
   "id": "27a95447",
   "metadata": {},
   "outputs": [],
   "source": [
    "import sys\n",
    "import  datetime\n",
    "import os\n",
    "from minio import Minio\n",
    "import csv\n",
    "import json\n",
    "import pandas as pd\n",
    "import time\n",
    "import subprocess\n",
    "from subprocess import Popen, PIPE\n",
    "import requests\n",
    "from IPython.display import display"
   ]
  },
  {
   "cell_type": "code",
   "execution_count": 26,
   "id": "e6c110ef",
   "metadata": {},
   "outputs": [],
   "source": [
    "scenario = \"keda_rps\"\n",
    "user=5\n",
    "iteration=5\n",
    "minio_host=\"172.17.141.197:9001\"\n",
    "bucket_name=\"aeneas-output\"\n",
    "PROMETHEUS = 'http://172.17.141.197:31022/'\n",
    "time_locust=30\n"
   ]
  },
  {
   "cell_type": "code",
   "execution_count": 27,
   "id": "b897c7c2",
   "metadata": {},
   "outputs": [],
   "source": [
    "!rm input_data.csv\n",
    "!touch input_data.csv\n",
    "!echo \"intime\" > input_data.csv"
   ]
  },
  {
   "cell_type": "code",
   "execution_count": 37,
   "id": "7aabce53",
   "metadata": {},
   "outputs": [
    {
     "name": "stdout",
     "output_type": "stream",
     "text": [
      "[2022-12-27 05:17:53,288] ubuntu/INFO/locust.main: Run time limit set to 60 seconds\n",
      "[2022-12-27 05:17:53,289] ubuntu/INFO/locust.main: Starting Locust 2.14.0\n",
      "Type     Name  # reqs      # fails |    Avg     Min     Max    Med |   req/s  failures/s\n",
      "--------||-------|-------------|-------|-------|-------|-------|--------|-----------\n",
      "--------||-------|-------------|-------|-------|-------|-------|--------|-----------\n",
      "         Aggregated       0     0(0.00%) |      0       0       0      0 |    0.00        0.00\n",
      "\n",
      "[2022-12-27 05:17:53,292] ubuntu/INFO/locust.runners: Ramping to 1 users at a rate of 1.00 per second\n",
      "[2022-12-27 05:17:53,294] ubuntu/INFO/locust.runners: All users spawned: {\"MyLocust\": 1} (1 total users)\n",
      "[2022-12-27 05:17:53,312] ubuntu/INFO/pika.adapters.utils.connection_workflow: Pika version 1.3.1 connecting to ('172.17.141.197', 5672)\n",
      "[2022-12-27 05:17:53,315] ubuntu/INFO/pika.adapters.utils.io_services_utils: Socket connected: <gevent._socket3.socket at 0xffffa7ea5e80 object, fd=3, family=2, type=1, proto=6>\n",
      "[2022-12-27 05:17:53,316] ubuntu/INFO/pika.adapters.utils.connection_workflow: Streaming transport linked up: (<pika.adapters.utils.io_services_utils._AsyncPlaintextTransport object at 0xffffa7f323d0>, _StreamingProtocolShim: <SelectConnection PROTOCOL transport=<pika.adapters.utils.io_services_utils._AsyncPlaintextTransport object at 0xffffa7f323d0> params=<URLParameters host=172.17.141.197 port=5672 virtual_host=/ ssl=False>>).\n",
      "[2022-12-27 05:17:53,326] ubuntu/INFO/pika.adapters.utils.connection_workflow: AMQPConnector - reporting success: <SelectConnection OPEN transport=<pika.adapters.utils.io_services_utils._AsyncPlaintextTransport object at 0xffffa7f323d0> params=<URLParameters host=172.17.141.197 port=5672 virtual_host=/ ssl=False>>\n",
      "[2022-12-27 05:17:53,326] ubuntu/INFO/pika.adapters.utils.connection_workflow: AMQPConnectionWorkflow - reporting success: <SelectConnection OPEN transport=<pika.adapters.utils.io_services_utils._AsyncPlaintextTransport object at 0xffffa7f323d0> params=<URLParameters host=172.17.141.197 port=5672 virtual_host=/ ssl=False>>\n",
      "[2022-12-27 05:17:53,327] ubuntu/INFO/pika.adapters.blocking_connection: Connection workflow succeeded: <SelectConnection OPEN transport=<pika.adapters.utils.io_services_utils._AsyncPlaintextTransport object at 0xffffa7f323d0> params=<URLParameters host=172.17.141.197 port=5672 virtual_host=/ ssl=False>>\n",
      "[2022-12-27 05:17:53,328] ubuntu/INFO/pika.adapters.blocking_connection: Created channel=1\n",
      "Type     Name  # reqs      # fails |    Avg     Min     Max    Med |   req/s  failures/s\n",
      "--------||-------|-------------|-------|-------|-------|-------|--------|-----------\n",
      "BASIC_PUBLISH  test.message       1     0(0.00%) |     10      10      10     10 |    0.00        0.00\n",
      "--------||-------|-------------|-------|-------|-------|-------|--------|-----------\n",
      "         Aggregated       1     0(0.00%) |     10      10      10     10 |    0.00        0.00\n",
      "\n",
      "Type     Name  # reqs      # fails |    Avg     Min     Max    Med |   req/s  failures/s\n",
      "--------||-------|-------------|-------|-------|-------|-------|--------|-----------\n",
      "BASIC_PUBLISH  test.message       2     0(0.00%) |      9       9      10     10 |    0.00        0.00\n",
      "--------||-------|-------------|-------|-------|-------|-------|--------|-----------\n",
      "         Aggregated       2     0(0.00%) |      9       9      10     10 |    0.00        0.00\n",
      "\n",
      "Type     Name  # reqs      # fails |    Avg     Min     Max    Med |   req/s  failures/s\n",
      "--------||-------|-------------|-------|-------|-------|-------|--------|-----------\n",
      "BASIC_PUBLISH  test.message       2     0(0.00%) |      9       9      10     10 |    0.00        0.00\n",
      "--------||-------|-------------|-------|-------|-------|-------|--------|-----------\n",
      "         Aggregated       2     0(0.00%) |      9       9      10     10 |    0.00        0.00\n",
      "\n",
      "Type     Name  # reqs      # fails |    Avg     Min     Max    Med |   req/s  failures/s\n",
      "--------||-------|-------------|-------|-------|-------|-------|--------|-----------\n",
      "BASIC_PUBLISH  test.message       3     0(0.00%) |     10       9      10     10 |    0.50        0.00\n",
      "--------||-------|-------------|-------|-------|-------|-------|--------|-----------\n",
      "         Aggregated       3     0(0.00%) |     10       9      10     10 |    0.50        0.00\n",
      "\n",
      "Type     Name  # reqs      # fails |    Avg     Min     Max    Med |   req/s  failures/s\n",
      "--------||-------|-------------|-------|-------|-------|-------|--------|-----------\n",
      "BASIC_PUBLISH  test.message       3     0(0.00%) |     10       9      10     10 |    0.50        0.00\n",
      "--------||-------|-------------|-------|-------|-------|-------|--------|-----------\n",
      "         Aggregated       3     0(0.00%) |     10       9      10     10 |    0.50        0.00\n",
      "\n",
      "Type     Name  # reqs      # fails |    Avg     Min     Max    Med |   req/s  failures/s\n",
      "--------||-------|-------------|-------|-------|-------|-------|--------|-----------\n",
      "BASIC_PUBLISH  test.message       3     0(0.00%) |     10       9      10     10 |    0.50        0.00\n",
      "--------||-------|-------------|-------|-------|-------|-------|--------|-----------\n",
      "         Aggregated       3     0(0.00%) |     10       9      10     10 |    0.50        0.00\n",
      "\n",
      "Type     Name  # reqs      # fails |    Avg     Min     Max    Med |   req/s  failures/s\n",
      "--------||-------|-------------|-------|-------|-------|-------|--------|-----------\n",
      "BASIC_PUBLISH  test.message       3     0(0.00%) |     10       9      10     10 |    0.50        0.00\n",
      "--------||-------|-------------|-------|-------|-------|-------|--------|-----------\n",
      "         Aggregated       3     0(0.00%) |     10       9      10     10 |    0.50        0.00\n",
      "\n",
      "Type     Name  # reqs      # fails |    Avg     Min     Max    Med |   req/s  failures/s\n",
      "--------||-------|-------------|-------|-------|-------|-------|--------|-----------\n",
      "BASIC_PUBLISH  test.message       4     0(0.00%) |     11       9      17     10 |    0.10        0.00\n",
      "--------||-------|-------------|-------|-------|-------|-------|--------|-----------\n",
      "         Aggregated       4     0(0.00%) |     11       9      17     10 |    0.10        0.00\n",
      "\n",
      "Type     Name  # reqs      # fails |    Avg     Min     Max    Med |   req/s  failures/s\n",
      "--------||-------|-------------|-------|-------|-------|-------|--------|-----------\n",
      "BASIC_PUBLISH  test.message       4     0(0.00%) |     11       9      17     10 |    0.10        0.00\n",
      "--------||-------|-------------|-------|-------|-------|-------|--------|-----------\n",
      "         Aggregated       4     0(0.00%) |     11       9      17     10 |    0.10        0.00\n",
      "\n",
      "Type     Name  # reqs      # fails |    Avg     Min     Max    Med |   req/s  failures/s\n",
      "--------||-------|-------------|-------|-------|-------|-------|--------|-----------\n",
      "BASIC_PUBLISH  test.message       4     0(0.00%) |     11       9      17     10 |    0.10        0.00\n",
      "--------||-------|-------------|-------|-------|-------|-------|--------|-----------\n",
      "         Aggregated       4     0(0.00%) |     11       9      17     10 |    0.10        0.00\n",
      "\n",
      "Type     Name  # reqs      # fails |    Avg     Min     Max    Med |   req/s  failures/s\n",
      "--------||-------|-------------|-------|-------|-------|-------|--------|-----------\n",
      "BASIC_PUBLISH  test.message       5     0(0.00%) |     11       9      17     10 |    0.10        0.00\n",
      "--------||-------|-------------|-------|-------|-------|-------|--------|-----------\n",
      "         Aggregated       5     0(0.00%) |     11       9      17     10 |    0.10        0.00\n",
      "\n",
      "Type     Name  # reqs      # fails |    Avg     Min     Max    Med |   req/s  failures/s\n",
      "--------||-------|-------------|-------|-------|-------|-------|--------|-----------\n",
      "BASIC_PUBLISH  test.message       5     0(0.00%) |     11       9      17     10 |    0.10        0.00\n",
      "--------||-------|-------------|-------|-------|-------|-------|--------|-----------\n",
      "         Aggregated       5     0(0.00%) |     11       9      17     10 |    0.10        0.00\n",
      "\n",
      "Type     Name  # reqs      # fails |    Avg     Min     Max    Med |   req/s  failures/s\n",
      "--------||-------|-------------|-------|-------|-------|-------|--------|-----------\n",
      "BASIC_PUBLISH  test.message       5     0(0.00%) |     11       9      17     10 |    0.10        0.00\n",
      "--------||-------|-------------|-------|-------|-------|-------|--------|-----------\n",
      "         Aggregated       5     0(0.00%) |     11       9      17     10 |    0.10        0.00\n",
      "\n"
     ]
    },
    {
     "name": "stdout",
     "output_type": "stream",
     "text": [
      "Type     Name  # reqs      # fails |    Avg     Min     Max    Med |   req/s  failures/s\n",
      "--------||-------|-------------|-------|-------|-------|-------|--------|-----------\n",
      "BASIC_PUBLISH  test.message       5     0(0.00%) |     11       9      17     10 |    0.10        0.00\n",
      "--------||-------|-------------|-------|-------|-------|-------|--------|-----------\n",
      "         Aggregated       5     0(0.00%) |     11       9      17     10 |    0.10        0.00\n",
      "\n",
      "Type     Name  # reqs      # fails |    Avg     Min     Max    Med |   req/s  failures/s\n",
      "--------||-------|-------------|-------|-------|-------|-------|--------|-----------\n",
      "BASIC_PUBLISH  test.message       6     0(0.00%) |     12       9      18     10 |    0.10        0.00\n",
      "--------||-------|-------------|-------|-------|-------|-------|--------|-----------\n",
      "         Aggregated       6     0(0.00%) |     12       9      18     10 |    0.10        0.00\n",
      "\n",
      "Type     Name  # reqs      # fails |    Avg     Min     Max    Med |   req/s  failures/s\n",
      "--------||-------|-------------|-------|-------|-------|-------|--------|-----------\n",
      "BASIC_PUBLISH  test.message       6     0(0.00%) |     12       9      18     10 |    0.10        0.00\n",
      "--------||-------|-------------|-------|-------|-------|-------|--------|-----------\n",
      "         Aggregated       6     0(0.00%) |     12       9      18     10 |    0.10        0.00\n",
      "\n",
      "Type     Name  # reqs      # fails |    Avg     Min     Max    Med |   req/s  failures/s\n",
      "--------||-------|-------------|-------|-------|-------|-------|--------|-----------\n",
      "BASIC_PUBLISH  test.message       7     0(0.00%) |     12       9      18     10 |    0.20        0.00\n",
      "--------||-------|-------------|-------|-------|-------|-------|--------|-----------\n",
      "         Aggregated       7     0(0.00%) |     12       9      18     10 |    0.20        0.00\n",
      "\n",
      "Type     Name  # reqs      # fails |    Avg     Min     Max    Med |   req/s  failures/s\n",
      "--------||-------|-------------|-------|-------|-------|-------|--------|-----------\n",
      "BASIC_PUBLISH  test.message       8     0(0.00%) |     11       5      18     10 |    0.10        0.00\n",
      "--------||-------|-------------|-------|-------|-------|-------|--------|-----------\n",
      "         Aggregated       8     0(0.00%) |     11       5      18     10 |    0.10        0.00\n",
      "\n",
      "Type     Name  # reqs      # fails |    Avg     Min     Max    Med |   req/s  failures/s\n",
      "--------||-------|-------------|-------|-------|-------|-------|--------|-----------\n",
      "BASIC_PUBLISH  test.message       8     0(0.00%) |     11       5      18     10 |    0.10        0.00\n",
      "--------||-------|-------------|-------|-------|-------|-------|--------|-----------\n",
      "         Aggregated       8     0(0.00%) |     11       5      18     10 |    0.10        0.00\n",
      "\n",
      "Type     Name  # reqs      # fails |    Avg     Min     Max    Med |   req/s  failures/s\n",
      "--------||-------|-------------|-------|-------|-------|-------|--------|-----------\n",
      "BASIC_PUBLISH  test.message       8     0(0.00%) |     11       5      18     10 |    0.10        0.00\n",
      "--------||-------|-------------|-------|-------|-------|-------|--------|-----------\n",
      "         Aggregated       8     0(0.00%) |     11       5      18     10 |    0.10        0.00\n",
      "\n",
      "Type     Name  # reqs      # fails |    Avg     Min     Max    Med |   req/s  failures/s\n",
      "--------||-------|-------------|-------|-------|-------|-------|--------|-----------\n",
      "BASIC_PUBLISH  test.message       8     0(0.00%) |     11       5      18     10 |    0.10        0.00\n",
      "--------||-------|-------------|-------|-------|-------|-------|--------|-----------\n",
      "         Aggregated       8     0(0.00%) |     11       5      18     10 |    0.10        0.00\n",
      "\n",
      "Type     Name  # reqs      # fails |    Avg     Min     Max    Med |   req/s  failures/s\n",
      "--------||-------|-------------|-------|-------|-------|-------|--------|-----------\n",
      "BASIC_PUBLISH  test.message       9     0(0.00%) |     11       5      18     10 |    0.20        0.00\n",
      "--------||-------|-------------|-------|-------|-------|-------|--------|-----------\n",
      "         Aggregated       9     0(0.00%) |     11       5      18     10 |    0.20        0.00\n",
      "\n",
      "Type     Name  # reqs      # fails |    Avg     Min     Max    Med |   req/s  failures/s\n",
      "--------||-------|-------------|-------|-------|-------|-------|--------|-----------\n",
      "BASIC_PUBLISH  test.message       9     0(0.00%) |     11       5      18     10 |    0.20        0.00\n",
      "--------||-------|-------------|-------|-------|-------|-------|--------|-----------\n",
      "         Aggregated       9     0(0.00%) |     11       5      18     10 |    0.20        0.00\n",
      "\n",
      "Type     Name  # reqs      # fails |    Avg     Min     Max    Med |   req/s  failures/s\n",
      "--------||-------|-------------|-------|-------|-------|-------|--------|-----------\n",
      "BASIC_PUBLISH  test.message      10     0(0.00%) |     10       5      18     10 |    0.10        0.00\n",
      "--------||-------|-------------|-------|-------|-------|-------|--------|-----------\n",
      "         Aggregated      10     0(0.00%) |     10       5      18     10 |    0.10        0.00\n",
      "\n",
      "Type     Name  # reqs      # fails |    Avg     Min     Max    Med |   req/s  failures/s\n",
      "--------||-------|-------------|-------|-------|-------|-------|--------|-----------\n",
      "BASIC_PUBLISH  test.message      10     0(0.00%) |     10       5      18     10 |    0.10        0.00\n",
      "--------||-------|-------------|-------|-------|-------|-------|--------|-----------\n",
      "         Aggregated      10     0(0.00%) |     10       5      18     10 |    0.10        0.00\n",
      "\n",
      "Type     Name  # reqs      # fails |    Avg     Min     Max    Med |   req/s  failures/s\n",
      "--------||-------|-------------|-------|-------|-------|-------|--------|-----------\n",
      "BASIC_PUBLISH  test.message      10     0(0.00%) |     10       5      18     10 |    0.10        0.00\n",
      "--------||-------|-------------|-------|-------|-------|-------|--------|-----------\n",
      "         Aggregated      10     0(0.00%) |     10       5      18     10 |    0.10        0.00\n",
      "\n",
      "Type     Name  # reqs      # fails |    Avg     Min     Max    Med |   req/s  failures/s\n",
      "--------||-------|-------------|-------|-------|-------|-------|--------|-----------\n",
      "BASIC_PUBLISH  test.message      10     0(0.00%) |     10       5      18     10 |    0.10        0.00\n",
      "--------||-------|-------------|-------|-------|-------|-------|--------|-----------\n",
      "         Aggregated      10     0(0.00%) |     10       5      18     10 |    0.10        0.00\n",
      "\n",
      "Type     Name  # reqs      # fails |    Avg     Min     Max    Med |   req/s  failures/s\n",
      "--------||-------|-------------|-------|-------|-------|-------|--------|-----------\n",
      "BASIC_PUBLISH  test.message      11     0(0.00%) |     10       5      18     10 |    0.20        0.00\n",
      "--------||-------|-------------|-------|-------|-------|-------|--------|-----------\n",
      "         Aggregated      11     0(0.00%) |     10       5      18     10 |    0.20        0.00\n",
      "\n",
      "Type     Name  # reqs      # fails |    Avg     Min     Max    Med |   req/s  failures/s\n",
      "--------||-------|-------------|-------|-------|-------|-------|--------|-----------\n",
      "BASIC_PUBLISH  test.message      11     0(0.00%) |     10       5      18     10 |    0.20        0.00\n",
      "--------||-------|-------------|-------|-------|-------|-------|--------|-----------\n",
      "         Aggregated      11     0(0.00%) |     10       5      18     10 |    0.20        0.00\n",
      "\n",
      "[2022-12-27 05:18:52,545] ubuntu/INFO/locust.main: --run-time limit reached, shutting down\n",
      "[2022-12-27 05:18:52,548] ubuntu/INFO/locust.main: Shutting down (exit code 0)\n",
      "Type     Name  # reqs      # fails |    Avg     Min     Max    Med |   req/s  failures/s\n",
      "--------||-------|-------------|-------|-------|-------|-------|--------|-----------\n",
      "BASIC_PUBLISH  test.message      11     0(0.00%) |     10       5      18     10 |    0.20        0.00\n",
      "--------||-------|-------------|-------|-------|-------|-------|--------|-----------\n",
      "         Aggregated      11     0(0.00%) |     10       5      18     10 |    0.20        0.00\n",
      "\n",
      "Response time percentiles (approximated)\n",
      "Type     Name      50%    66%    75%    80%    90%    95%    98%    99%  99.9% 99.99%   100% # reqs\n",
      "--------||--------|------|------|------|------|------|------|------|------|------|------|------\n",
      "BASIC_PUBLISH test.message       10     10     12     12     17     19     19     19     19     19     19     11\n",
      "--------||--------|------|------|------|------|------|------|------|------|------|------|------\n",
      "         Aggregated       10     10     12     12     17     19     19     19     19     19     19     11\n",
      "\n"
     ]
    }
   ],
   "source": [
    "!locust --headless -f rabbitmq_locust.py --host='127.0.0.1' -t 60s  --users 1 --spawn-rate 1"
   ]
  },
  {
   "cell_type": "code",
   "execution_count": 5,
   "id": "01da3d7c",
   "metadata": {},
   "outputs": [],
   "source": [
    "time.sleep(100)"
   ]
  },
  {
   "cell_type": "code",
   "execution_count": 29,
   "id": "361c8a3a",
   "metadata": {},
   "outputs": [
    {
     "name": "stdout",
     "output_type": "stream",
     "text": [
      "                         intime\n",
      "0  '2022-12-27 04:35:24.264995'\n",
      "1  '2022-12-27 04:35:26.265127'\n",
      "2  '2022-12-27 04:35:32.186346'\n",
      "3  '2022-12-27 04:35:38.997175'\n",
      "4  '2022-12-27 04:35:45.910340'\n"
     ]
    }
   ],
   "source": [
    "df= pd.read_csv('input_data.csv')\n",
    "print(df)"
   ]
  },
  {
   "cell_type": "code",
   "execution_count": 30,
   "id": "b7578ed7",
   "metadata": {},
   "outputs": [],
   "source": [
    "#Minio Client\n",
    "client = Minio(minio_host, access_key = \"minio\", secret_key =\"minio123\",secure=False)\n",
    "# List objects from the bicket and notedown time  stamp  when they stored\n",
    "objects = client.list_objects(bucket_name,recursive=True)\n",
    "outtime = []\n",
    "for obj in objects:\n",
    "    outtime.append(obj.last_modified)#\n",
    "    client.remove_object(bucket_name, obj.object_name)"
   ]
  },
  {
   "cell_type": "code",
   "execution_count": 31,
   "id": "96890f42",
   "metadata": {},
   "outputs": [
    {
     "ename": "ValueError",
     "evalue": "Length of values (7) does not match length of index (5)",
     "output_type": "error",
     "traceback": [
      "\u001b[0;31m---------------------------------------------------------------------------\u001b[0m",
      "\u001b[0;31mValueError\u001b[0m                                Traceback (most recent call last)",
      "Input \u001b[0;32mIn [31]\u001b[0m, in \u001b[0;36m<cell line: 1>\u001b[0;34m()\u001b[0m\n\u001b[0;32m----> 1\u001b[0m \u001b[43mdf\u001b[49m\u001b[43m[\u001b[49m\u001b[38;5;124;43m'\u001b[39;49m\u001b[38;5;124;43mouttime\u001b[39;49m\u001b[38;5;124;43m'\u001b[39;49m\u001b[43m]\u001b[49m\u001b[38;5;241m=\u001b[39m outtime\n\u001b[1;32m      2\u001b[0m df[\u001b[38;5;124m'\u001b[39m\u001b[38;5;124mouttime\u001b[39m\u001b[38;5;124m'\u001b[39m]\u001b[38;5;241m=\u001b[39m pd\u001b[38;5;241m.\u001b[39mto_datetime(df[\u001b[38;5;124m'\u001b[39m\u001b[38;5;124mouttime\u001b[39m\u001b[38;5;124m'\u001b[39m],errors\u001b[38;5;241m=\u001b[39m\u001b[38;5;124m'\u001b[39m\u001b[38;5;124mcoerce\u001b[39m\u001b[38;5;124m'\u001b[39m)\u001b[38;5;241m.\u001b[39mdt\u001b[38;5;241m.\u001b[39mtz_convert(\u001b[38;5;28;01mNone\u001b[39;00m)\n\u001b[1;32m      3\u001b[0m df[\u001b[38;5;124m'\u001b[39m\u001b[38;5;124mintime\u001b[39m\u001b[38;5;124m'\u001b[39m]\u001b[38;5;241m=\u001b[39m pd\u001b[38;5;241m.\u001b[39mto_datetime(df[\u001b[38;5;124m'\u001b[39m\u001b[38;5;124mintime\u001b[39m\u001b[38;5;124m'\u001b[39m],errors\u001b[38;5;241m=\u001b[39m\u001b[38;5;124m'\u001b[39m\u001b[38;5;124mcoerce\u001b[39m\u001b[38;5;124m'\u001b[39m)\n",
      "File \u001b[0;32m~/.local/lib/python3.8/site-packages/pandas/core/frame.py:3655\u001b[0m, in \u001b[0;36mDataFrame.__setitem__\u001b[0;34m(self, key, value)\u001b[0m\n\u001b[1;32m   3652\u001b[0m     \u001b[38;5;28mself\u001b[39m\u001b[38;5;241m.\u001b[39m_setitem_array([key], value)\n\u001b[1;32m   3653\u001b[0m \u001b[38;5;28;01melse\u001b[39;00m:\n\u001b[1;32m   3654\u001b[0m     \u001b[38;5;66;03m# set column\u001b[39;00m\n\u001b[0;32m-> 3655\u001b[0m     \u001b[38;5;28;43mself\u001b[39;49m\u001b[38;5;241;43m.\u001b[39;49m\u001b[43m_set_item\u001b[49m\u001b[43m(\u001b[49m\u001b[43mkey\u001b[49m\u001b[43m,\u001b[49m\u001b[43m \u001b[49m\u001b[43mvalue\u001b[49m\u001b[43m)\u001b[49m\n",
      "File \u001b[0;32m~/.local/lib/python3.8/site-packages/pandas/core/frame.py:3832\u001b[0m, in \u001b[0;36mDataFrame._set_item\u001b[0;34m(self, key, value)\u001b[0m\n\u001b[1;32m   3822\u001b[0m \u001b[38;5;28;01mdef\u001b[39;00m \u001b[38;5;21m_set_item\u001b[39m(\u001b[38;5;28mself\u001b[39m, key, value) \u001b[38;5;241m-\u001b[39m\u001b[38;5;241m>\u001b[39m \u001b[38;5;28;01mNone\u001b[39;00m:\n\u001b[1;32m   3823\u001b[0m     \u001b[38;5;124;03m\"\"\"\u001b[39;00m\n\u001b[1;32m   3824\u001b[0m \u001b[38;5;124;03m    Add series to DataFrame in specified column.\u001b[39;00m\n\u001b[1;32m   3825\u001b[0m \n\u001b[0;32m   (...)\u001b[0m\n\u001b[1;32m   3830\u001b[0m \u001b[38;5;124;03m    ensure homogeneity.\u001b[39;00m\n\u001b[1;32m   3831\u001b[0m \u001b[38;5;124;03m    \"\"\"\u001b[39;00m\n\u001b[0;32m-> 3832\u001b[0m     value \u001b[38;5;241m=\u001b[39m \u001b[38;5;28;43mself\u001b[39;49m\u001b[38;5;241;43m.\u001b[39;49m\u001b[43m_sanitize_column\u001b[49m\u001b[43m(\u001b[49m\u001b[43mvalue\u001b[49m\u001b[43m)\u001b[49m\n\u001b[1;32m   3834\u001b[0m     \u001b[38;5;28;01mif\u001b[39;00m (\n\u001b[1;32m   3835\u001b[0m         key \u001b[38;5;129;01min\u001b[39;00m \u001b[38;5;28mself\u001b[39m\u001b[38;5;241m.\u001b[39mcolumns\n\u001b[1;32m   3836\u001b[0m         \u001b[38;5;129;01mand\u001b[39;00m value\u001b[38;5;241m.\u001b[39mndim \u001b[38;5;241m==\u001b[39m \u001b[38;5;241m1\u001b[39m\n\u001b[1;32m   3837\u001b[0m         \u001b[38;5;129;01mand\u001b[39;00m \u001b[38;5;129;01mnot\u001b[39;00m is_extension_array_dtype(value)\n\u001b[1;32m   3838\u001b[0m     ):\n\u001b[1;32m   3839\u001b[0m         \u001b[38;5;66;03m# broadcast across multiple columns if necessary\u001b[39;00m\n\u001b[1;32m   3840\u001b[0m         \u001b[38;5;28;01mif\u001b[39;00m \u001b[38;5;129;01mnot\u001b[39;00m \u001b[38;5;28mself\u001b[39m\u001b[38;5;241m.\u001b[39mcolumns\u001b[38;5;241m.\u001b[39mis_unique \u001b[38;5;129;01mor\u001b[39;00m \u001b[38;5;28misinstance\u001b[39m(\u001b[38;5;28mself\u001b[39m\u001b[38;5;241m.\u001b[39mcolumns, MultiIndex):\n",
      "File \u001b[0;32m~/.local/lib/python3.8/site-packages/pandas/core/frame.py:4535\u001b[0m, in \u001b[0;36mDataFrame._sanitize_column\u001b[0;34m(self, value)\u001b[0m\n\u001b[1;32m   4532\u001b[0m     \u001b[38;5;28;01mreturn\u001b[39;00m _reindex_for_setitem(value, \u001b[38;5;28mself\u001b[39m\u001b[38;5;241m.\u001b[39mindex)\n\u001b[1;32m   4534\u001b[0m \u001b[38;5;28;01mif\u001b[39;00m is_list_like(value):\n\u001b[0;32m-> 4535\u001b[0m     \u001b[43mcom\u001b[49m\u001b[38;5;241;43m.\u001b[39;49m\u001b[43mrequire_length_match\u001b[49m\u001b[43m(\u001b[49m\u001b[43mvalue\u001b[49m\u001b[43m,\u001b[49m\u001b[43m \u001b[49m\u001b[38;5;28;43mself\u001b[39;49m\u001b[38;5;241;43m.\u001b[39;49m\u001b[43mindex\u001b[49m\u001b[43m)\u001b[49m\n\u001b[1;32m   4536\u001b[0m \u001b[38;5;28;01mreturn\u001b[39;00m sanitize_array(value, \u001b[38;5;28mself\u001b[39m\u001b[38;5;241m.\u001b[39mindex, copy\u001b[38;5;241m=\u001b[39m\u001b[38;5;28;01mTrue\u001b[39;00m, allow_2d\u001b[38;5;241m=\u001b[39m\u001b[38;5;28;01mTrue\u001b[39;00m)\n",
      "File \u001b[0;32m~/.local/lib/python3.8/site-packages/pandas/core/common.py:557\u001b[0m, in \u001b[0;36mrequire_length_match\u001b[0;34m(data, index)\u001b[0m\n\u001b[1;32m    553\u001b[0m \u001b[38;5;124;03m\"\"\"\u001b[39;00m\n\u001b[1;32m    554\u001b[0m \u001b[38;5;124;03mCheck the length of data matches the length of the index.\u001b[39;00m\n\u001b[1;32m    555\u001b[0m \u001b[38;5;124;03m\"\"\"\u001b[39;00m\n\u001b[1;32m    556\u001b[0m \u001b[38;5;28;01mif\u001b[39;00m \u001b[38;5;28mlen\u001b[39m(data) \u001b[38;5;241m!=\u001b[39m \u001b[38;5;28mlen\u001b[39m(index):\n\u001b[0;32m--> 557\u001b[0m     \u001b[38;5;28;01mraise\u001b[39;00m \u001b[38;5;167;01mValueError\u001b[39;00m(\n\u001b[1;32m    558\u001b[0m         \u001b[38;5;124m\"\u001b[39m\u001b[38;5;124mLength of values \u001b[39m\u001b[38;5;124m\"\u001b[39m\n\u001b[1;32m    559\u001b[0m         \u001b[38;5;124mf\u001b[39m\u001b[38;5;124m\"\u001b[39m\u001b[38;5;124m(\u001b[39m\u001b[38;5;132;01m{\u001b[39;00m\u001b[38;5;28mlen\u001b[39m(data)\u001b[38;5;132;01m}\u001b[39;00m\u001b[38;5;124m) \u001b[39m\u001b[38;5;124m\"\u001b[39m\n\u001b[1;32m    560\u001b[0m         \u001b[38;5;124m\"\u001b[39m\u001b[38;5;124mdoes not match length of index \u001b[39m\u001b[38;5;124m\"\u001b[39m\n\u001b[1;32m    561\u001b[0m         \u001b[38;5;124mf\u001b[39m\u001b[38;5;124m\"\u001b[39m\u001b[38;5;124m(\u001b[39m\u001b[38;5;132;01m{\u001b[39;00m\u001b[38;5;28mlen\u001b[39m(index)\u001b[38;5;132;01m}\u001b[39;00m\u001b[38;5;124m)\u001b[39m\u001b[38;5;124m\"\u001b[39m\n\u001b[1;32m    562\u001b[0m     )\n",
      "\u001b[0;31mValueError\u001b[0m: Length of values (7) does not match length of index (5)"
     ]
    }
   ],
   "source": [
    "df['outtime']= outtime\n",
    "df['outtime']= pd.to_datetime(df['outtime'],errors='coerce').dt.tz_convert(None)\n",
    "df['intime']= pd.to_datetime(df['intime'],errors='coerce')\n",
    "df =df.sort_values(by=\"outtime\")\n",
    "display(df)\n",
    "print(df['outtime'].iloc[-1]-df['intime'].iloc[0])"
   ]
  },
  {
   "cell_type": "code",
   "execution_count": 16,
   "id": "ce3c7bd0",
   "metadata": {},
   "outputs": [],
   "source": [
    "def get_function_execution_time(cmd):\n",
    "    with Popen(cmd, stdout=PIPE, stderr=None, shell=True) as process:\n",
    "        return (process.communicate()[0].decode(\"utf-8\"))"
   ]
  },
  {
   "cell_type": "code",
   "execution_count": 17,
   "id": "c571693d",
   "metadata": {},
   "outputs": [
    {
     "data": {
      "text/html": [
       "<div>\n",
       "<style scoped>\n",
       "    .dataframe tbody tr th:only-of-type {\n",
       "        vertical-align: middle;\n",
       "    }\n",
       "\n",
       "    .dataframe tbody tr th {\n",
       "        vertical-align: top;\n",
       "    }\n",
       "\n",
       "    .dataframe thead th {\n",
       "        text-align: right;\n",
       "    }\n",
       "</style>\n",
       "<table border=\"1\" class=\"dataframe\">\n",
       "  <thead>\n",
       "    <tr style=\"text-align: right;\">\n",
       "      <th></th>\n",
       "      <th>intime</th>\n",
       "      <th>outtime</th>\n",
       "      <th>aeneas</th>\n",
       "      <th>tocloud</th>\n",
       "    </tr>\n",
       "  </thead>\n",
       "  <tbody>\n",
       "    <tr>\n",
       "      <th>0</th>\n",
       "      <td>2022-12-27 04:32:10.737532</td>\n",
       "      <td>2022-12-27 04:32:30.078</td>\n",
       "      <td>6.8359</td>\n",
       "      <td>0.0364</td>\n",
       "    </tr>\n",
       "    <tr>\n",
       "      <th>1</th>\n",
       "      <td>2022-12-27 04:32:13.652880</td>\n",
       "      <td>2022-12-27 04:32:30.222</td>\n",
       "      <td>6.9660</td>\n",
       "      <td>0.0362</td>\n",
       "    </tr>\n",
       "  </tbody>\n",
       "</table>\n",
       "</div>"
      ],
      "text/plain": [
       "                      intime                 outtime  aeneas tocloud\n",
       "0 2022-12-27 04:32:10.737532 2022-12-27 04:32:30.078  6.8359  0.0364\n",
       "1 2022-12-27 04:32:13.652880 2022-12-27 04:32:30.222  6.9660  0.0362"
      ]
     },
     "execution_count": 17,
     "metadata": {},
     "output_type": "execute_result"
    }
   ],
   "source": [
    "#cmd1 = \"sudo kubectl logs gateway-7b8d9dbb5b-rhnwl  -n openfaas -c gateway | grep getobject | cut -c 71-77 | tail -\"\n",
    "cmd1=\"ssh ubuntu@172.17.141.197 \"+\"sudo kubectl logs gateway-bf4f5d6f7-4q7kn  -n openfaas -c gateway  | grep /function/aeneas | cut -c 80-85 | tail -\"+str(len(outtime))\n",
    "cmd2=\"ssh ubuntu@172.17.141.197 \"+\"sudo kubectl logs gateway-bf4f5d6f7-4q7kn -n openfaas -c gateway  | grep /function/scaling-aeneas-tocloud | cut -c 96-101 | tail -\"+str(len(outtime))\n",
    "df['aeneas']=(get_function_execution_time(cmd1)).split(\"\\n\")[:-1]\n",
    "df['tocloud']=(get_function_execution_time(cmd2)).split(\"\\n\")[:-1]\n",
    "df"
   ]
  },
  {
   "cell_type": "code",
   "execution_count": 18,
   "id": "ef1ebee4",
   "metadata": {},
   "outputs": [
    {
     "data": {
      "text/html": [
       "<div>\n",
       "<style scoped>\n",
       "    .dataframe tbody tr th:only-of-type {\n",
       "        vertical-align: middle;\n",
       "    }\n",
       "\n",
       "    .dataframe tbody tr th {\n",
       "        vertical-align: top;\n",
       "    }\n",
       "\n",
       "    .dataframe thead th {\n",
       "        text-align: right;\n",
       "    }\n",
       "</style>\n",
       "<table border=\"1\" class=\"dataframe\">\n",
       "  <thead>\n",
       "    <tr style=\"text-align: right;\">\n",
       "      <th></th>\n",
       "      <th>intime</th>\n",
       "      <th>outtime</th>\n",
       "      <th>aeneas</th>\n",
       "      <th>tocloud</th>\n",
       "      <th>TPT</th>\n",
       "      <th>FET</th>\n",
       "      <th>Waiting time</th>\n",
       "      <th>scenario</th>\n",
       "    </tr>\n",
       "  </thead>\n",
       "  <tbody>\n",
       "    <tr>\n",
       "      <th>0</th>\n",
       "      <td>2022-12-27 04:32:10.737532</td>\n",
       "      <td>2022-12-27 04:32:30.078</td>\n",
       "      <td>6.8359</td>\n",
       "      <td>0.0364</td>\n",
       "      <td>19</td>\n",
       "      <td>6.8723</td>\n",
       "      <td>12.1277</td>\n",
       "      <td>5_5_keda_rps</td>\n",
       "    </tr>\n",
       "    <tr>\n",
       "      <th>1</th>\n",
       "      <td>2022-12-27 04:32:13.652880</td>\n",
       "      <td>2022-12-27 04:32:30.222</td>\n",
       "      <td>6.9660</td>\n",
       "      <td>0.0362</td>\n",
       "      <td>16</td>\n",
       "      <td>7.0022</td>\n",
       "      <td>8.9978</td>\n",
       "      <td>5_5_keda_rps</td>\n",
       "    </tr>\n",
       "  </tbody>\n",
       "</table>\n",
       "</div>"
      ],
      "text/plain": [
       "                      intime                 outtime  aeneas tocloud  TPT  \\\n",
       "0 2022-12-27 04:32:10.737532 2022-12-27 04:32:30.078  6.8359  0.0364   19   \n",
       "1 2022-12-27 04:32:13.652880 2022-12-27 04:32:30.222  6.9660  0.0362   16   \n",
       "\n",
       "      FET  Waiting time      scenario  \n",
       "0  6.8723       12.1277  5_5_keda_rps  \n",
       "1  7.0022        8.9978  5_5_keda_rps  "
      ]
     },
     "metadata": {},
     "output_type": "display_data"
    }
   ],
   "source": [
    "#TPT: Total Processing Time\n",
    "#FET: Function Execution Time\n",
    "#CT: Communication Time\n",
    "df =df.sort_values(by=\"outtime\")\n",
    "df['TPT']=(df['outtime']-df['intime']).dt.seconds\n",
    "df['FET'] = (df['aeneas']).astype(float) + (df['tocloud']).astype(float)\n",
    "df['Waiting time']= (df['TPT']).astype(float) - df['FET']\n",
    "df[\"scenario\"]= \"\"+str(user)+\"_\"+str(iteration)+\"_\"+scenario\n",
    "display(df)\n",
    "df.to_csv(\"\"+str(user)+\"_\"+str(time_locust)+\"_\"+scenario+'_k8s_hpa_only.csv')"
   ]
  },
  {
   "cell_type": "code",
   "execution_count": 19,
   "id": "718b5bc2",
   "metadata": {},
   "outputs": [],
   "source": [
    "pre_url = PROMETHEUS + '/api/v1/query?query='\n",
    "timestamp= pd.to_datetime(df['outtime'].iloc[-1], format='%Y-%m-%d %H:%M:%S')\n",
    "time_interval = (time.mktime(timestamp.timetuple()))\n",
    "#interval= int(df['TPT'].sum()) if int(df['TPT'].sum()) > 60  else 60\n",
    "user=df.shape[0]"
   ]
  },
  {
   "cell_type": "code",
   "execution_count": 20,
   "id": "1fd58e78",
   "metadata": {},
   "outputs": [],
   "source": [
    "interval = (df.loc[user-1, 'outtime'] - df.loc[0, 'intime']).total_seconds()\n",
    "interval= round(interval)"
   ]
  },
  {
   "cell_type": "code",
   "execution_count": 21,
   "id": "c230896a",
   "metadata": {},
   "outputs": [
    {
     "name": "stdout",
     "output_type": "stream",
     "text": [
      "60\n"
     ]
    }
   ],
   "source": [
    "interval= round((df.loc[user-1, 'outtime'] - df.loc[0, 'intime']).total_seconds()) if round((df.loc[user-1, 'outtime'] - df.loc[0, 'intime']).total_seconds()) > 60  else 60\n",
    "print(interval)"
   ]
  },
  {
   "cell_type": "code",
   "execution_count": 22,
   "id": "81cbc520",
   "metadata": {},
   "outputs": [],
   "source": [
    "def getdataprometheus(url):\n",
    "    headers= {\"Accept\": \"application/json\"}\n",
    "    res = json.loads(requests.post(url=url, headers=headers).content.decode('utf8', 'ignore'))\n",
    "    data=res.get('data').get('result')[0].get('value')[1]\n",
    "    return data"
   ]
  },
  {
   "cell_type": "code",
   "execution_count": 23,
   "id": "8eac1ab9",
   "metadata": {},
   "outputs": [],
   "source": [
    "user=df.shape[0]\n",
    "metrics = {'workload_type':\"\"+str(user)+\"_\"+str(time_locust)+\"_\"+scenario,'workload_size':user,'Workload TPT':(df.loc[user-1, 'outtime'] - df.loc[0, 'intime']).total_seconds(),'Average Workload TPT':df['TPT'].mean(),'Average FET':df['FET'].mean(),'Average Waiting Time':df['Waiting time'].mean()}\n"
   ]
  },
  {
   "cell_type": "code",
   "execution_count": 24,
   "id": "7d0786b9",
   "metadata": {},
   "outputs": [
    {
     "name": "stdout",
     "output_type": "stream",
     "text": [
      "http://172.17.141.197:31022//api/v1/query?query=sum(rate(container_cpu_usage_seconds_total{container_name!=\"POD\",namespace=\"openfaas\",pod=~\"rabbitmq.*\"}[60s]))&time=1672115550.0\n"
     ]
    },
    {
     "ename": "IndexError",
     "evalue": "list index out of range",
     "output_type": "error",
     "traceback": [
      "\u001b[0;31m---------------------------------------------------------------------------\u001b[0m",
      "\u001b[0;31mIndexError\u001b[0m                                Traceback (most recent call last)",
      "Input \u001b[0;32mIn [24]\u001b[0m, in \u001b[0;36m<cell line: 10>\u001b[0;34m()\u001b[0m\n\u001b[1;32m      8\u001b[0m expr_pod_cpu_functions_all \u001b[38;5;241m=\u001b[39m \u001b[38;5;124m'\u001b[39m\u001b[38;5;124msum(rate(container_cpu_usage_seconds_total\u001b[39m\u001b[38;5;124m{\u001b[39m\u001b[38;5;124mcontainer_name!=\u001b[39m\u001b[38;5;124m\"\u001b[39m\u001b[38;5;124mPOD\u001b[39m\u001b[38;5;124m\"\u001b[39m\u001b[38;5;124m,namespace=\u001b[39m\u001b[38;5;124m\"\u001b[39m\u001b[38;5;124mopenfaas-fn\u001b[39m\u001b[38;5;124m\"\u001b[39m\u001b[38;5;124m}[\u001b[39m\u001b[38;5;124m'\u001b[39m\u001b[38;5;241m+\u001b[39m\u001b[38;5;28mstr\u001b[39m(interval)\u001b[38;5;241m+\u001b[39m\u001b[38;5;124m'\u001b[39m\u001b[38;5;124ms]))&time=\u001b[39m\u001b[38;5;124m'\u001b[39m\u001b[38;5;241m+\u001b[39m\u001b[38;5;28mstr\u001b[39m(time_interval)\n\u001b[1;32m      9\u001b[0m \u001b[38;5;28mprint\u001b[39m(pre_url\u001b[38;5;241m+\u001b[39mexpr_pod_cpu_rabbitmq_connector)\n\u001b[0;32m---> 10\u001b[0m metrics[\u001b[38;5;124m'\u001b[39m\u001b[38;5;124mpod_cpu_aeneas_function\u001b[39m\u001b[38;5;124m'\u001b[39m]\u001b[38;5;241m=\u001b[39m\u001b[43mgetdataprometheus\u001b[49m\u001b[43m(\u001b[49m\u001b[43mpre_url\u001b[49m\u001b[38;5;241;43m+\u001b[39;49m\u001b[43mexpr_pod_cpu_aeneas_function\u001b[49m\u001b[43m)\u001b[49m\n\u001b[1;32m     11\u001b[0m metrics[\u001b[38;5;124m'\u001b[39m\u001b[38;5;124mpod_cpu_tocloud_function\u001b[39m\u001b[38;5;124m'\u001b[39m]\u001b[38;5;241m=\u001b[39mgetdataprometheus(pre_url\u001b[38;5;241m+\u001b[39mexpr_pod_cpu_tocloud_function)\n\u001b[1;32m     12\u001b[0m metrics[\u001b[38;5;124m'\u001b[39m\u001b[38;5;124mpod_cpu_rabbitmq_broker\u001b[39m\u001b[38;5;124m'\u001b[39m]\u001b[38;5;241m=\u001b[39mgetdataprometheus(pre_url\u001b[38;5;241m+\u001b[39mexpr_pod_cpu_rabbitmq_broker)\n",
      "Input \u001b[0;32mIn [22]\u001b[0m, in \u001b[0;36mgetdataprometheus\u001b[0;34m(url)\u001b[0m\n\u001b[1;32m      2\u001b[0m headers\u001b[38;5;241m=\u001b[39m {\u001b[38;5;124m\"\u001b[39m\u001b[38;5;124mAccept\u001b[39m\u001b[38;5;124m\"\u001b[39m: \u001b[38;5;124m\"\u001b[39m\u001b[38;5;124mapplication/json\u001b[39m\u001b[38;5;124m\"\u001b[39m}\n\u001b[1;32m      3\u001b[0m res \u001b[38;5;241m=\u001b[39m json\u001b[38;5;241m.\u001b[39mloads(requests\u001b[38;5;241m.\u001b[39mpost(url\u001b[38;5;241m=\u001b[39murl, headers\u001b[38;5;241m=\u001b[39mheaders)\u001b[38;5;241m.\u001b[39mcontent\u001b[38;5;241m.\u001b[39mdecode(\u001b[38;5;124m'\u001b[39m\u001b[38;5;124mutf8\u001b[39m\u001b[38;5;124m'\u001b[39m, \u001b[38;5;124m'\u001b[39m\u001b[38;5;124mignore\u001b[39m\u001b[38;5;124m'\u001b[39m))\n\u001b[0;32m----> 4\u001b[0m data\u001b[38;5;241m=\u001b[39m\u001b[43mres\u001b[49m\u001b[38;5;241;43m.\u001b[39;49m\u001b[43mget\u001b[49m\u001b[43m(\u001b[49m\u001b[38;5;124;43m'\u001b[39;49m\u001b[38;5;124;43mdata\u001b[39;49m\u001b[38;5;124;43m'\u001b[39;49m\u001b[43m)\u001b[49m\u001b[38;5;241;43m.\u001b[39;49m\u001b[43mget\u001b[49m\u001b[43m(\u001b[49m\u001b[38;5;124;43m'\u001b[39;49m\u001b[38;5;124;43mresult\u001b[39;49m\u001b[38;5;124;43m'\u001b[39;49m\u001b[43m)\u001b[49m\u001b[43m[\u001b[49m\u001b[38;5;241;43m0\u001b[39;49m\u001b[43m]\u001b[49m\u001b[38;5;241m.\u001b[39mget(\u001b[38;5;124m'\u001b[39m\u001b[38;5;124mvalue\u001b[39m\u001b[38;5;124m'\u001b[39m)[\u001b[38;5;241m1\u001b[39m]\n\u001b[1;32m      5\u001b[0m \u001b[38;5;28;01mreturn\u001b[39;00m data\n",
      "\u001b[0;31mIndexError\u001b[0m: list index out of range"
     ]
    }
   ],
   "source": [
    "#Pod Stats\n",
    "expr_pod_cpu_aeneas_function = 'sum(rate(container_cpu_usage_seconds_total{container_name!=\"POD\",namespace=\"openfaas-fn\",pod=~\"aeneas.*\"}['+str(interval)+'s]))&time='+str(time_interval)\n",
    "expr_pod_cpu_tocloud_function = 'sum(rate(container_cpu_usage_seconds_total{container_name!=\"POD\",namespace=\"openfaas-fn\",pod=~\"scaling.*\"}['+str(interval)+'s]))&time='+str(time_interval)\n",
    "expr_pod_cpu_rabbitmq_broker = 'sum(rate(container_cpu_usage_seconds_total{container_name!=\"POD\",pod=~\"rabbitmq.*\"}['+str(interval)+'s]))&time='+str(time_interval)\n",
    "expr_pod_cpu_rabbitmq_connector = 'sum(rate(container_cpu_usage_seconds_total{container_name!=\"POD\",namespace=\"openfaas\",pod=~\"rabbitmq.*\"}['+str(interval)+'s]))&time='+str(time_interval)\n",
    "expr_pod_memory_rabbitmq_connector = 'sum(rate(container_memory_usage_bytes{container_name!=\"POD\",namespace=\"openfaas\",pod=~\"rabbitmq.*\"}['+str(interval)+'s]))&time='+str(time_interval)\n",
    "\n",
    "expr_pod_cpu_functions_all = 'sum(rate(container_cpu_usage_seconds_total{container_name!=\"POD\",namespace=\"openfaas-fn\"}['+str(interval)+'s]))&time='+str(time_interval)\n",
    "print(pre_url+expr_pod_cpu_rabbitmq_connector)\n",
    "metrics['pod_cpu_aeneas_function']=getdataprometheus(pre_url+expr_pod_cpu_aeneas_function)\n",
    "metrics['pod_cpu_tocloud_function']=getdataprometheus(pre_url+expr_pod_cpu_tocloud_function)\n",
    "metrics['pod_cpu_rabbitmq_broker']=getdataprometheus(pre_url+expr_pod_cpu_rabbitmq_broker)\n",
    "#metrics['pod_cpu_rabbitmq_connector']=getdataprometheus(pre_url+expr_pod_cpu_rabbitmq_connector)\n",
    "\n",
    "#metrics['pod_memory_rabbitmq_connector']=getdataprometheus(pre_url+expr_pod_memory_rabbitmq_connector)\n",
    "\n",
    "metrics['pod_cpu_functions_all']=getdataprometheus(pre_url+expr_pod_cpu_functions_all)\n",
    "\n",
    "expr_pod_aeneas_function = 'sum(kube_pod_container_status_ready{namespace=\"openfaas-fn\",pod=~\"aeneas.*\"})'\n",
    "expr_pod_tocloud_function = 'sum(kube_pod_container_status_ready{namespace=\"openfaas-fn\",pod=~\"scaling.*\"})'\n",
    "expr_pod_getobject_function = 'sum(kube_pod_container_status_ready{namespace=\"openfaas-fn\",pod=~\"getobject.*\"})'\n",
    "#expr_pod_rabbitmq_function = 'sum(kube_pod_container_status_ready{namespace=\"openfaas\",pod=~\"rabbitmq.*\"})&time='+str(time_interval)\n",
    "#metrics['pod_count_rabbitmq']=getdataprometheus(pre_url+expr_pod_rabbitmq_function)\n",
    "metrics['pod_count_aeneas']=getdataprometheus(pre_url+expr_pod_aeneas_function)\n",
    "metrics['pod_count_tocloud']=getdataprometheus(pre_url+expr_pod_tocloud_function)\n",
    "metrics['pod_count_getobject']=getdataprometheus(pre_url+expr_pod_getobject_function)\n",
    "\n",
    "#metrics['pod_aeneas_cpu_percent']=((int(metrics['pod_cpu_aeneas_function'])*1000)/int(metrics['pod_count_aeneas'])*100"
   ]
  },
  {
   "cell_type": "code",
   "execution_count": 137,
   "id": "4141194b",
   "metadata": {},
   "outputs": [
    {
     "name": "stderr",
     "output_type": "stream",
     "text": [
      "/tmp/ipykernel_10043/985437858.py:2: FutureWarning: The frame.append method is deprecated and will be removed from pandas in a future version. Use pandas.concat instead.\n",
      "  df_metrics = df_metrics.append(metrics, ignore_index=True)\n"
     ]
    }
   ],
   "source": [
    "df_metrics = pd.read_csv(\"keda_rps.csv\")\n",
    "df_metrics = df_metrics.append(metrics, ignore_index=True)"
   ]
  },
  {
   "cell_type": "code",
   "execution_count": 138,
   "id": "31b05702",
   "metadata": {},
   "outputs": [],
   "source": [
    "df_metrics.to_csv(\"keda_rps.csv\",index=False)"
   ]
  },
  {
   "cell_type": "code",
   "execution_count": 139,
   "id": "ce2bfe50",
   "metadata": {},
   "outputs": [
    {
     "data": {
      "text/html": [
       "<div>\n",
       "<style scoped>\n",
       "    .dataframe tbody tr th:only-of-type {\n",
       "        vertical-align: middle;\n",
       "    }\n",
       "\n",
       "    .dataframe tbody tr th {\n",
       "        vertical-align: top;\n",
       "    }\n",
       "\n",
       "    .dataframe thead th {\n",
       "        text-align: right;\n",
       "    }\n",
       "</style>\n",
       "<table border=\"1\" class=\"dataframe\">\n",
       "  <thead>\n",
       "    <tr style=\"text-align: right;\">\n",
       "      <th></th>\n",
       "      <th>Average Waiting Time</th>\n",
       "      <th>Average Workload TPT</th>\n",
       "      <th>Workload TPT</th>\n",
       "      <th>pod_cpu_aeneas_function</th>\n",
       "      <th>pod_cpu_tocloud_function</th>\n",
       "      <th>pod_cpu_functions_all</th>\n",
       "      <th>pod_cpu_rabbitmq_broker</th>\n",
       "      <th>pod_cpu_rabbitmq_connector_aeneas</th>\n",
       "      <th>pod_cpu_rabbitmq_connector_tocloud</th>\n",
       "      <th>workload_size</th>\n",
       "      <th>workload_type</th>\n",
       "      <th>Average FET</th>\n",
       "      <th>pod_count_aeneas</th>\n",
       "      <th>pod_count_getobject</th>\n",
       "      <th>pod_count_tocloud</th>\n",
       "      <th>pod_count_connector</th>\n",
       "      <th>pod_cpu_mosquitto_broker</th>\n",
       "      <th>pod_cpu_mosquitto_connector_aeneas</th>\n",
       "      <th>pod_cpu_mosquitto_connector_tocloud</th>\n",
       "    </tr>\n",
       "  </thead>\n",
       "  <tbody>\n",
       "    <tr>\n",
       "      <th>0</th>\n",
       "      <td>4.7752</td>\n",
       "      <td>9.000000</td>\n",
       "      <td>9.630480</td>\n",
       "      <td>0.051187</td>\n",
       "      <td>0.002831</td>\n",
       "      <td>0.067566</td>\n",
       "      <td>NaN</td>\n",
       "      <td>NaN</td>\n",
       "      <td>NaN</td>\n",
       "      <td>1</td>\n",
       "      <td>1_5_keda_rps</td>\n",
       "      <td>4.224800</td>\n",
       "      <td>1</td>\n",
       "      <td>1</td>\n",
       "      <td>1</td>\n",
       "      <td>NaN</td>\n",
       "      <td>0.030285</td>\n",
       "      <td>0.017413</td>\n",
       "      <td>0.0246</td>\n",
       "    </tr>\n",
       "    <tr>\n",
       "      <th>1</th>\n",
       "      <td>7.9519</td>\n",
       "      <td>17.666667</td>\n",
       "      <td>23.294552</td>\n",
       "      <td>0.24743110212011482</td>\n",
       "      <td>0.004391872173661614</td>\n",
       "      <td>0.2625875155747574</td>\n",
       "      <td>0.008293372253702549</td>\n",
       "      <td>NaN</td>\n",
       "      <td>NaN</td>\n",
       "      <td>3</td>\n",
       "      <td>3_5_keda_rps</td>\n",
       "      <td>9.714767</td>\n",
       "      <td>1</td>\n",
       "      <td>1</td>\n",
       "      <td>1</td>\n",
       "      <td>NaN</td>\n",
       "      <td>NaN</td>\n",
       "      <td>NaN</td>\n",
       "      <td>NaN</td>\n",
       "    </tr>\n",
       "  </tbody>\n",
       "</table>\n",
       "</div>"
      ],
      "text/plain": [
       "   Average Waiting Time  Average Workload TPT  Workload TPT  \\\n",
       "0                4.7752              9.000000      9.630480   \n",
       "1                7.9519             17.666667     23.294552   \n",
       "\n",
       "  pod_cpu_aeneas_function pod_cpu_tocloud_function pod_cpu_functions_all  \\\n",
       "0                0.051187                 0.002831              0.067566   \n",
       "1     0.24743110212011482     0.004391872173661614    0.2625875155747574   \n",
       "\n",
       "  pod_cpu_rabbitmq_broker  pod_cpu_rabbitmq_connector_aeneas  \\\n",
       "0                     NaN                                NaN   \n",
       "1    0.008293372253702549                                NaN   \n",
       "\n",
       "   pod_cpu_rabbitmq_connector_tocloud  workload_size workload_type  \\\n",
       "0                                 NaN              1  1_5_keda_rps   \n",
       "1                                 NaN              3  3_5_keda_rps   \n",
       "\n",
       "   Average FET pod_count_aeneas pod_count_getobject pod_count_tocloud  \\\n",
       "0     4.224800                1                   1                 1   \n",
       "1     9.714767                1                   1                 1   \n",
       "\n",
       "   pod_count_connector  pod_cpu_mosquitto_broker  \\\n",
       "0                  NaN                  0.030285   \n",
       "1                  NaN                       NaN   \n",
       "\n",
       "   pod_cpu_mosquitto_connector_aeneas  pod_cpu_mosquitto_connector_tocloud  \n",
       "0                            0.017413                               0.0246  \n",
       "1                                 NaN                                  NaN  "
      ]
     },
     "metadata": {},
     "output_type": "display_data"
    }
   ],
   "source": [
    "display(df_metrics)"
   ]
  },
  {
   "cell_type": "code",
   "execution_count": 36,
   "id": "4cb04c1d",
   "metadata": {},
   "outputs": [
    {
     "name": "stderr",
     "output_type": "stream",
     "text": [
      "/usr/lib/python3/dist-packages/matplotlib/cbook/__init__.py:1402: FutureWarning: Support for multi-dimensional indexing (e.g. `obj[:, None]`) is deprecated and will be removed in a future version.  Convert to a numpy array before indexing instead.\n",
      "  ndim = x[:, None].ndim\n",
      "/usr/lib/python3/dist-packages/matplotlib/axes/_base.py:276: FutureWarning: Support for multi-dimensional indexing (e.g. `obj[:, None]`) is deprecated and will be removed in a future version.  Convert to a numpy array before indexing instead.\n",
      "  x = x[:, np.newaxis]\n",
      "/usr/lib/python3/dist-packages/matplotlib/axes/_base.py:278: FutureWarning: Support for multi-dimensional indexing (e.g. `obj[:, None]`) is deprecated and will be removed in a future version.  Convert to a numpy array before indexing instead.\n",
      "  y = y[:, np.newaxis]\n"
     ]
    },
    {
     "data": {
      "text/plain": [
       "Text(0, 0.5, 'Throughput (rps)')"
      ]
     },
     "execution_count": 36,
     "metadata": {},
     "output_type": "execute_result"
    },
    {
     "data": {
      "image/png": "[encoded data removed]",
      "text/plain": [
       "<Figure size 640x480 with 1 Axes>"
      ]
     },
     "metadata": {},
     "output_type": "display_data"
    }
   ],
   "source": [
    "from matplotlib import pyplot as plt\n",
    "df=pd.read_csv(\"throughput.csv\")\n",
    "plt.plot(df['Time'],df['Throughput'],  linestyle='--', marker='o', color='b', label='Throughput')\n",
    "#plt.plot(df['user'],df['CT'],  linestyle='--', marker='*', color='r', label='Communication Time')\n",
    "plt.grid()\n",
    "plt.legend(loc='best')\n",
    "plt.xlabel('Time (Seconds)', fontsize=18)\n",
    "plt.ylabel('Throughput (rps)', fontsize=16)\n"
   ]
  },
  {
   "cell_type": "code",
   "execution_count": null,
   "id": "d9835a0b",
   "metadata": {},
   "outputs": [],
   "source": []
  }
 ],
 "metadata": {
  "kernelspec": {
   "display_name": "Python 3 (ipykernel)",
   "language": "python",
   "name": "python3"
  },
  "language_info": {
   "codemirror_mode": {
    "name": "ipython",
    "version": 3
   },
   "file_extension": ".py",
   "mimetype": "text/x-python",
   "name": "python",
   "nbconvert_exporter": "python",
   "pygments_lexer": "ipython3",
   "version": "3.8.10"
  }
 },
 "nbformat": 4,
 "nbformat_minor": 5
}
