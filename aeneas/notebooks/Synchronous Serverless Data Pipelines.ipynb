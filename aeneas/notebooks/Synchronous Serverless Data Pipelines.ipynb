{
 "cells": [
  {
   "cell_type": "markdown",
   "id": "b3c1f212",
   "metadata": {},
   "source": [
    "## Functions deployment  (aeneas,tocloud,getobject)"
   ]
  },
  {
   "cell_type": "code",
   "execution_count": null,
   "id": "0ed36b5a",
   "metadata": {},
   "outputs": [],
   "source": [
    "# deploy mqtt-connectors: tocloud, aeneas (edit values.yml for topic name and client id)\n",
    "#!ssh ubuntu@172.17.141.197 \"helm template  -name aeneas -n openfaas --namespace openfaas mqtt-connector | sudo kubectl apply  -f -\""
   ]
  },
  {
   "cell_type": "code",
   "execution_count": 1,
   "id": "0b139e27",
   "metadata": {},
   "outputs": [
    {
     "name": "stdout",
     "output_type": "stream",
     "text": [
      "Deploying: scaling-aeneas-tocloud.\n",
      "\n",
      "Deployed. 202 Accepted.\n",
      "URL: http://127.0.0.1:8080/function/scaling-aeneas-tocloud\n",
      "\n",
      "Deploying: scaling-aeneas-mqtt.\n",
      "\n",
      "Deployed. 202 Accepted.\n",
      "URL: http://127.0.0.1:8080/function/scaling-aeneas-mqtt\n",
      "\n"
     ]
    }
   ],
   "source": [
    "!ssh ubuntu@172.17.141.197 \"cd scalingsdp;faas deploy  -f scaling-aeneas-tocloud.yml --annotation topic=\"tocloud\" --label com.openfaas.scale.min=1 --label com.openfaas.scale.max=10 --label com.openfaas.scale.target=50 --label com.openfaas.scale.type=rps --label com.openfaas.scale.target-proportion=0.90;faas deploy  -f scaling-aeneas-mqtt.yml  --annotation topic=\"aeneas\" --label com.openfaas.scale.min=1 --label com.openfaas.scale.max=10 --label com.openfaas.scale.target=50 --label com.openfaas.scale.type=rps --label com.openfaas.scale.target-proportion=0.90\""
   ]
  },
  {
   "cell_type": "code",
   "execution_count": 2,
   "id": "93abebf1",
   "metadata": {},
   "outputs": [
    {
     "name": "stdout",
     "output_type": "stream",
     "text": [
      "Function                      \tInvocations    \tReplicas\r\n",
      "getobject                     \t6050           \t1    \r\n",
      "scaling-aeneas-mqtt           \t6050           \t1    \r\n",
      "scaling-aeneas-tocloud        \t5839           \t1    \r\n"
     ]
    }
   ],
   "source": [
    "!ssh ubuntu@172.17.141.197 \"faas ls\""
   ]
  },
  {
   "cell_type": "code",
   "execution_count": null,
   "id": "74254f74",
   "metadata": {},
   "outputs": [],
   "source": []
  }
 ],
 "metadata": {
  "kernelspec": {
   "display_name": "Python 3 (ipykernel)",
   "language": "python",
   "name": "python3"
  },
  "language_info": {
   "codemirror_mode": {
    "name": "ipython",
    "version": 3
   },
   "file_extension": ".py",
   "mimetype": "text/x-python",
   "name": "python",
   "nbconvert_exporter": "python",
   "pygments_lexer": "ipython3",
   "version": "3.8.10"
  }
 },
 "nbformat": 4,
 "nbformat_minor": 5
}
