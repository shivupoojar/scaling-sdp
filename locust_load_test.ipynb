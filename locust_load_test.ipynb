{
 "cells": [
  {
   "cell_type": "code",
   "execution_count": 6,
   "id": "dffa5337",
   "metadata": {},
   "outputs": [
    {
     "name": "stdout",
     "output_type": "stream",
     "text": [
      "Requirement already satisfied: paho-mqtt in /home/ubuntu/.local/lib/python3.8/site-packages (1.6.1)\n",
      "Requirement already satisfied: locust in /home/ubuntu/.local/lib/python3.8/site-packages (2.12.0)\n",
      "Requirement already satisfied: ConfigArgParse>=1.0 in /home/ubuntu/.local/lib/python3.8/site-packages (from locust) (1.5.3)\n",
      "Requirement already satisfied: Flask-BasicAuth>=0.2.0 in /home/ubuntu/.local/lib/python3.8/site-packages (from locust) (0.2.0)\n",
      "Requirement already satisfied: typing-extensions>=3.7.4.3 in /home/ubuntu/.local/lib/python3.8/site-packages (from locust) (4.3.0)\n",
      "Requirement already satisfied: flask>=2.0.0 in /home/ubuntu/.local/lib/python3.8/site-packages (from locust) (2.2.2)\n",
      "Requirement already satisfied: pyzmq!=23.0.0,>=22.2.1 in /usr/local/lib/python3.8/dist-packages (from locust) (23.2.1)\n",
      "Requirement already satisfied: psutil>=5.6.7 in /usr/local/lib/python3.8/dist-packages (from locust) (5.9.1)\n",
      "Requirement already satisfied: Flask-Cors>=3.0.10 in /home/ubuntu/.local/lib/python3.8/site-packages (from locust) (3.0.10)\n",
      "Requirement already satisfied: Werkzeug>=2.0.0 in /home/ubuntu/.local/lib/python3.8/site-packages (from locust) (2.2.2)\n",
      "Requirement already satisfied: msgpack>=0.6.2 in /home/ubuntu/.local/lib/python3.8/site-packages (from locust) (1.0.4)\n",
      "Requirement already satisfied: roundrobin>=0.0.2 in /home/ubuntu/.local/lib/python3.8/site-packages (from locust) (0.0.4)\n",
      "Requirement already satisfied: requests>=2.23.0 in /home/ubuntu/.local/lib/python3.8/site-packages (from locust) (2.28.1)\n",
      "Requirement already satisfied: geventhttpclient>=2.0.2 in /home/ubuntu/.local/lib/python3.8/site-packages (from locust) (2.0.2)\n",
      "Requirement already satisfied: gevent>=20.12.1 in /home/ubuntu/.local/lib/python3.8/site-packages (from locust) (21.12.0)\n",
      "Requirement already satisfied: Jinja2>=3.0 in /home/ubuntu/.local/lib/python3.8/site-packages (from flask>=2.0.0->locust) (3.1.2)\n",
      "Requirement already satisfied: click>=8.0 in /home/ubuntu/.local/lib/python3.8/site-packages (from flask>=2.0.0->locust) (8.1.3)\n",
      "Requirement already satisfied: importlib-metadata>=3.6.0; python_version < \"3.10\" in /usr/local/lib/python3.8/dist-packages (from flask>=2.0.0->locust) (4.12.0)\n",
      "Requirement already satisfied: itsdangerous>=2.0 in /home/ubuntu/.local/lib/python3.8/site-packages (from flask>=2.0.0->locust) (2.1.2)\n",
      "Requirement already satisfied: Six in /usr/lib/python3/dist-packages (from Flask-Cors>=3.0.10->locust) (1.14.0)\n",
      "Requirement already satisfied: MarkupSafe>=2.1.1 in /home/ubuntu/.local/lib/python3.8/site-packages (from Werkzeug>=2.0.0->locust) (2.1.1)\n",
      "Requirement already satisfied: certifi>=2017.4.17 in /usr/lib/python3/dist-packages (from requests>=2.23.0->locust) (2019.11.28)\n",
      "Requirement already satisfied: urllib3<1.27,>=1.21.1 in /usr/lib/python3/dist-packages (from requests>=2.23.0->locust) (1.25.8)\n",
      "Requirement already satisfied: idna<4,>=2.5 in /usr/lib/python3/dist-packages (from requests>=2.23.0->locust) (2.8)\n",
      "Requirement already satisfied: charset-normalizer<3,>=2 in /home/ubuntu/.local/lib/python3.8/site-packages (from requests>=2.23.0->locust) (2.1.1)\n",
      "Requirement already satisfied: brotli in /home/ubuntu/.local/lib/python3.8/site-packages (from geventhttpclient>=2.0.2->locust) (1.0.9)\n",
      "Requirement already satisfied: zope.interface in /usr/lib/python3/dist-packages (from gevent>=20.12.1->locust) (4.7.1)\n",
      "Requirement already satisfied: zope.event in /home/ubuntu/.local/lib/python3.8/site-packages (from gevent>=20.12.1->locust) (4.5.0)\n",
      "Requirement already satisfied: greenlet<2.0,>=1.1.0; platform_python_implementation == \"CPython\" in /home/ubuntu/.local/lib/python3.8/site-packages (from gevent>=20.12.1->locust) (1.1.3)\n",
      "Requirement already satisfied: setuptools in /usr/lib/python3/dist-packages (from gevent>=20.12.1->locust) (45.2.0)\n",
      "Requirement already satisfied: zipp>=0.5 in /usr/lib/python3/dist-packages (from importlib-metadata>=3.6.0; python_version < \"3.10\"->flask>=2.0.0->locust) (1.0.0)\n",
      "Collecting zope.event\n",
      "  Using cached zope.event-4.5.0-py2.py3-none-any.whl (6.8 kB)\n",
      "Collecting setuptools\n",
      "  Downloading setuptools-65.3.0-py3-none-any.whl (1.2 MB)\n",
      "\u001b[K     |████████████████████████████████| 1.2 MB 1.5 MB/s eta 0:00:01\n",
      "\u001b[31mERROR: launchpadlib 1.10.13 requires testresources, which is not installed.\u001b[0m\n",
      "\u001b[?25hInstalling collected packages: setuptools, zope.event\n",
      "  Attempting uninstall: zope.event\n",
      "    Found existing installation: zope.event 4.5.0\n",
      "    Uninstalling zope.event-4.5.0:\n",
      "      Successfully uninstalled zope.event-4.5.0\n",
      "Successfully installed setuptools-65.3.0 zope.event-4.5.0\n"
     ]
    }
   ],
   "source": [
    "!pip install paho-mqtt\n",
    "!pip install locust\n",
    "!pip install --force-reinstall zope.event"
   ]
  },
  {
   "cell_type": "code",
   "execution_count": 39,
   "id": "53a96b89",
   "metadata": {},
   "outputs": [],
   "source": [
    "!touch input_data.csv\n",
    "!echo \"intime\" > input_data.csv"
   ]
  },
  {
   "cell_type": "code",
   "execution_count": 40,
   "id": "2919288e",
   "metadata": {},
   "outputs": [
    {
     "name": "stdout",
     "output_type": "stream",
     "text": [
      "intime\r\n"
     ]
    }
   ],
   "source": [
    "!cat input_data.csv"
   ]
  },
  {
   "cell_type": "code",
   "execution_count": 41,
   "id": "efdd5f43",
   "metadata": {
    "scrolled": true
   },
   "outputs": [],
   "source": [
    "#!locust -f mqtt_locust.py --host='127.0.0.1' stop_timeout = 20 "
   ]
  },
  {
   "cell_type": "code",
   "execution_count": 42,
   "id": "520f2510",
   "metadata": {},
   "outputs": [
    {
     "name": "stdout",
     "output_type": "stream",
     "text": [
      "[2022-09-14 12:45:24,257] ubuntu/WARNING/locust.main: System open file limit '4096' is below minimum setting '10000'.\n",
      "It's not high enough for load testing, and the OS didn't allow locust to increase it by itself.\n",
      "See https://github.com/locustio/locust/wiki/Installation#increasing-maximum-number-of-open-files-limit for more info.\n",
      "[2022-09-14 12:45:24,258] ubuntu/INFO/locust.main: Run time limit set to 30 seconds\n",
      "[2022-09-14 12:45:24,258] ubuntu/INFO/locust.main: Starting Locust 2.12.0\n",
      "Type     Name  # reqs      # fails |    Avg     Min     Max    Med |   req/s  failures/s\n",
      "--------||-------|-------------|-------|-------|-------|-------|--------|-----------\n",
      "--------||-------|-------------|-------|-------|-------|-------|--------|-----------\n",
      "         Aggregated       0     0(0.00%) |      0       0       0      0 |    0.00        0.00\n",
      "\n",
      "[2022-09-14 12:45:24,262] ubuntu/INFO/locust.runners: Ramping to 2 users at a rate of 1.00 per second\n",
      "Disconnected result code None\n",
      "Disconnected result code None\n",
      "[2022-09-14 12:45:25,265] ubuntu/INFO/locust.runners: All users spawned: {\"MQTTLocust\": 2} (2 total users)\n",
      "Disconnected result code None\n",
      "Disconnected result code None\n",
      "Type     Name  # reqs      # fails |    Avg     Min     Max    Med |   req/s  failures/s\n",
      "--------||-------|-------------|-------|-------|-------|-------|--------|-----------\n",
      "MQTT     b'Device - 1'       1     0(0.00%) |     14      14      14     14 |    0.00        0.00\n",
      "MQTT     b'Device - 2'       1     0(0.00%) |     13      13      13     13 |    0.00        0.00\n",
      "MQTT     connect       2     0(0.00%) |      0       0       0      0 |    0.00        0.00\n",
      "--------||-------|-------------|-------|-------|-------|-------|--------|-----------\n",
      "         Aggregated       4     0(0.00%) |      6       0      14      0 |    0.00        0.00\n",
      "\n",
      "Type     Name  # reqs      # fails |    Avg     Min     Max    Med |   req/s  failures/s\n",
      "--------||-------|-------------|-------|-------|-------|-------|--------|-----------\n",
      "MQTT     b'Device - 1'       1     0(0.00%) |     14      14      14     14 |    0.00        0.00\n",
      "MQTT     b'Device - 2'       1     0(0.00%) |     13      13      13     13 |    0.00        0.00\n",
      "MQTT     connect       2     0(0.00%) |      0       0       0      0 |    0.00        0.00\n",
      "--------||-------|-------------|-------|-------|-------|-------|--------|-----------\n",
      "         Aggregated       4     0(0.00%) |      6       0      14      0 |    0.00        0.00\n",
      "\n",
      "Type     Name  # reqs      # fails |    Avg     Min     Max    Med |   req/s  failures/s\n",
      "--------||-------|-------------|-------|-------|-------|-------|--------|-----------\n",
      "MQTT     b'Device - 1'       1     0(0.00%) |     14      14      14     14 |    0.00        0.00\n",
      "MQTT     b'Device - 2'       1     0(0.00%) |     13      13      13     13 |    0.00        0.00\n",
      "MQTT     connect       2     0(0.00%) |      0       0       0      0 |    0.00        0.00\n",
      "--------||-------|-------------|-------|-------|-------|-------|--------|-----------\n",
      "         Aggregated       4     0(0.00%) |      6       0      14      0 |    0.00        0.00\n",
      "\n",
      "Type     Name  # reqs      # fails |    Avg     Min     Max    Med |   req/s  failures/s\n",
      "--------||-------|-------------|-------|-------|-------|-------|--------|-----------\n",
      "MQTT     b'Device - 1'       1     0(0.00%) |     14      14      14     14 |    0.00        0.00\n",
      "MQTT     b'Device - 2'       1     0(0.00%) |     13      13      13     13 |    0.00        0.00\n",
      "MQTT     connect       2     0(0.00%) |      0       0       0      0 |    0.00        0.00\n",
      "--------||-------|-------------|-------|-------|-------|-------|--------|-----------\n",
      "         Aggregated       4     0(0.00%) |      6       0      14      0 |    0.00        0.00\n",
      "\n",
      "Type     Name  # reqs      # fails |    Avg     Min     Max    Med |   req/s  failures/s\n",
      "--------||-------|-------------|-------|-------|-------|-------|--------|-----------\n",
      "MQTT     b'Device - 1'       1     0(0.00%) |     14      14      14     14 |    0.00        0.00\n",
      "MQTT     b'Device - 2'       1     0(0.00%) |     13      13      13     13 |    0.00        0.00\n",
      "MQTT     connect       2     0(0.00%) |      0       0       0      0 |    0.00        0.00\n",
      "--------||-------|-------------|-------|-------|-------|-------|--------|-----------\n",
      "         Aggregated       4     0(0.00%) |      6       0      14      0 |    0.00        0.00\n",
      "\n",
      "Disconnected result code None\n",
      "Type     Name  # reqs      # fails |    Avg     Min     Max    Med |   req/s  failures/s\n",
      "--------||-------|-------------|-------|-------|-------|-------|--------|-----------\n",
      "MQTT     b'Device - 1'       2     0(0.00%) |     14      14      14     14 |    0.11        0.00\n",
      "MQTT     b'Device - 2'       1     0(0.00%) |     13      13      13     13 |    0.11        0.00\n",
      "MQTT     connect       3     0(0.00%) |      0       0       0      0 |    0.22        0.00\n",
      "--------||-------|-------------|-------|-------|-------|-------|--------|-----------\n",
      "         Aggregated       6     0(0.00%) |      6       0      14      0 |    0.44        0.00\n",
      "\n",
      "Type     Name  # reqs      # fails |    Avg     Min     Max    Med |   req/s  failures/s\n",
      "--------||-------|-------------|-------|-------|-------|-------|--------|-----------\n",
      "MQTT     b'Device - 1'       2     0(0.00%) |     14      14      14     14 |    0.11        0.00\n",
      "MQTT     b'Device - 2'       1     0(0.00%) |     13      13      13     13 |    0.11        0.00\n",
      "MQTT     connect       3     0(0.00%) |      0       0       0      0 |    0.22        0.00\n",
      "--------||-------|-------------|-------|-------|-------|-------|--------|-----------\n",
      "         Aggregated       6     0(0.00%) |      6       0      14      0 |    0.44        0.00\n",
      "\n",
      "Disconnected result code None\n",
      "Type     Name  # reqs      # fails |    Avg     Min     Max    Med |   req/s  failures/s\n",
      "--------||-------|-------------|-------|-------|-------|-------|--------|-----------\n",
      "MQTT     b'Device - 1'       2     0(0.00%) |     14      14      14     14 |    0.10        0.00\n",
      "MQTT     b'Device - 2'       2     0(0.00%) |     15      13      18     13 |    0.00        0.00\n",
      "MQTT     connect       4     0(0.00%) |      0       0       0      0 |    0.10        0.00\n",
      "--------||-------|-------------|-------|-------|-------|-------|--------|-----------\n",
      "         Aggregated       8     0(0.00%) |      7       0      18      0 |    0.20        0.00\n",
      "\n",
      "Type     Name  # reqs      # fails |    Avg     Min     Max    Med |   req/s  failures/s\n",
      "--------||-------|-------------|-------|-------|-------|-------|--------|-----------\n",
      "MQTT     b'Device - 1'       2     0(0.00%) |     14      14      14     14 |    0.10        0.00\n",
      "MQTT     b'Device - 2'       2     0(0.00%) |     15      13      18     13 |    0.00        0.00\n",
      "MQTT     connect       4     0(0.00%) |      0       0       0      0 |    0.10        0.00\n",
      "--------||-------|-------------|-------|-------|-------|-------|--------|-----------\n",
      "         Aggregated       8     0(0.00%) |      7       0      18      0 |    0.20        0.00\n",
      "\n",
      "Type     Name  # reqs      # fails |    Avg     Min     Max    Med |   req/s  failures/s\n",
      "--------||-------|-------------|-------|-------|-------|-------|--------|-----------\n",
      "MQTT     b'Device - 1'       2     0(0.00%) |     14      14      14     14 |    0.10        0.00\n",
      "MQTT     b'Device - 2'       2     0(0.00%) |     15      13      18     13 |    0.00        0.00\n",
      "MQTT     connect       4     0(0.00%) |      0       0       0      0 |    0.10        0.00\n",
      "--------||-------|-------------|-------|-------|-------|-------|--------|-----------\n",
      "         Aggregated       8     0(0.00%) |      7       0      18      0 |    0.20        0.00\n",
      "\n",
      "Type     Name  # reqs      # fails |    Avg     Min     Max    Med |   req/s  failures/s\n",
      "--------||-------|-------------|-------|-------|-------|-------|--------|-----------\n",
      "MQTT     b'Device - 1'       2     0(0.00%) |     14      14      14     14 |    0.10        0.00\n",
      "MQTT     b'Device - 2'       2     0(0.00%) |     15      13      18     13 |    0.00        0.00\n",
      "MQTT     connect       4     0(0.00%) |      0       0       0      0 |    0.10        0.00\n",
      "--------||-------|-------------|-------|-------|-------|-------|--------|-----------\n",
      "         Aggregated       8     0(0.00%) |      7       0      18      0 |    0.20        0.00\n",
      "\n"
     ]
    },
    {
     "name": "stdout",
     "output_type": "stream",
     "text": [
      "Disconnected result code None\n",
      "Disconnected result code None\n",
      "Type     Name  # reqs      # fails |    Avg     Min     Max    Med |   req/s  failures/s\n",
      "--------||-------|-------------|-------|-------|-------|-------|--------|-----------\n",
      "MQTT     b'Device - 1'       3     0(0.00%) |     14      14      16     14 |    0.10        0.00\n",
      "MQTT     b'Device - 2'       3     0(0.00%) |     15      13      18     15 |    0.10        0.00\n",
      "MQTT     connect       6     0(0.00%) |      0       0       0      0 |    0.20        0.00\n",
      "--------||-------|-------------|-------|-------|-------|-------|--------|-----------\n",
      "         Aggregated      12     0(0.00%) |      7       0      18      0 |    0.40        0.00\n",
      "\n",
      "Type     Name  # reqs      # fails |    Avg     Min     Max    Med |   req/s  failures/s\n",
      "--------||-------|-------------|-------|-------|-------|-------|--------|-----------\n",
      "MQTT     b'Device - 1'       3     0(0.00%) |     14      14      16     14 |    0.10        0.00\n",
      "MQTT     b'Device - 2'       3     0(0.00%) |     15      13      18     15 |    0.10        0.00\n",
      "MQTT     connect       6     0(0.00%) |      0       0       0      0 |    0.20        0.00\n",
      "--------||-------|-------------|-------|-------|-------|-------|--------|-----------\n",
      "         Aggregated      12     0(0.00%) |      7       0      18      0 |    0.40        0.00\n",
      "\n",
      "Type     Name  # reqs      # fails |    Avg     Min     Max    Med |   req/s  failures/s\n",
      "--------||-------|-------------|-------|-------|-------|-------|--------|-----------\n",
      "MQTT     b'Device - 1'       3     0(0.00%) |     14      14      16     14 |    0.10        0.00\n",
      "MQTT     b'Device - 2'       3     0(0.00%) |     15      13      18     15 |    0.10        0.00\n",
      "MQTT     connect       6     0(0.00%) |      0       0       0      0 |    0.20        0.00\n",
      "--------||-------|-------------|-------|-------|-------|-------|--------|-----------\n",
      "         Aggregated      12     0(0.00%) |      7       0      18      0 |    0.40        0.00\n",
      "\n",
      "Disconnected result code None\n",
      "[2022-09-14 12:45:53,541] ubuntu/INFO/locust.main: --run-time limit reached, shutting down\n",
      "[2022-09-14 12:45:53,543] ubuntu/INFO/locust.main: Shutting down (exit code 0)\n",
      "Type     Name  # reqs      # fails |    Avg     Min     Max    Med |   req/s  failures/s\n",
      "--------||-------|-------------|-------|-------|-------|-------|--------|-----------\n",
      "MQTT     b'Device - 1'       4     0(0.00%) |     15      14      18     14 |    0.14        0.00\n",
      "MQTT     b'Device - 2'       3     0(0.00%) |     15      13      18     15 |    0.10        0.00\n",
      "MQTT     connect       7     0(0.00%) |      0       0       0      0 |    0.24        0.00\n",
      "--------||-------|-------------|-------|-------|-------|-------|--------|-----------\n",
      "         Aggregated      14     0(0.00%) |      7       0      18      0 |    0.48        0.00\n",
      "\n",
      "Response time percentiles (approximated)\n",
      "Type     Name      50%    66%    75%    80%    90%    95%    98%    99%  99.9% 99.99%   100% # reqs\n",
      "--------||--------|------|------|------|------|------|------|------|------|------|------|------\n",
      "MQTT     b'Device - 1'       16     16     18     18     18     18     18     18     18     18     18      4\n",
      "MQTT     b'Device - 2'       15     15     18     18     18     18     18     18     18     18     18      3\n",
      "MQTT     connect        0      0      0      0      0      0      0      0      0      0      0      7\n",
      "--------||--------|------|------|------|------|------|------|------|------|------|------|------\n",
      "         Aggregated       13     14     15     16     18     18     18     18     18     18     18     14\n",
      "\n"
     ]
    }
   ],
   "source": [
    "!locust --headless -f mqtt_locust.py --host='127.0.0.1' -t 30  --users 2 --spawn-rate 1 "
   ]
  },
  {
   "cell_type": "code",
   "execution_count": 44,
   "id": "ad0da129",
   "metadata": {},
   "outputs": [
    {
     "name": "stdout",
     "output_type": "stream",
     "text": [
      "intime\r\n",
      "'2022-09-14 12:45:24.284695'\r\n",
      "'2022-09-14 12:45:25.274169'\r\n",
      "'2022-09-14 12:45:35.450906'\r\n",
      "'2022-09-14 12:45:38.538971'\r\n",
      "'2022-09-14 12:45:46.459438'\r\n",
      "'2022-09-14 12:45:47.151463'\r\n",
      "'2022-09-14 12:45:53.212886'\r\n"
     ]
    }
   ],
   "source": [
    "!cat input_data.csv"
   ]
  },
  {
   "cell_type": "code",
   "execution_count": null,
   "id": "85b61eb5",
   "metadata": {},
   "outputs": [],
   "source": []
  }
 ],
 "metadata": {
  "kernelspec": {
   "display_name": "Python 3 (ipykernel)",
   "language": "python",
   "name": "python3"
  },
  "language_info": {
   "codemirror_mode": {
    "name": "ipython",
    "version": 3
   },
   "file_extension": ".py",
   "mimetype": "text/x-python",
   "name": "python",
   "nbconvert_exporter": "python",
   "pygments_lexer": "ipython3",
   "version": "3.8.10"
  }
 },
 "nbformat": 4,
 "nbformat_minor": 5
}
