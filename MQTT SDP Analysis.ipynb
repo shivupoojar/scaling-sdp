{
 "cells": [
  {
   "cell_type": "code",
   "execution_count": 1,
   "id": "060a0155",
   "metadata": {},
   "outputs": [
    {
     "name": "stdout",
     "output_type": "stream",
     "text": [
      "Requirement already satisfied: minio in /home/ubuntu/.local/lib/python3.8/site-packages (7.1.11)\n",
      "Requirement already satisfied: urllib3 in /usr/lib/python3/dist-packages (from minio) (1.25.8)\n",
      "Requirement already satisfied: certifi in /usr/lib/python3/dist-packages (from minio) (2019.11.28)\n",
      "Requirement already satisfied: pandas in /home/ubuntu/.local/lib/python3.8/site-packages (1.4.3)\n",
      "Requirement already satisfied: pytz>=2020.1 in /home/ubuntu/.local/lib/python3.8/site-packages (from pandas) (2022.2.1)\n",
      "Requirement already satisfied: python-dateutil>=2.8.1 in /usr/local/lib/python3.8/dist-packages (from pandas) (2.8.2)\n",
      "Requirement already satisfied: numpy>=1.19.2; platform_machine == \"aarch64\" and python_version < \"3.10\" in /home/ubuntu/.local/lib/python3.8/site-packages (from pandas) (1.23.2)\n",
      "Requirement already satisfied: six>=1.5 in /usr/lib/python3/dist-packages (from python-dateutil>=2.8.1->pandas) (1.14.0)\n",
      "Reading package lists... Done\n",
      "Building dependency tree       \n",
      "Reading state information... Done\n",
      "mosquitto-clients is already the newest version (1.6.9-1).\n",
      "0 upgraded, 0 newly installed, 0 to remove and 176 not upgraded.\n"
     ]
    }
   ],
   "source": [
    "!pip3 install minio\n",
    "!pip3 install pandas\n",
    "!sudo apt-get install -y mosquitto-clients"
   ]
  },
  {
   "cell_type": "code",
   "execution_count": 2,
   "id": "74a84da0",
   "metadata": {},
   "outputs": [],
   "source": [
    "import sys\n",
    "import  datetime\n",
    "import os\n",
    "from minio import Minio\n",
    "import csv\n",
    "import json\n",
    "import pandas as pd\n",
    "import time\n",
    "import subprocess\n",
    "from subprocess import Popen, PIPE\n",
    "import requests\n",
    "from IPython.display import display"
   ]
  },
  {
   "cell_type": "code",
   "execution_count": 3,
   "id": "65eaf388",
   "metadata": {},
   "outputs": [],
   "source": [
    "#df_metrics = pd.DataFrame(columns=['Workload_size','Workload TPT','Average Workload TPT','Average FET','Average CT'])"
   ]
  },
  {
   "cell_type": "code",
   "execution_count": 4,
   "id": "7e0b3c52",
   "metadata": {},
   "outputs": [],
   "source": [
    "scenario=\"WITHOUT_CONF\"\n",
    "user=3\n",
    "minio_host=\"172.17.141.197:9001\"\n",
    "bucket_name=\"aeneas-output\"\n",
    "PROMETHEUS = 'http://172.17.141.197:9096/'\n"
   ]
  },
  {
   "cell_type": "code",
   "execution_count": 5,
   "id": "3b42ec31",
   "metadata": {},
   "outputs": [],
   "source": [
    "cmd = \"./mqtt_client.sh \"+str(user)\n",
    "with Popen(cmd, stdout=PIPE, stderr=None, shell=True) as process:\n",
    "    output1 = process.communicate()[0].decode(\"utf-8\")\n",
    "time.sleep(100)"
   ]
  },
  {
   "cell_type": "code",
   "execution_count": 6,
   "id": "26baf96a",
   "metadata": {},
   "outputs": [
    {
     "name": "stdout",
     "output_type": "stream",
     "text": [
      "   user                   intime\n",
      "0     1  2022-08-31 11:46:25.890\n",
      "1     2  2022-08-31 11:46:25.896\n",
      "2     3  2022-08-31 11:46:25.908\n"
     ]
    }
   ],
   "source": [
    "df= pd.read_csv('mqtt.csv')\n",
    "print(df)"
   ]
  },
  {
   "cell_type": "code",
   "execution_count": 7,
   "id": "5edcf7af",
   "metadata": {},
   "outputs": [],
   "source": [
    "#Minio Client\n",
    "client = Minio(minio_host, access_key = \"minio\", secret_key =\"minio123\",secure=False)\n",
    "# List objects from the bicket and notedown time  stamp  when they stored\n",
    "objects = client.list_objects(bucket_name,recursive=True)\n",
    "outtime = []\n",
    "for obj in objects:\n",
    "    outtime.append(obj.last_modified)\n",
    "    client.remove_object(bucket_name, obj.object_name)"
   ]
  },
  {
   "cell_type": "code",
   "execution_count": 8,
   "id": "7315e1e9",
   "metadata": {},
   "outputs": [
    {
     "data": {
      "text/html": [
       "<div>\n",
       "<style scoped>\n",
       "    .dataframe tbody tr th:only-of-type {\n",
       "        vertical-align: middle;\n",
       "    }\n",
       "\n",
       "    .dataframe tbody tr th {\n",
       "        vertical-align: top;\n",
       "    }\n",
       "\n",
       "    .dataframe thead th {\n",
       "        text-align: right;\n",
       "    }\n",
       "</style>\n",
       "<table border=\"1\" class=\"dataframe\">\n",
       "  <thead>\n",
       "    <tr style=\"text-align: right;\">\n",
       "      <th></th>\n",
       "      <th>user</th>\n",
       "      <th>intime</th>\n",
       "      <th>outtime</th>\n",
       "    </tr>\n",
       "  </thead>\n",
       "  <tbody>\n",
       "    <tr>\n",
       "      <th>2</th>\n",
       "      <td>3</td>\n",
       "      <td>2022-08-31 11:46:25.908</td>\n",
       "      <td>2022-08-31 11:46:32.659</td>\n",
       "    </tr>\n",
       "    <tr>\n",
       "      <th>1</th>\n",
       "      <td>2</td>\n",
       "      <td>2022-08-31 11:46:25.896</td>\n",
       "      <td>2022-08-31 11:46:33.040</td>\n",
       "    </tr>\n",
       "    <tr>\n",
       "      <th>0</th>\n",
       "      <td>1</td>\n",
       "      <td>2022-08-31 11:46:25.890</td>\n",
       "      <td>2022-08-31 11:46:33.092</td>\n",
       "    </tr>\n",
       "  </tbody>\n",
       "</table>\n",
       "</div>"
      ],
      "text/plain": [
       "   user                  intime                 outtime\n",
       "2     3 2022-08-31 11:46:25.908 2022-08-31 11:46:32.659\n",
       "1     2 2022-08-31 11:46:25.896 2022-08-31 11:46:33.040\n",
       "0     1 2022-08-31 11:46:25.890 2022-08-31 11:46:33.092"
      ]
     },
     "metadata": {},
     "output_type": "display_data"
    }
   ],
   "source": [
    "df['outtime']= outtime\n",
    "df['outtime']= pd.to_datetime(df['outtime']).dt.tz_convert(None)\n",
    "df['intime']= pd.to_datetime(df['intime'])\n",
    "df =df.sort_values(by=\"outtime\")\n",
    "display(df)"
   ]
  },
  {
   "cell_type": "code",
   "execution_count": 9,
   "id": "10f383a2",
   "metadata": {},
   "outputs": [],
   "source": [
    "def get_function_execution_time(cmd):\n",
    "    with Popen(cmd, stdout=PIPE, stderr=None, shell=True) as process:\n",
    "        return (process.communicate()[0].decode(\"utf-8\"))    \n"
   ]
  },
  {
   "cell_type": "code",
   "execution_count": 10,
   "id": "58e9c028",
   "metadata": {},
   "outputs": [],
   "source": [
    "#cmd1 = \"sudo kubectl logs gateway-7b8d9dbb5b-rhnwl  -n openfaas -c gateway | grep getobject | cut -c 71-77 | tail -\"\n",
    "cmd1=\"ssh ubuntu@172.17.141.197 \"+\"sudo kubectl logs gateway-7b8d9dbb5b-ggwl6  -n openfaas -c gateway  | grep scaling-aeneas-mqtt | cut -c 93-97 | tail -\"+str(len(outtime))\n",
    "cmd2=\"ssh ubuntu@172.17.141.197 \"+\"sudo kubectl logs gateway-7b8d9dbb5b-ggwl6  -n openfaas -c gateway  | grep scaling-aeneas-tocloud | cut -c 96-101 | tail -\"+str(len(outtime))\n",
    "df['aeneas']=(get_function_execution_time(cmd1)).split(\"\\n\")[:-1]\n",
    "df['tocloud']=(get_function_execution_time(cmd2)).split(\"\\n\")[:-1]\n"
   ]
  },
  {
   "cell_type": "code",
   "execution_count": 11,
   "id": "0b305551",
   "metadata": {},
   "outputs": [
    {
     "data": {
      "text/html": [
       "<div>\n",
       "<style scoped>\n",
       "    .dataframe tbody tr th:only-of-type {\n",
       "        vertical-align: middle;\n",
       "    }\n",
       "\n",
       "    .dataframe tbody tr th {\n",
       "        vertical-align: top;\n",
       "    }\n",
       "\n",
       "    .dataframe thead th {\n",
       "        text-align: right;\n",
       "    }\n",
       "</style>\n",
       "<table border=\"1\" class=\"dataframe\">\n",
       "  <thead>\n",
       "    <tr style=\"text-align: right;\">\n",
       "      <th></th>\n",
       "      <th>user</th>\n",
       "      <th>intime</th>\n",
       "      <th>outtime</th>\n",
       "      <th>aeneas</th>\n",
       "      <th>tocloud</th>\n",
       "      <th>TPT</th>\n",
       "      <th>FET</th>\n",
       "      <th>CT</th>\n",
       "    </tr>\n",
       "  </thead>\n",
       "  <tbody>\n",
       "    <tr>\n",
       "      <th>2</th>\n",
       "      <td>3</td>\n",
       "      <td>2022-08-31 11:46:25.908</td>\n",
       "      <td>2022-08-31 11:46:32.659</td>\n",
       "      <td>5.22</td>\n",
       "      <td>0.1574</td>\n",
       "      <td>6</td>\n",
       "      <td>5.3774</td>\n",
       "      <td>0.6226</td>\n",
       "    </tr>\n",
       "    <tr>\n",
       "      <th>1</th>\n",
       "      <td>2</td>\n",
       "      <td>2022-08-31 11:46:25.896</td>\n",
       "      <td>2022-08-31 11:46:33.040</td>\n",
       "      <td>5.19</td>\n",
       "      <td>0.0459</td>\n",
       "      <td>7</td>\n",
       "      <td>5.2359</td>\n",
       "      <td>1.7641</td>\n",
       "    </tr>\n",
       "    <tr>\n",
       "      <th>0</th>\n",
       "      <td>1</td>\n",
       "      <td>2022-08-31 11:46:25.890</td>\n",
       "      <td>2022-08-31 11:46:33.092</td>\n",
       "      <td>5.39</td>\n",
       "      <td>0.0451</td>\n",
       "      <td>7</td>\n",
       "      <td>5.4351</td>\n",
       "      <td>1.5649</td>\n",
       "    </tr>\n",
       "  </tbody>\n",
       "</table>\n",
       "</div>"
      ],
      "text/plain": [
       "   user                  intime                 outtime aeneas tocloud  TPT  \\\n",
       "2     3 2022-08-31 11:46:25.908 2022-08-31 11:46:32.659   5.22  0.1574    6   \n",
       "1     2 2022-08-31 11:46:25.896 2022-08-31 11:46:33.040   5.19  0.0459    7   \n",
       "0     1 2022-08-31 11:46:25.890 2022-08-31 11:46:33.092   5.39  0.0451    7   \n",
       "\n",
       "      FET      CT  \n",
       "2  5.3774  0.6226  \n",
       "1  5.2359  1.7641  \n",
       "0  5.4351  1.5649  "
      ]
     },
     "metadata": {},
     "output_type": "display_data"
    }
   ],
   "source": [
    "#TPT: Total Processing Time\n",
    "#FET: Function Execution Time\n",
    "#CT: Communication Time\n",
    "df['TPT']=(df['outtime']-df['intime']).dt.seconds\n",
    "df['FET'] = (df['aeneas']).astype(float) + (df['tocloud']).astype(float)\n",
    "df['CT']= (df['TPT']).astype(float) - df['FET']\n",
    "df =df.sort_values(by=\"outtime\")\n",
    "display(df)\n",
    "df.to_csv(str(user)+\"_\"+scenario+\".csv\")"
   ]
  },
  {
   "cell_type": "code",
   "execution_count": 12,
   "id": "7bf30658",
   "metadata": {
    "scrolled": true
   },
   "outputs": [
    {
     "name": "stdout",
     "output_type": "stream",
     "text": [
      "{'workload_type': '3_WITHOUT_CONF', 'Workload_size': 3, 'Workload TPT': 20, 'Average Workload TPT': 6.666666666666667, 'Average FET': 5.3494666666666655, 'Average CT': 1.3172000000000004}\n"
     ]
    }
   ],
   "source": [
    "metrics = {'workload_type':str(user)+\"_\"+scenario,'Workload_size':user,'Workload TPT':df['TPT'].sum(),'Average Workload TPT':df['TPT'].mean(),'Average FET':df['FET'].mean(),'Average CT':df['CT'].mean()}\n",
    "print(metrics)"
   ]
  },
  {
   "cell_type": "code",
   "execution_count": 13,
   "id": "b57aa799",
   "metadata": {},
   "outputs": [],
   "source": [
    "pre_url = PROMETHEUS + '/api/v1/query?query='\n",
    "timestamp= pd.to_datetime(df['outtime'].iloc[-1], format='%Y-%m-%d %H:%M:%S')\n",
    "time = (time.mktime(timestamp.timetuple()))\n",
    "interval= int(df['TPT'].sum()) if int(df['TPT'].sum()) > 60  else 60\n"
   ]
  },
  {
   "cell_type": "code",
   "execution_count": 14,
   "id": "af766581",
   "metadata": {},
   "outputs": [],
   "source": [
    "def getdataprometheus(url):\n",
    "    headers= {\"Accept\": \"application/json\"}\n",
    "    res = json.loads(requests.post(url=url, headers=headers).content.decode('utf8', 'ignore'))\n",
    "    data=res.get('data').get('result')[0].get('value')[1]\n",
    "    return data"
   ]
  },
  {
   "cell_type": "code",
   "execution_count": 19,
   "id": "094384ba",
   "metadata": {},
   "outputs": [
    {
     "ename": "SyntaxError",
     "evalue": "invalid syntax (2020921876.py, line 9)",
     "output_type": "error",
     "traceback": [
      "\u001b[0;36m  Input \u001b[0;32mIn [19]\u001b[0;36m\u001b[0m\n\u001b[0;31m    metrics['C_disk_read']=round(getdataprometheus(pre_url+expr_disk_read),3)\u001b[0m\n\u001b[0m    ^\u001b[0m\n\u001b[0;31mSyntaxError\u001b[0m\u001b[0;31m:\u001b[0m invalid syntax\n"
     ]
    }
   ],
   "source": [
    "expr_cpu = '100 - (avg (irate(node_cpu_seconds_total{mode=\"idle\"}['+str(interval)+'s])) * 100)&time='+str(time)\n",
    "expr_memory = '1 - sum(node_memory_MemAvailable_bytes) / sum(node_memory_MemTotal_bytes)&time='+str(time)\n",
    "expr_disk_read = 'sum(rate(node_disk_read_bytes_total['+str(interval)+'s]))&time='+str(time)\n",
    "expr_disk_write =  'sum(rate(node_disk_written_bytes_total['+str(interval)+'s]))&time='+str(time)\n",
    "expr_network_transmit= 'sum(rate(node_network_transmit_errs_total{device!~\"lo | veth. | docker.* | flannel.* | cali.* | cbr.\"}['+str(interval)+'s]))&time='+str(time)\n",
    "expr_network_recieve='sum(rate(node_network_receive_packets_total{device!~\"lo | veth. | docker.* | flannel.* | cali.* | cbr.\"}['+str(interval)+'s]))&time='+str(time)\n",
    "metrics['C_CPU'] = getdataprometheus(pre_url+expr_cpu)\n",
    "metrics['C_RAM'] = getdataprometheus(pre_url+expr_memory)\n",
    "metrics['C_disk_read']=getdataprometheus(pre_url+expr_disk_read)\n",
    "metrics['C_disk_write']=getdataprometheus(pre_url+expr_disk_write)\n",
    "metrics['C_network_recieve']=getdataprometheus(pre_url+expr_network_transmit)\n",
    "metrics['C_network_transmit']=getdataprometheus(pre_url+expr_network_recieve)"
   ]
  },
  {
   "cell_type": "code",
   "execution_count": 16,
   "id": "5ad0e49e",
   "metadata": {},
   "outputs": [
    {
     "name": "stderr",
     "output_type": "stream",
     "text": [
      "/tmp/ipykernel_4577/39894093.py:2: FutureWarning: The frame.append method is deprecated and will be removed from pandas in a future version. Use pandas.concat instead.\n",
      "  df_metrics = df_metrics.append(metrics, ignore_index=True)\n"
     ]
    }
   ],
   "source": [
    "df_metrics = pd.read_csv(\"metrics.csv\")\n",
    "df_metrics = df_metrics.append(metrics, ignore_index=True)\n"
   ]
  },
  {
   "cell_type": "code",
   "execution_count": 17,
   "id": "b1a78987",
   "metadata": {},
   "outputs": [],
   "source": [
    "df_metrics.to_csv(\"metrics.csv\")"
   ]
  },
  {
   "cell_type": "code",
   "execution_count": 18,
   "id": "da62db57",
   "metadata": {},
   "outputs": [
    {
     "data": {
      "text/html": [
       "<div>\n",
       "<style scoped>\n",
       "    .dataframe tbody tr th:only-of-type {\n",
       "        vertical-align: middle;\n",
       "    }\n",
       "\n",
       "    .dataframe tbody tr th {\n",
       "        vertical-align: top;\n",
       "    }\n",
       "\n",
       "    .dataframe thead th {\n",
       "        text-align: right;\n",
       "    }\n",
       "</style>\n",
       "<table border=\"1\" class=\"dataframe\">\n",
       "  <thead>\n",
       "    <tr style=\"text-align: right;\">\n",
       "      <th></th>\n",
       "      <th>Unnamed: 0</th>\n",
       "      <th>workload_type</th>\n",
       "      <th>workload_size</th>\n",
       "      <th>Workload_size</th>\n",
       "      <th>Workload TPT</th>\n",
       "      <th>Average Workload TPT</th>\n",
       "      <th>Average FET</th>\n",
       "      <th>Average CT</th>\n",
       "      <th>C_CPU</th>\n",
       "      <th>C_RAM</th>\n",
       "      <th>C_disk_read</th>\n",
       "      <th>C_disk_write</th>\n",
       "      <th>C_network_recieve</th>\n",
       "      <th>C_network_transmit</th>\n",
       "    </tr>\n",
       "  </thead>\n",
       "  <tbody>\n",
       "    <tr>\n",
       "      <th>0</th>\n",
       "      <td>0.0</td>\n",
       "      <td>2_WITHOUT_CONF</td>\n",
       "      <td>NaN</td>\n",
       "      <td>2</td>\n",
       "      <td>11</td>\n",
       "      <td>5.500000</td>\n",
       "      <td>4.743900</td>\n",
       "      <td>0.7561</td>\n",
       "      <td>9.725</td>\n",
       "      <td>0.350635</td>\n",
       "      <td>4642.133333</td>\n",
       "      <td>311296</td>\n",
       "      <td>0</td>\n",
       "      <td>635.266667</td>\n",
       "    </tr>\n",
       "    <tr>\n",
       "      <th>1</th>\n",
       "      <td>NaN</td>\n",
       "      <td>3_WITHOUT_CONF</td>\n",
       "      <td>NaN</td>\n",
       "      <td>3</td>\n",
       "      <td>20</td>\n",
       "      <td>6.666667</td>\n",
       "      <td>5.349467</td>\n",
       "      <td>1.3172</td>\n",
       "      <td>8.955555555552976</td>\n",
       "      <td>0.3544229974447589</td>\n",
       "      <td>0</td>\n",
       "      <td>140083.2</td>\n",
       "      <td>0</td>\n",
       "      <td>546.3666666666667</td>\n",
       "    </tr>\n",
       "  </tbody>\n",
       "</table>\n",
       "</div>"
      ],
      "text/plain": [
       "   Unnamed: 0   workload_type  workload_size  Workload_size  Workload TPT  \\\n",
       "0         0.0  2_WITHOUT_CONF            NaN              2            11   \n",
       "1         NaN  3_WITHOUT_CONF            NaN              3            20   \n",
       "\n",
       "   Average Workload TPT  Average FET  Average CT              C_CPU  \\\n",
       "0              5.500000     4.743900      0.7561              9.725   \n",
       "1              6.666667     5.349467      1.3172  8.955555555552976   \n",
       "\n",
       "                C_RAM  C_disk_read C_disk_write C_network_recieve  \\\n",
       "0            0.350635  4642.133333       311296                 0   \n",
       "1  0.3544229974447589            0     140083.2                 0   \n",
       "\n",
       "  C_network_transmit  \n",
       "0         635.266667  \n",
       "1  546.3666666666667  "
      ]
     },
     "metadata": {},
     "output_type": "display_data"
    }
   ],
   "source": [
    "display(df_metrics)"
   ]
  },
  {
   "cell_type": "code",
   "execution_count": null,
   "id": "7874d2bd",
   "metadata": {},
   "outputs": [],
   "source": []
  }
 ],
 "metadata": {
  "kernelspec": {
   "display_name": "Python 3 (ipykernel)",
   "language": "python",
   "name": "python3"
  },
  "language_info": {
   "codemirror_mode": {
    "name": "ipython",
    "version": 3
   },
   "file_extension": ".py",
   "mimetype": "text/x-python",
   "name": "python",
   "nbconvert_exporter": "python",
   "pygments_lexer": "ipython3",
   "version": "3.8.10"
  }
 },
 "nbformat": 4,
 "nbformat_minor": 5
}
