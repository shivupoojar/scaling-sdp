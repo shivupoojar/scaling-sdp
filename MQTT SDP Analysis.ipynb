{
 "cells": [
  {
   "cell_type": "code",
   "execution_count": 1,
   "id": "060a0155",
   "metadata": {},
   "outputs": [
    {
     "name": "stdout",
     "output_type": "stream",
     "text": [
      "Requirement already satisfied: minio in /home/ubuntu/.local/lib/python3.8/site-packages (7.1.11)\n",
      "Requirement already satisfied: certifi in /usr/lib/python3/dist-packages (from minio) (2019.11.28)\n",
      "Requirement already satisfied: urllib3 in /usr/lib/python3/dist-packages (from minio) (1.25.8)\n",
      "Requirement already satisfied: pandas in /home/ubuntu/.local/lib/python3.8/site-packages (1.4.3)\n",
      "Requirement already satisfied: python-dateutil>=2.8.1 in /usr/local/lib/python3.8/dist-packages (from pandas) (2.8.2)\n",
      "Requirement already satisfied: pytz>=2020.1 in /home/ubuntu/.local/lib/python3.8/site-packages (from pandas) (2022.2.1)\n",
      "Requirement already satisfied: numpy>=1.19.2; platform_machine == \"aarch64\" and python_version < \"3.10\" in /home/ubuntu/.local/lib/python3.8/site-packages (from pandas) (1.23.2)\n",
      "Requirement already satisfied: six>=1.5 in /usr/lib/python3/dist-packages (from python-dateutil>=2.8.1->pandas) (1.14.0)\n",
      "Reading package lists... Done\n",
      "Building dependency tree       \n",
      "Reading state information... Done\n",
      "mosquitto-clients is already the newest version (1.6.9-1).\n",
      "0 upgraded, 0 newly installed, 0 to remove and 74 not upgraded.\n"
     ]
    }
   ],
   "source": [
    "!pip3 install minio\n",
    "!pip3 install pandas\n",
    "!sudo apt-get install -y mosquitto-clients"
   ]
  },
  {
   "cell_type": "code",
   "execution_count": 2,
   "id": "74a84da0",
   "metadata": {},
   "outputs": [],
   "source": [
    "import sys\n",
    "import  datetime\n",
    "import os\n",
    "from minio import Minio\n",
    "import csv\n",
    "import json\n",
    "import pandas as pd\n",
    "import time\n",
    "import subprocess\n",
    "from subprocess import Popen, PIPE\n",
    "import requests\n",
    "from IPython.display import display"
   ]
  },
  {
   "cell_type": "markdown",
   "id": "53e499a3",
   "metadata": {},
   "source": [
    "#df_metrics = pd.DataFrame(columns=['Workload_size','Workload TPT','Average Workload TPT','Average FET','Average CT'])\n",
    "http://172.17.141.197:3000/goto/MU1mA-MVk?orgId=1"
   ]
  },
  {
   "cell_type": "code",
   "execution_count": 3,
   "id": "7e0b3c52",
   "metadata": {},
   "outputs": [],
   "source": [
    "#scenario=\"emqx_testing_namespace_scaling_without_max_inflight_replicas_2_10_3\"\n",
    "scenario = \"testing_resource_limits\"\n",
    "user=1\n",
    "iteration=1\n",
    "minio_host=\"172.17.141.197:9001\"\n",
    "bucket_name=\"aeneas-output\"\n",
    "PROMETHEUS = 'http://172.17.141.197:9096/'\n"
   ]
  },
  {
   "cell_type": "code",
   "execution_count": 4,
   "id": "84830a9a",
   "metadata": {},
   "outputs": [],
   "source": [
    "!rm input_data.csv\n",
    "!touch input_data.csv\n",
    "!echo \"intime\" > input_data.csv\n"
   ]
  },
  {
   "cell_type": "raw",
   "id": "a3cb7ec0",
   "metadata": {},
   "source": [
    "Reference code  for locust and MQTT: https://chowdera.com/2021/10/20211003075420298x.html"
   ]
  },
  {
   "cell_type": "code",
   "execution_count": 25,
   "id": "4e0913d8",
   "metadata": {},
   "outputs": [
    {
     "name": "stdout",
     "output_type": "stream",
     "text": [
      "[2022-09-15 08:05:30,070] ubuntu/WARNING/locust.main: System open file limit '4096' is below minimum setting '10000'.\n",
      "It's not high enough for load testing, and the OS didn't allow locust to increase it by itself.\n",
      "See https://github.com/locustio/locust/wiki/Installation#increasing-maximum-number-of-open-files-limit for more info.\n",
      "[2022-09-15 08:05:30,071] ubuntu/INFO/locust.main: Run time limit set to 3 seconds\n",
      "[2022-09-15 08:05:30,071] ubuntu/INFO/locust.main: Starting Locust 2.12.0\n",
      "Type     Name  # reqs      # fails |    Avg     Min     Max    Med |   req/s  failures/s\n",
      "--------||-------|-------------|-------|-------|-------|-------|--------|-----------\n",
      "--------||-------|-------------|-------|-------|-------|-------|--------|-----------\n",
      "         Aggregated       0     0(0.00%) |      0       0       0      0 |    0.00        0.00\n",
      "\n",
      "[2022-09-15 08:05:30,075] ubuntu/INFO/locust.runners: Ramping to 1 users at a rate of 1.00 per second\n",
      "[2022-09-15 08:05:30,076] ubuntu/INFO/locust.runners: All users spawned: {\"MQTTLocust\": 1} (1 total users)\n",
      "Disconnected result code None\n",
      "Disconnected result code None\n",
      "Type     Name  # reqs      # fails |    Avg     Min     Max    Med |   req/s  failures/s\n",
      "--------||-------|-------------|-------|-------|-------|-------|--------|-----------\n",
      "MQTT     b'Device - 1'       1     0(0.00%) |     10      10      10     10 |    0.00        0.00\n",
      "MQTT     connect       1     0(0.00%) |      0       0       0      0 |    0.00        0.00\n",
      "--------||-------|-------------|-------|-------|-------|-------|--------|-----------\n",
      "         Aggregated       2     0(0.00%) |      5       0      10      0 |    0.00        0.00\n",
      "\n",
      "[2022-09-15 08:05:32,358] ubuntu/INFO/locust.main: --run-time limit reached, shutting down\n",
      "[2022-09-15 08:05:32,360] ubuntu/INFO/locust.main: Shutting down (exit code 0)\n",
      "Type     Name  # reqs      # fails |    Avg     Min     Max    Med |   req/s  failures/s\n",
      "--------||-------|-------------|-------|-------|-------|-------|--------|-----------\n",
      "MQTT     b'Device - 1'       1     0(0.00%) |     10      10      10     10 |   29.30        0.00\n",
      "MQTT     connect       1     0(0.00%) |      0       0       0      0 |   29.30        0.00\n",
      "--------||-------|-------------|-------|-------|-------|-------|--------|-----------\n",
      "         Aggregated       2     0(0.00%) |      5       0      10      0 |   58.60        0.00\n",
      "\n",
      "Response time percentiles (approximated)\n",
      "Type     Name      50%    66%    75%    80%    90%    95%    98%    99%  99.9% 99.99%   100% # reqs\n",
      "--------||--------|------|------|------|------|------|------|------|------|------|------|------\n",
      "MQTT     b'Device - 1'       10     10     10     10     10     10     10     10     10     10     10      1\n",
      "MQTT     connect        0      0      0      0      0      0      0      0      0      0      0      1\n",
      "--------||--------|------|------|------|------|------|------|------|------|------|------|------\n",
      "         Aggregated       10     10     10     10     10     10     10     10     10     10     10      2\n",
      "\n"
     ]
    }
   ],
   "source": [
    "!locust --headless -f mqtt_locust.py --host='127.0.0.1' -t 3  --users 1 --spawn-rate 1"
   ]
  },
  {
   "cell_type": "code",
   "execution_count": 6,
   "id": "3b42ec31",
   "metadata": {},
   "outputs": [],
   "source": [
    "#cmd = \"./mqtt_client.sh \"+str(user)\n",
    "#with Popen(cmd, stdout=PIPE, stderr=None, shell=True) as process:\n",
    "#    output1 = process.communicate()[0].decode(\"utf-8\")\n",
    "time.sleep(4)"
   ]
  },
  {
   "cell_type": "code",
   "execution_count": 7,
   "id": "26baf96a",
   "metadata": {
    "scrolled": false
   },
   "outputs": [
    {
     "name": "stdout",
     "output_type": "stream",
     "text": [
      "                         intime\n",
      "0  '2022-09-15 08:00:35.032841'\n"
     ]
    }
   ],
   "source": [
    "\n",
    "df= pd.read_csv('input_data.csv')\n",
    "print(df)"
   ]
  },
  {
   "cell_type": "code",
   "execution_count": 8,
   "id": "5edcf7af",
   "metadata": {},
   "outputs": [],
   "source": [
    "#Minio Client\n",
    "client = Minio(minio_host, access_key = \"minio\", secret_key =\"minio123\",secure=False)\n",
    "# List objects from the bicket and notedown time  stamp  when they stored\n",
    "objects = client.list_objects(bucket_name,recursive=True)\n",
    "outtime = []\n",
    "for obj in objects:\n",
    "    outtime.append(obj.last_modified)#\n",
    "    client.remove_object(bucket_name, obj.object_name)\n"
   ]
  },
  {
   "cell_type": "code",
   "execution_count": 9,
   "id": "7315e1e9",
   "metadata": {
    "scrolled": true
   },
   "outputs": [
    {
     "data": {
      "text/html": [
       "<div>\n",
       "<style scoped>\n",
       "    .dataframe tbody tr th:only-of-type {\n",
       "        vertical-align: middle;\n",
       "    }\n",
       "\n",
       "    .dataframe tbody tr th {\n",
       "        vertical-align: top;\n",
       "    }\n",
       "\n",
       "    .dataframe thead th {\n",
       "        text-align: right;\n",
       "    }\n",
       "</style>\n",
       "<table border=\"1\" class=\"dataframe\">\n",
       "  <thead>\n",
       "    <tr style=\"text-align: right;\">\n",
       "      <th></th>\n",
       "      <th>intime</th>\n",
       "      <th>outtime</th>\n",
       "    </tr>\n",
       "  </thead>\n",
       "  <tbody>\n",
       "    <tr>\n",
       "      <th>0</th>\n",
       "      <td>2022-09-15 08:00:35.032841</td>\n",
       "      <td>2022-09-15 08:00:40.272</td>\n",
       "    </tr>\n",
       "  </tbody>\n",
       "</table>\n",
       "</div>"
      ],
      "text/plain": [
       "                      intime                 outtime\n",
       "0 2022-09-15 08:00:35.032841 2022-09-15 08:00:40.272"
      ]
     },
     "metadata": {},
     "output_type": "display_data"
    },
    {
     "name": "stdout",
     "output_type": "stream",
     "text": [
      "0 days 00:00:05.239159\n"
     ]
    }
   ],
   "source": [
    "df['outtime']= outtime\n",
    "df['outtime']= pd.to_datetime(df['outtime']).dt.tz_convert(None)\n",
    "df['intime']= pd.to_datetime(df['intime'])\n",
    "df =df.sort_values(by=\"outtime\")\n",
    "display(df)\n",
    "print(df['outtime'].iloc[-1]-df['intime'].iloc[0])"
   ]
  },
  {
   "cell_type": "code",
   "execution_count": 10,
   "id": "10f383a2",
   "metadata": {},
   "outputs": [],
   "source": [
    "def get_function_execution_time(cmd):\n",
    "    with Popen(cmd, stdout=PIPE, stderr=None, shell=True) as process:\n",
    "        return (process.communicate()[0].decode(\"utf-8\"))    \n"
   ]
  },
  {
   "cell_type": "code",
   "execution_count": 11,
   "id": "58e9c028",
   "metadata": {},
   "outputs": [],
   "source": [
    "#cmd1 = \"sudo kubectl logs gateway-7b8d9dbb5b-rhnwl  -n openfaas -c gateway | grep getobject | cut -c 71-77 | tail -\"\n",
    "cmd1=\"ssh ubuntu@172.17.141.197 \"+\"sudo kubectl logs gateway-7b8d9dbb5b-ggwl6  -n openfaas -c gateway  | grep /function/scaling-aeneas-mqtt | cut -c 93-97 | tail -\"+str(len(outtime))\n",
    "cmd2=\"ssh ubuntu@172.17.141.197 \"+\"sudo kubectl logs gateway-7b8d9dbb5b-ggwl6  -n openfaas -c gateway  | grep /function/scaling-aeneas-tocloud | cut -c 96-101 | tail -\"+str(len(outtime))\n",
    "df['aeneas']=(get_function_execution_time(cmd1)).split(\"\\n\")[:-1]\n",
    "df['tocloud']=(get_function_execution_time(cmd2)).split(\"\\n\")[:-1]\n"
   ]
  },
  {
   "cell_type": "code",
   "execution_count": 12,
   "id": "0b305551",
   "metadata": {
    "scrolled": true
   },
   "outputs": [
    {
     "data": {
      "text/html": [
       "<div>\n",
       "<style scoped>\n",
       "    .dataframe tbody tr th:only-of-type {\n",
       "        vertical-align: middle;\n",
       "    }\n",
       "\n",
       "    .dataframe tbody tr th {\n",
       "        vertical-align: top;\n",
       "    }\n",
       "\n",
       "    .dataframe thead th {\n",
       "        text-align: right;\n",
       "    }\n",
       "</style>\n",
       "<table border=\"1\" class=\"dataframe\">\n",
       "  <thead>\n",
       "    <tr style=\"text-align: right;\">\n",
       "      <th></th>\n",
       "      <th>intime</th>\n",
       "      <th>outtime</th>\n",
       "      <th>aeneas</th>\n",
       "      <th>tocloud</th>\n",
       "      <th>TPT</th>\n",
       "      <th>FET</th>\n",
       "      <th>Waiting time</th>\n",
       "    </tr>\n",
       "  </thead>\n",
       "  <tbody>\n",
       "    <tr>\n",
       "      <th>0</th>\n",
       "      <td>2022-09-15 08:00:35.032841</td>\n",
       "      <td>2022-09-15 08:00:40.272</td>\n",
       "      <td>4.62</td>\n",
       "      <td>0.0406</td>\n",
       "      <td>5</td>\n",
       "      <td>4.6606</td>\n",
       "      <td>0.3394</td>\n",
       "    </tr>\n",
       "  </tbody>\n",
       "</table>\n",
       "</div>"
      ],
      "text/plain": [
       "                      intime                 outtime aeneas tocloud  TPT  \\\n",
       "0 2022-09-15 08:00:35.032841 2022-09-15 08:00:40.272   4.62  0.0406    5   \n",
       "\n",
       "      FET  Waiting time  \n",
       "0  4.6606        0.3394  "
      ]
     },
     "metadata": {},
     "output_type": "display_data"
    }
   ],
   "source": [
    "#print(df['aeneas'])\n",
    "#print(df['tocloud'])\n",
    "#TPT: Total Processing Time\n",
    "#FET: Function Execution Time\n",
    "#CT: Communication Time\n",
    "df =df.sort_values(by=\"outtime\")\n",
    "df['TPT']=(df['outtime']-df['intime']).dt.seconds\n",
    "df['FET'] = (df['aeneas']).astype(float) + (df['tocloud']).astype(float)\n",
    "df['Waiting time']= (df['TPT']).astype(float) - df['FET']\n",
    "\n",
    "display(df)\n",
    "df.to_csv(\"data/\"+str(user)+\"_\"+str(iteration)+\"_\"+scenario+\".csv\")"
   ]
  },
  {
   "cell_type": "code",
   "execution_count": 13,
   "id": "7bf30658",
   "metadata": {
    "scrolled": true
   },
   "outputs": [],
   "source": [
    "user=df.shape[0]\n",
    "metrics = {'workload_type':str(user)+\"_\"+scenario,'workload_size':user,'Workload TPT':(df.loc[user-1, 'outtime'] - df.loc[0, 'intime']).total_seconds(),'Average Workload TPT':df['TPT'].mean(),'Average FET':df['FET'].mean(),'Average Waiting Time':df['Waiting time'].mean()}\n"
   ]
  },
  {
   "cell_type": "code",
   "execution_count": 14,
   "id": "b57aa799",
   "metadata": {},
   "outputs": [],
   "source": [
    "pre_url = PROMETHEUS + '/api/v1/query?query='\n",
    "timestamp= pd.to_datetime(df['outtime'].iloc[-1], format='%Y-%m-%d %H:%M:%S')\n",
    "time = (time.mktime(timestamp.timetuple()))\n",
    "#interval= int(df['TPT'].sum()) if int(df['TPT'].sum()) > 60  else 60\n"
   ]
  },
  {
   "cell_type": "code",
   "execution_count": 15,
   "id": "69bfb5c5",
   "metadata": {},
   "outputs": [],
   "source": [
    "\n",
    "interval = (df.loc[user-1, 'outtime'] - df.loc[0, 'intime']).total_seconds()\n",
    "interval= round(interval)"
   ]
  },
  {
   "cell_type": "code",
   "execution_count": 16,
   "id": "9ac91c17",
   "metadata": {},
   "outputs": [
    {
     "name": "stdout",
     "output_type": "stream",
     "text": [
      "60\n"
     ]
    }
   ],
   "source": [
    "interval= round((df.loc[user-1, 'outtime'] - df.loc[0, 'intime']).total_seconds()) if round((df.loc[user-1, 'outtime'] - df.loc[0, 'intime']).total_seconds()) > 60  else 60\n",
    "print(interval)"
   ]
  },
  {
   "cell_type": "code",
   "execution_count": 17,
   "id": "af766581",
   "metadata": {},
   "outputs": [],
   "source": [
    "def getdataprometheus(url):\n",
    "    headers= {\"Accept\": \"application/json\"}\n",
    "    res = json.loads(requests.post(url=url, headers=headers).content.decode('utf8', 'ignore'))\n",
    "    data=res.get('data').get('result')[0].get('value')[1]\n",
    "    return data"
   ]
  },
  {
   "cell_type": "code",
   "execution_count": 18,
   "id": "094384ba",
   "metadata": {},
   "outputs": [],
   "source": [
    "expr_cpu='sum(rate(container_cpu_usage_seconds_total{container_name!=\"POD\",namespace=~\"openfaas.*|default\"}[5m]))&time='+str(time)\n",
    "expr_memory='sum(container_memory_working_set_bytes{container_name!=\"POD\",namespace=~\"openfaas.*|default\"})&time='+str(time)\n",
    "expr_disk_read ='sum(rate(container_fs_reads_bytes_total{namespace=~\"openfaas.*|default\"}['+str(interval)+'s]))&time='+str(time)\n",
    "expr_disk_write='sum(rate(container_fs_writes_bytes_total{namespace=~\"openfaas.*|default\"}['+str(interval)+'s]))&time='+str(time)\n",
    "expr_network_transmit='sum(rate(container_network_transmit_bytes_total{namespace=~\"openfaas.*|default\"}['+str(interval)+'s]))&time='+str(time)\n",
    "expr_network_recieve='sum(rate(container_network_receive_bytes_total{namespace=~\"openfaas.*|default\"}['+str(interval)+'s]))&time='+str(time)\n",
    "#expr_cpu = '100 - (avg (irate(node_cpu_seconds_total{mode=\"idle\"}['+str(interval)+'s])) * 100)&time='+str(time)\n",
    "#expr_memory = '100 - ((sum(node_memory_MemAvailable_bytes) / sum(node_memory_MemTotal_bytes))*100)&time='+str(time)\n",
    "#expr_disk_read = 'sum(rate(node_disk_read_bytes_total['+str(interval)+'s]))&time='+str(time)\n",
    "#expr_disk_write =  'sum(rate(node_disk_written_bytes_total['+str(interval)+'s]))&time='+str(time)\n",
    "#expr_network_transmit= 'sum(rate(node_network_transmit_errs_total{device!~\"lo | veth. | docker.* | flannel.* | cali.* | cbr.\"}['+str(interval)+'s]))&time='+str(time)\n",
    "#expr_network_recieve='sum(rate(node_network_receive_packets_total{device!~\"lo | veth. | docker.* | flannel.* | cali.* | cbr.\"}['+str(interval)+'s]))&time='+str(time)\n",
    "metrics['C_CPU'] = getdataprometheus(pre_url+expr_cpu)\n",
    "metrics['C_RAM'] = getdataprometheus(pre_url+expr_memory)\n",
    "metrics['C_disk_read']=getdataprometheus(pre_url+expr_disk_read)\n",
    "metrics['C_disk_write']=getdataprometheus(pre_url+expr_disk_write)\n",
    "metrics['C_network_recieve']=getdataprometheus(pre_url+expr_network_transmit)\n",
    "metrics['C_network_transmit']=getdataprometheus(pre_url+expr_network_recieve)"
   ]
  },
  {
   "cell_type": "code",
   "execution_count": 19,
   "id": "7874d2bd",
   "metadata": {},
   "outputs": [
    {
     "name": "stdout",
     "output_type": "stream",
     "text": [
      "sum(rate(container_cpu_usage_seconds_total{container_name!=\"POD\",namespace=\"openfaas-fn\",pod=~\"scaling-aeneas-mqtt.*\"}[60s]))&time=1663228840.0\n"
     ]
    }
   ],
   "source": [
    "#Pod Stats\n",
    "expr_pod_cpu_aeneas_function = 'sum(rate(container_cpu_usage_seconds_total{container_name!=\"POD\",namespace=\"openfaas-fn\",pod=~\"scaling-aeneas-mqtt.*\"}['+str(interval)+'s]))&time='+str(time)\n",
    "expr_pod_cpu_mosquitto_broker = 'sum(rate(container_cpu_usage_seconds_total{container_name!=\"POD\",namespace=\"openfaas\",pod=~\"emqx.*\"}['+str(interval)+'s]))&time='+str(time)\n",
    "expr_pod_cpu_mosquitto_connector_aeneas = 'sum(rate(container_cpu_usage_seconds_total{container_name!=\"POD\",namespace=\"openfaas\",pod=~\"aeneas.*\"}['+str(interval)+'s]))&time='+str(time)\n",
    "expr_pod_cpu_mosquitto_connector_tocloud = 'sum(rate(container_cpu_usage_seconds_total{container_name!=\"POD\",namespace=\"openfaas\",pod=~\"tocloud.*\"}['+str(interval)+'s]))&time='+str(time)\n",
    "expr_pod_cpu_functions_all = 'sum(rate(container_cpu_usage_seconds_total{container_name!=\"POD\",namespace=\"openfaas-fn\"}['+str(interval)+'s]))&time='+str(time)\n",
    "\n",
    "print(expr_pod_cpu_aeneas_function)\n",
    "metrics['pod_cpu_aeneas_function']=getdataprometheus(pre_url+expr_pod_cpu_aeneas_function)\n",
    "metrics['pod_cpu_mosquitto_broker']=getdataprometheus(pre_url+expr_pod_cpu_mosquitto_broker)\n",
    "metrics['pod_cpu_mosquitto_connector_aeneas']=getdataprometheus(pre_url+expr_pod_cpu_mosquitto_connector_aeneas)\n",
    "metrics['pod_cpu_mosquitto_connector_tocloud']=getdataprometheus(pre_url+expr_pod_cpu_mosquitto_connector_tocloud)\n",
    "metrics['pod_cpu_functions_all']=getdataprometheus(pre_url+expr_pod_cpu_functions_all)\n",
    "\n"
   ]
  },
  {
   "cell_type": "code",
   "execution_count": 20,
   "id": "7edeb35d",
   "metadata": {},
   "outputs": [
    {
     "name": "stderr",
     "output_type": "stream",
     "text": [
      "/tmp/ipykernel_164525/1187223197.py:2: FutureWarning: The frame.append method is deprecated and will be removed from pandas in a future version. Use pandas.concat instead.\n",
      "  df_metrics = df_metrics.append(metrics, ignore_index=True)\n"
     ]
    }
   ],
   "source": [
    "df_metrics = pd.read_csv(\"data/locus_emqx_data.csv\")\n",
    "df_metrics = df_metrics.append(metrics, ignore_index=True)\n"
   ]
  },
  {
   "cell_type": "code",
   "execution_count": 21,
   "id": "1adadec1",
   "metadata": {},
   "outputs": [
    {
     "data": {
      "text/html": [
       "<div>\n",
       "<style scoped>\n",
       "    .dataframe tbody tr th:only-of-type {\n",
       "        vertical-align: middle;\n",
       "    }\n",
       "\n",
       "    .dataframe tbody tr th {\n",
       "        vertical-align: top;\n",
       "    }\n",
       "\n",
       "    .dataframe thead th {\n",
       "        text-align: right;\n",
       "    }\n",
       "</style>\n",
       "<table border=\"1\" class=\"dataframe\">\n",
       "  <thead>\n",
       "    <tr style=\"text-align: right;\">\n",
       "      <th></th>\n",
       "      <th>workload_type</th>\n",
       "      <th>workload_size</th>\n",
       "      <th>Workload TPT</th>\n",
       "      <th>Average Workload TPT</th>\n",
       "      <th>Average FET</th>\n",
       "      <th>Average Waiting Time</th>\n",
       "      <th>C_CPU</th>\n",
       "      <th>C_RAM</th>\n",
       "      <th>C_disk_read</th>\n",
       "      <th>C_disk_write</th>\n",
       "      <th>C_network_recieve</th>\n",
       "      <th>C_network_transmit</th>\n",
       "      <th>pod_cpu_aeneas_function</th>\n",
       "      <th>pod_cpu_functions_all</th>\n",
       "      <th>pod_cpu_mosquitto_broker</th>\n",
       "      <th>pod_cpu_mosquitto_connector_aeneas</th>\n",
       "      <th>pod_cpu_mosquitto_connector_tocloud</th>\n",
       "    </tr>\n",
       "  </thead>\n",
       "  <tbody>\n",
       "    <tr>\n",
       "      <th>0</th>\n",
       "      <td>13_emqx_testing_namespace_scaling_without_max_...</td>\n",
       "      <td>13</td>\n",
       "      <td>65.749086</td>\n",
       "      <td>10.000000</td>\n",
       "      <td>4.774877</td>\n",
       "      <td>5.225123</td>\n",
       "      <td>0.963413</td>\n",
       "      <td>3846922240</td>\n",
       "      <td>2621.413824</td>\n",
       "      <td>51003.281885</td>\n",
       "      <td>572740.216331</td>\n",
       "      <td>641379.317591</td>\n",
       "      <td>2.174775</td>\n",
       "      <td>2.203279</td>\n",
       "      <td>0.040815</td>\n",
       "      <td>0.435942</td>\n",
       "      <td>0.033479</td>\n",
       "    </tr>\n",
       "    <tr>\n",
       "      <th>1</th>\n",
       "      <td>25_emqx_testing_namespace_scaling_without_max_...</td>\n",
       "      <td>25</td>\n",
       "      <td>127.036330</td>\n",
       "      <td>8.360000</td>\n",
       "      <td>4.763956</td>\n",
       "      <td>3.596044</td>\n",
       "      <td>1.463696</td>\n",
       "      <td>3884310528</td>\n",
       "      <td>4394.053992</td>\n",
       "      <td>66074.603123</td>\n",
       "      <td>570035.532676</td>\n",
       "      <td>643071.747345</td>\n",
       "      <td>1.806399</td>\n",
       "      <td>1.834895</td>\n",
       "      <td>0.036246</td>\n",
       "      <td>0.52893</td>\n",
       "      <td>0.049043</td>\n",
       "    </tr>\n",
       "    <tr>\n",
       "      <th>2</th>\n",
       "      <td>59_emqx_testing_namespace_scaling_without_max_...</td>\n",
       "      <td>59</td>\n",
       "      <td>304.790162</td>\n",
       "      <td>8.016949</td>\n",
       "      <td>4.752527</td>\n",
       "      <td>3.264422</td>\n",
       "      <td>2.907422</td>\n",
       "      <td>3978952704</td>\n",
       "      <td>4110.968799</td>\n",
       "      <td>94579.257989</td>\n",
       "      <td>583303.895307</td>\n",
       "      <td>666981.816433</td>\n",
       "      <td>1.809514</td>\n",
       "      <td>1.839391</td>\n",
       "      <td>0.051075</td>\n",
       "      <td>0.436225</td>\n",
       "      <td>0.047914</td>\n",
       "    </tr>\n",
       "    <tr>\n",
       "      <th>3</th>\n",
       "      <td>1_testing_resource_limits</td>\n",
       "      <td>1</td>\n",
       "      <td>5.239159</td>\n",
       "      <td>5.000000</td>\n",
       "      <td>4.660600</td>\n",
       "      <td>0.339400</td>\n",
       "      <td>0.5346384565068855</td>\n",
       "      <td>3674284032</td>\n",
       "      <td>2226.6516870220707</td>\n",
       "      <td>75847.98659410665</td>\n",
       "      <td>26381.693216400137</td>\n",
       "      <td>27682.98179105505</td>\n",
       "      <td>0.004145908457648263</td>\n",
       "      <td>0.009657569575452702</td>\n",
       "      <td>0.03630116215920318</td>\n",
       "      <td>0.06549864136396143</td>\n",
       "      <td>0.03427493673359128</td>\n",
       "    </tr>\n",
       "  </tbody>\n",
       "</table>\n",
       "</div>"
      ],
      "text/plain": [
       "                                       workload_type  workload_size  \\\n",
       "0  13_emqx_testing_namespace_scaling_without_max_...             13   \n",
       "1  25_emqx_testing_namespace_scaling_without_max_...             25   \n",
       "2  59_emqx_testing_namespace_scaling_without_max_...             59   \n",
       "3                          1_testing_resource_limits              1   \n",
       "\n",
       "   Workload TPT  Average Workload TPT  Average FET  Average Waiting Time  \\\n",
       "0     65.749086             10.000000     4.774877              5.225123   \n",
       "1    127.036330              8.360000     4.763956              3.596044   \n",
       "2    304.790162              8.016949     4.752527              3.264422   \n",
       "3      5.239159              5.000000     4.660600              0.339400   \n",
       "\n",
       "                C_CPU       C_RAM         C_disk_read       C_disk_write  \\\n",
       "0            0.963413  3846922240         2621.413824       51003.281885   \n",
       "1            1.463696  3884310528         4394.053992       66074.603123   \n",
       "2            2.907422  3978952704         4110.968799       94579.257989   \n",
       "3  0.5346384565068855  3674284032  2226.6516870220707  75847.98659410665   \n",
       "\n",
       "    C_network_recieve C_network_transmit pod_cpu_aeneas_function  \\\n",
       "0       572740.216331      641379.317591                2.174775   \n",
       "1       570035.532676      643071.747345                1.806399   \n",
       "2       583303.895307      666981.816433                1.809514   \n",
       "3  26381.693216400137  27682.98179105505    0.004145908457648263   \n",
       "\n",
       "  pod_cpu_functions_all pod_cpu_mosquitto_broker  \\\n",
       "0              2.203279                 0.040815   \n",
       "1              1.834895                 0.036246   \n",
       "2              1.839391                 0.051075   \n",
       "3  0.009657569575452702      0.03630116215920318   \n",
       "\n",
       "  pod_cpu_mosquitto_connector_aeneas pod_cpu_mosquitto_connector_tocloud  \n",
       "0                           0.435942                            0.033479  \n",
       "1                            0.52893                            0.049043  \n",
       "2                           0.436225                            0.047914  \n",
       "3                0.06549864136396143                 0.03427493673359128  "
      ]
     },
     "metadata": {},
     "output_type": "display_data"
    }
   ],
   "source": [
    "df_metrics.to_csv(\"data/locus_emqx_data.csv\",index=False)\n",
    "#df_metrics=df_metrics.sort_values(by=\"workload_size\")\n",
    "display(df_metrics)"
   ]
  },
  {
   "cell_type": "code",
   "execution_count": 22,
   "id": "b314722d",
   "metadata": {},
   "outputs": [],
   "source": [
    "pod_metrics = {}\n",
    "expr_pod_cpu_aeneas = 'sum(rate(container_cpu_usage_seconds_total{container_name!=\"POD\",namespace=\"openfaas-fn\",pod=~\"scaling-aeneas-mqtt.*\"}['+str(interval)+'s]))&time='+str(time)\n",
    "pod_metrics['cpu_aeneas'] = getdataprometheus(pre_url+expr_pod_cpu_aeneas)\n",
    "expr_pod_memory_aeneas = 'sum(rate(container_memory_working_set_bytes{container_name!=\"POD\",namespace=\"openfaas-fn\",pod=~\"scaling-aeneas-mqtt.*\"}['+str(interval)+'s]))&time='+str(time)\n",
    "pod_metrics['memory_aeneas'] = getdataprometheus(pre_url+expr_pod_memory_aeneas)\n",
    "expr_pod_cpu_tocloud = 'sum(rate(container_cpu_usage_seconds_total{container_name!=\"POD\",namespace=\"openfaas-fn\",pod=~\"scaling-aeneas-tocloud.*\"}['+str(interval)+'s]))&time='+str(time)\n",
    "pod_metrics['cpu_tocloud'] = getdataprometheus(pre_url+expr_pod_cpu_aeneas)\n",
    "expr_pod_memory_tocloud = 'sum(rate(container_memory_working_set_bytes{container_name!=\"POD\",namespace=\"openfaas-fn\",pod=~\"scaling-aeneas-tolcoud.*\"}['+str(interval)+'s]))&time='+str(time)\n",
    "pod_metrics['memory_tocloud'] = getdataprometheus(pre_url+expr_pod_memory_aeneas)\n"
   ]
  },
  {
   "cell_type": "code",
   "execution_count": 24,
   "id": "79fdc485",
   "metadata": {},
   "outputs": [
    {
     "name": "stdout",
     "output_type": "stream",
     "text": [
      "                                   0\n",
      "cpu_aeneas      0.004145908457648263\n",
      "memory_aeneas                      0\n",
      "cpu_tocloud     0.004145908457648263\n",
      "memory_tocloud                     0\n"
     ]
    }
   ],
   "source": [
    "#pod_metrics = json.loads(pod_metrics)\n",
    "df2 = pd.DataFrame.from_dict(pod_metrics, orient=\"index\")\n",
    "print(df2)"
   ]
  },
  {
   "cell_type": "code",
   "execution_count": null,
   "id": "b1113345",
   "metadata": {},
   "outputs": [],
   "source": []
  }
 ],
 "metadata": {
  "kernelspec": {
   "display_name": "Python 3 (ipykernel)",
   "language": "python",
   "name": "python3"
  },
  "language_info": {
   "codemirror_mode": {
    "name": "ipython",
    "version": 3
   },
   "file_extension": ".py",
   "mimetype": "text/x-python",
   "name": "python",
   "nbconvert_exporter": "python",
   "pygments_lexer": "ipython3",
   "version": "3.8.10"
  }
 },
 "nbformat": 4,
 "nbformat_minor": 5
}
