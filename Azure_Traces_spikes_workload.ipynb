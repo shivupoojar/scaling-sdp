{
  "cells": [
    {
      "cell_type": "markdown",
      "metadata": {
        "id": "view-in-github",
        "colab_type": "text"
      },
      "source": [
        "<a href=\"https://colab.research.google.com/github/shivupoojar/scaling-sdp/blob/main/Azure_Traces_spikes_workload.ipynb\" target=\"_parent\"><img src=\"https://colab.research.google.com/assets/colab-badge.svg\" alt=\"Open In Colab\"/></a>"
      ]
    },
    {
      "cell_type": "code",
      "execution_count": 1,
      "metadata": {
        "colab": {
          "base_uri": "https://localhost:8080/"
        },
        "id": "aKX1PpCA1e_-",
        "outputId": "4030ac1a-94d1-48d2-d13f-66362af331ed"
      },
      "outputs": [
        {
          "output_type": "stream",
          "name": "stdout",
          "text": [
            "/content\n",
            "Mounted at /content/drive\n",
            "/content/drive/My Drive/Colab Notebooks/azurefunctions-dataset2019\n"
          ]
        }
      ],
      "source": [
        "!pwd\n",
        "from google.colab import drive\n",
        "drive.mount('/content/drive')\n",
        "%cd /content/drive/My Drive/Colab Notebooks/azurefunctions-dataset2019\n"
      ]
    },
    {
      "cell_type": "code",
      "source": [
        "!ls"
      ],
      "metadata": {
        "colab": {
          "base_uri": "https://localhost:8080/"
        },
        "id": "Y3ud-T2a23rN",
        "outputId": "45612887-da52-4253-fa3c-d8f92c398278"
      },
      "execution_count": 55,
      "outputs": [
        {
          "output_type": "stream",
          "name": "stdout",
          "text": [
            "app_memory_percentiles.anon.d01.csv\n",
            "app_memory_percentiles.anon.d02.csv\n",
            "app_memory_percentiles.anon.d03.csv\n",
            "app_memory_percentiles.anon.d04.csv\n",
            "app_memory_percentiles.anon.d05.csv\n",
            "app_memory_percentiles.anon.d06.csv\n",
            "app_memory_percentiles.anon.d07.csv\n",
            "app_memory_percentiles.anon.d08.csv\n",
            "app_memory_percentiles.anon.d09.csv\n",
            "app_memory_percentiles.anon.d10.csv\n",
            "app_memory_percentiles.anon.d11.csv\n",
            "app_memory_percentiles.anon.d12.csv\n",
            "fluctuating1.csv\n",
            "fluctuating2.csv\n",
            "fluctuating.csv\n",
            "function_durations_percentiles.anon.d01.csv\n",
            "function_durations_percentiles.anon.d02.csv\n",
            "function_durations_percentiles.anon.d03.csv\n",
            "function_durations_percentiles.anon.d04.csv\n",
            "function_durations_percentiles.anon.d05.csv\n",
            "function_durations_percentiles.anon.d06.csv\n",
            "function_durations_percentiles.anon.d07.csv\n",
            "function_durations_percentiles.anon.d08.csv\n",
            "function_durations_percentiles.anon.d09.csv\n",
            "function_durations_percentiles.anon.d10.csv\n",
            "function_durations_percentiles.anon.d11.csv\n",
            "function_durations_percentiles.anon.d12.csv\n",
            "function_durations_percentiles.anon.d13.csv\n",
            "function_durations_percentiles.anon.d14.csv\n",
            "invocations_per_function_md.anon.d01.csv\n",
            "invocations_per_function_md.anon.d02.csv\n",
            "invocations_per_function_md.anon.d03.csv\n",
            "invocations_per_function_md.anon.d04.csv\n",
            "invocations_per_function_md.anon.d05.csv\n",
            "invocations_per_function_md.anon.d06.csv\n",
            "invocations_per_function_md.anon.d07.csv\n",
            "invocations_per_function_md.anon.d08.csv\n",
            "invocations_per_function_md.anon.d09.csv\n",
            "invocations_per_function_md.anon.d10.csv\n",
            "invocations_per_function_md.anon.d11.csv\n",
            "invocations_per_function_md.anon.d13.csv\n",
            "jump1.csv\n",
            "jump.csv\n",
            "scaled.csv\n",
            "spikes1.csv\n",
            "spikes.csv\n",
            "steady1.csv\n",
            "steady.csv\n",
            "time.csv\n"
          ]
        }
      ]
    },
    {
      "cell_type": "code",
      "execution_count": 56,
      "metadata": {
        "id": "UxZ0fSA3J_TQ"
      },
      "outputs": [],
      "source": [
        "import pandas as pd\n",
        "import numpy as np \n",
        "%matplotlib inline\n",
        "import matplotlib.pyplot as plt\n",
        "import seaborn as sns\n",
        "import scipy.stats as stats\n",
        "import io\n",
        "import glob\n",
        "import os"
      ]
    },
    {
      "cell_type": "code",
      "execution_count": 57,
      "metadata": {
        "id": "vO4Yqr7nvR9i"
      },
      "outputs": [],
      "source": [
        "# importing libraries\n",
        "import numpy as np\n",
        "import matplotlib.pyplot as plt"
      ]
    },
    {
      "cell_type": "code",
      "execution_count": 58,
      "metadata": {
        "id": "PVYrPe3mvX7B"
      },
      "outputs": [],
      "source": [
        "# jump1.csv, jump.csv\n",
        "df = pd.read_csv('steady1.csv')\n"
      ]
    },
    {
      "cell_type": "code",
      "execution_count": 59,
      "metadata": {
        "colab": {
          "base_uri": "https://localhost:8080/",
          "height": 295
        },
        "id": "XRDzupmYbcYK",
        "outputId": "2a31ef44-f0fb-44af-fc08-6726e68d3e05"
      },
      "outputs": [
        {
          "output_type": "display_data",
          "data": {
            "text/plain": [
              "<Figure size 432x288 with 1 Axes>"
            ],
            "image/png": "[encoded data removed]"
          },
          "metadata": {
            "needs_background": "light"
          }
        }
      ],
      "source": [
        "plt.plot(df['Time'],df['InvocationsPerMinute'],linestyle='dotted', color='b', marker='.',label='cpu_used')\n",
        "#plt.plot(df['InvocationsPerMinute'], df['Time'], linestyle='dotted',  color='r', marker='.',label='cpu_requested')\n",
        "plt.title('Jump Workload')\n",
        "plt.xlabel('Time (Seconds)')\n",
        "plt.ylabel('Users')\n",
        "plt.xlim([0, 1200])\n",
        "plt.grid()"
      ]
    },
    {
      "cell_type": "code",
      "source": [
        "from stochastic.processes.continuous import FractionalBrownianMotion\n",
        "import stochastic\n"
      ],
      "metadata": {
        "id": "6Uw-FoDWaZVc"
      },
      "execution_count": 60,
      "outputs": []
    },
    {
      "cell_type": "code",
      "source": [
        "#df = pd.read_csv('jump.csv')\n",
        "per_minute_rates_arr = df['InvocationsPerMinute'].values  # noqa E501\n",
        "scale_factor=10\n",
        "scale_type='linear'\n",
        "bm = FractionalBrownianMotion(hurst=0.8, t=10)\n",
        "magnitude_multiplier = 100  # Need to increase magnitude or values become too small\n",
        "samples = bm.sample(60 * len(per_minute_rates_arr)) * magnitude_multiplier\n",
        "all_bm_samples = samples + np.abs(np.floor(samples.min()))\n",
        "\n",
        "per_second_rates = np.array([])\n",
        "for i in range(len(per_minute_rates_arr)):\n",
        "    current_rate_minute = per_minute_rates_arr[i]\n",
        "    bm_samples = all_bm_samples[i * 60:(i + 1) * 60]\n",
        "\n",
        "    # Scale random samples by actual request rate per minute\n",
        "    total_units = bm_samples.sum()\n",
        "    requests_per_unit = current_rate_minute / total_units\n",
        "    upscaled_samples = bm_samples * requests_per_unit\n",
        "\n",
        "    per_second_rates = np.append(per_second_rates, upscaled_samples)\n",
        "\n",
        "scaled_per_second_rates = None\n",
        "if scale_type == 'linear':\n",
        "    scaled_per_second_rates = per_second_rates * scale_factor\n",
        "elif scale_type == 'compound':\n",
        "    # Use compounding to scale\n",
        "    compounding_fractions = per_second_rates / per_second_rates.sum()\n",
        "    max_fraction = np.quantile(compounding_fractions, 0.95)\n",
        "    # Find exponent required to scale the maximum requests per second by the scale_factor\n",
        "    exponent = np.log(scale_factor) / np.log(1 + max_fraction)\n",
        "    scaled_per_second_rates = per_second_rates * np.power(1 + compounding_fractions, exponent)  # noqa E501\n",
        "    # Clip extremes\n",
        "    clip_threshold = np.quantile(scaled_per_second_rates, 0.95)\n",
        "    scaled_per_second_rates[scaled_per_second_rates > clip_threshold] = clip_threshold\n",
        "else:\n",
        "    raise Exception(f'Unknown scaling type: {scale_type}')\n",
        "rps=np.round(scaled_per_second_rates)\n",
        "\n",
        "print(np.round(scaled_per_second_rates))\n",
        "\n",
        "\n"
      ],
      "metadata": {
        "colab": {
          "base_uri": "https://localhost:8080/"
        },
        "id": "Rtw7YcDqdQdh",
        "outputId": "55f134d9-54ca-42fb-c68e-90c262b055a6"
      },
      "execution_count": 69,
      "outputs": [
        {
          "output_type": "stream",
          "name": "stdout",
          "text": [
            "[20. 20. 20. ...  8.  5.  3.]\n"
          ]
        }
      ]
    },
    {
      "cell_type": "code",
      "source": [
        "df2=pd.read_csv('time.csv')\n",
        "df2['rps']= rps\n",
        "time = df2['Time'].values\n",
        "plt.plot(time[:-10],rps[:-10],linestyle='dotted', color='b', marker='.',label='cpu_used')\n",
        "plt.plot(df['Time'],df['InvocationsPerMinute'],linestyle='dotted', color='r', marker='.',label='cpu_used')\n",
        "\n",
        "\n",
        "#plt.plot(df['InvocationsPerMinute'], df['Time'], linestyle='dotted',  color='r', marker='.',label='cpu_requested')\n",
        "plt.title('keda')\n",
        "plt.xlabel('Time (Seconds)')\n",
        "plt.ylabel('CPU (millicores)')\n",
        "\n",
        "plt.grid()"
      ],
      "metadata": {
        "colab": {
          "base_uri": "https://localhost:8080/",
          "height": 295
        },
        "id": "Wtw9DyqQgrcn",
        "outputId": "d58668c2-cc16-4f6c-ac7e-a2132c02505d"
      },
      "execution_count": 70,
      "outputs": [
        {
          "output_type": "display_data",
          "data": {
            "text/plain": [
              "<Figure size 432x288 with 1 Axes>"
            ],
            "image/png": "[encoded data removed]"
          },
          "metadata": {
            "needs_background": "light"
          }
        }
      ]
    },
    {
      "cell_type": "code",
      "source": [],
      "metadata": {
        "colab": {
          "base_uri": "https://localhost:8080/"
        },
        "id": "7okhZ4Jmmasc",
        "outputId": "b8c61cf2-8143-4217-ca59-e5ca9eef1ab3"
      },
      "execution_count": 30,
      "outputs": [
        {
          "output_type": "stream",
          "name": "stdout",
          "text": [
            "[0. 0. 0. ... 0. 0. 0.]\n"
          ]
        }
      ]
    },
    {
      "cell_type": "code",
      "source": [
        "\n",
        "# Run length encoding merges contiguous seconds with the same request rate\n",
        "per_second_rates = rps\n",
        "n = len(per_second_rates)\n",
        "element_does_not_match_prev = per_second_rates[1:] != per_second_rates[:-1]\n",
        "positions_where_element_does_not_match = np.append(np.where(element_does_not_match_prev), n - 1)  # noqa E501\n",
        "#print(positions_where_element_does_not_match)\n",
        "\n",
        "run_lengths = np.diff(np.append(-1, positions_where_element_does_not_match))\n",
        "#print(run_lengths)\n",
        "key_elements = per_second_rates[positions_where_element_does_not_match]\n",
        "#print(key_elements)\n",
        "pre_allocated_vus = int(np.ceil(np.max(per_second_rates) / 10))\n",
        "start_rate = 0\n",
        "if len(key_elements) > 0:\n",
        "    start_rate = int(key_elements[0])\n",
        "\n",
        "stage_list = []\n",
        "for i in range(len(key_elements)):\n",
        "    duration_in_seconds = int(run_lengths[i])\n",
        "    target = int(key_elements[i])\n",
        "    # Split longer stages than 1s to model sharp transitions\n",
        "    # instead of linearly ramping up/down.\n",
        "    # Skip splitting for first stage and use startRate instead.\n",
        "    if duration_in_seconds > 1 and i > 0:\n",
        "        stage_list.append({\n",
        "            'users': target,\n",
        "            'duration': 1,\n",
        "            'spawn_rate': 1\n",
        "        })\n",
        "        stage_list.append({\n",
        "            'users': target,\n",
        "            'duration': int(duration_in_seconds - 1),\n",
        "            'spawn_rate': target\n",
        "        })\n",
        "    else:\n",
        "        stage_list.append({\n",
        "            'users': target,\n",
        "            'duration': int(duration_in_seconds),\n",
        "            'spawn_rate': target\n",
        "        })\n",
        "\n",
        "# reference for this object:\n",
        "# https://k6.io/docs/using-k6/scenarios/executors/ramping-arrival-rate\n",
        "config_object = {\n",
        "    'scenarios': {\n",
        "        'benchmark_scenario': {\n",
        "            'executor': 'ramping-arrival-rate',\n",
        "            'startRate': start_rate,\n",
        "            'timeUnit': '1s',\n",
        "            'preAllocatedVUs': pre_allocated_vus,\n",
        "            'stages': stage_list\n",
        "        }\n",
        "    }\n",
        "}\n",
        "print(stage_list)\n"
      ],
      "metadata": {
        "colab": {
          "base_uri": "https://localhost:8080/"
        },
        "id": "aoEsq1I67mR6",
        "outputId": "4acff5af-6b50-4fd1-899f-16db8ca8014d"
      },
      "execution_count": 72,
      "outputs": [
        {
          "output_type": "stream",
          "name": "stdout",
          "text": [
            "[{'users': 20, 'duration': 54, 'spawn_rate': 20}, {'users': 19, 'duration': 1, 'spawn_rate': 1}, {'users': 19, 'duration': 5, 'spawn_rate': 19}, {'users': 20, 'duration': 1, 'spawn_rate': 1}, {'users': 20, 'duration': 46, 'spawn_rate': 20}, {'users': 19, 'duration': 1, 'spawn_rate': 1}, {'users': 19, 'duration': 12, 'spawn_rate': 19}, {'users': 21, 'duration': 1, 'spawn_rate': 1}, {'users': 21, 'duration': 16, 'spawn_rate': 21}, {'users': 20, 'duration': 1, 'spawn_rate': 1}, {'users': 20, 'duration': 19, 'spawn_rate': 20}, {'users': 19, 'duration': 1, 'spawn_rate': 1}, {'users': 19, 'duration': 22, 'spawn_rate': 19}, {'users': 20, 'duration': 1, 'spawn_rate': 1}, {'users': 20, 'duration': 74, 'spawn_rate': 20}, {'users': 21, 'duration': 1, 'spawn_rate': 21}, {'users': 20, 'duration': 1, 'spawn_rate': 1}, {'users': 20, 'duration': 23, 'spawn_rate': 20}, {'users': 19, 'duration': 1, 'spawn_rate': 1}, {'users': 19, 'duration': 19, 'spawn_rate': 19}, {'users': 21, 'duration': 1, 'spawn_rate': 1}, {'users': 21, 'duration': 5, 'spawn_rate': 21}, {'users': 20, 'duration': 1, 'spawn_rate': 1}, {'users': 20, 'duration': 32, 'spawn_rate': 20}, {'users': 19, 'duration': 1, 'spawn_rate': 1}, {'users': 19, 'duration': 20, 'spawn_rate': 19}, {'users': 20, 'duration': 1, 'spawn_rate': 1}, {'users': 20, 'duration': 59, 'spawn_rate': 20}, {'users': 21, 'duration': 1, 'spawn_rate': 1}, {'users': 21, 'duration': 1, 'spawn_rate': 21}, {'users': 20, 'duration': 1, 'spawn_rate': 1}, {'users': 20, 'duration': 44, 'spawn_rate': 20}, {'users': 19, 'duration': 1, 'spawn_rate': 1}, {'users': 19, 'duration': 12, 'spawn_rate': 19}, {'users': 21, 'duration': 1, 'spawn_rate': 1}, {'users': 21, 'duration': 11, 'spawn_rate': 21}, {'users': 20, 'duration': 1, 'spawn_rate': 1}, {'users': 20, 'duration': 25, 'spawn_rate': 20}, {'users': 19, 'duration': 1, 'spawn_rate': 1}, {'users': 19, 'duration': 3, 'spawn_rate': 19}, {'users': 20, 'duration': 1, 'spawn_rate': 20}, {'users': 19, 'duration': 1, 'spawn_rate': 1}, {'users': 19, 'duration': 16, 'spawn_rate': 19}, {'users': 21, 'duration': 1, 'spawn_rate': 1}, {'users': 21, 'duration': 2, 'spawn_rate': 21}, {'users': 20, 'duration': 1, 'spawn_rate': 1}, {'users': 20, 'duration': 39, 'spawn_rate': 20}, {'users': 19, 'duration': 1, 'spawn_rate': 1}, {'users': 19, 'duration': 12, 'spawn_rate': 19}, {'users': 18, 'duration': 1, 'spawn_rate': 1}, {'users': 18, 'duration': 3, 'spawn_rate': 18}, {'users': 21, 'duration': 1, 'spawn_rate': 1}, {'users': 21, 'duration': 14, 'spawn_rate': 21}, {'users': 20, 'duration': 1, 'spawn_rate': 1}, {'users': 20, 'duration': 16, 'spawn_rate': 20}, {'users': 19, 'duration': 1, 'spawn_rate': 1}, {'users': 19, 'duration': 3, 'spawn_rate': 19}, {'users': 20, 'duration': 1, 'spawn_rate': 20}, {'users': 19, 'duration': 1, 'spawn_rate': 1}, {'users': 19, 'duration': 5, 'spawn_rate': 19}, {'users': 20, 'duration': 1, 'spawn_rate': 20}, {'users': 19, 'duration': 1, 'spawn_rate': 1}, {'users': 19, 'duration': 15, 'spawn_rate': 19}, {'users': 21, 'duration': 1, 'spawn_rate': 1}, {'users': 21, 'duration': 1, 'spawn_rate': 21}, {'users': 20, 'duration': 1, 'spawn_rate': 1}, {'users': 20, 'duration': 46, 'spawn_rate': 20}, {'users': 19, 'duration': 1, 'spawn_rate': 1}, {'users': 19, 'duration': 10, 'spawn_rate': 19}, {'users': 22, 'duration': 1, 'spawn_rate': 1}, {'users': 22, 'duration': 6, 'spawn_rate': 22}, {'users': 21, 'duration': 1, 'spawn_rate': 1}, {'users': 21, 'duration': 12, 'spawn_rate': 21}, {'users': 20, 'duration': 1, 'spawn_rate': 20}, {'users': 21, 'duration': 1, 'spawn_rate': 21}, {'users': 20, 'duration': 1, 'spawn_rate': 1}, {'users': 20, 'duration': 14, 'spawn_rate': 20}, {'users': 19, 'duration': 1, 'spawn_rate': 1}, {'users': 19, 'duration': 11, 'spawn_rate': 19}, {'users': 18, 'duration': 1, 'spawn_rate': 1}, {'users': 18, 'duration': 10, 'spawn_rate': 18}, {'users': 22, 'duration': 1, 'spawn_rate': 22}, {'users': 21, 'duration': 1, 'spawn_rate': 1}, {'users': 21, 'duration': 7, 'spawn_rate': 21}, {'users': 20, 'duration': 1, 'spawn_rate': 1}, {'users': 20, 'duration': 11, 'spawn_rate': 20}, {'users': 19, 'duration': 1, 'spawn_rate': 19}, {'users': 20, 'duration': 1, 'spawn_rate': 1}, {'users': 20, 'duration': 17, 'spawn_rate': 20}, {'users': 19, 'duration': 1, 'spawn_rate': 1}, {'users': 19, 'duration': 19, 'spawn_rate': 19}, {'users': 21, 'duration': 1, 'spawn_rate': 1}, {'users': 21, 'duration': 28, 'spawn_rate': 21}, {'users': 20, 'duration': 1, 'spawn_rate': 1}, {'users': 20, 'duration': 9, 'spawn_rate': 20}, {'users': 19, 'duration': 1, 'spawn_rate': 1}, {'users': 19, 'duration': 5, 'spawn_rate': 19}, {'users': 18, 'duration': 1, 'spawn_rate': 1}, {'users': 18, 'duration': 10, 'spawn_rate': 18}, {'users': 17, 'duration': 1, 'spawn_rate': 1}, {'users': 17, 'duration': 3, 'spawn_rate': 17}, {'users': 22, 'duration': 1, 'spawn_rate': 22}, {'users': 23, 'duration': 1, 'spawn_rate': 1}, {'users': 23, 'duration': 5, 'spawn_rate': 23}, {'users': 22, 'duration': 1, 'spawn_rate': 1}, {'users': 22, 'duration': 8, 'spawn_rate': 22}, {'users': 21, 'duration': 1, 'spawn_rate': 1}, {'users': 21, 'duration': 5, 'spawn_rate': 21}, {'users': 20, 'duration': 1, 'spawn_rate': 1}, {'users': 20, 'duration': 4, 'spawn_rate': 20}, {'users': 19, 'duration': 1, 'spawn_rate': 1}, {'users': 19, 'duration': 6, 'spawn_rate': 19}, {'users': 18, 'duration': 1, 'spawn_rate': 1}, {'users': 18, 'duration': 2, 'spawn_rate': 18}, {'users': 19, 'duration': 1, 'spawn_rate': 19}, {'users': 18, 'duration': 1, 'spawn_rate': 18}, {'users': 19, 'duration': 1, 'spawn_rate': 1}, {'users': 19, 'duration': 4, 'spawn_rate': 19}, {'users': 18, 'duration': 1, 'spawn_rate': 1}, {'users': 18, 'duration': 1, 'spawn_rate': 18}, {'users': 19, 'duration': 1, 'spawn_rate': 1}, {'users': 19, 'duration': 1, 'spawn_rate': 19}, {'users': 18, 'duration': 1, 'spawn_rate': 1}, {'users': 18, 'duration': 8, 'spawn_rate': 18}, {'users': 17, 'duration': 1, 'spawn_rate': 1}, {'users': 17, 'duration': 2, 'spawn_rate': 17}, {'users': 27, 'duration': 1, 'spawn_rate': 1}, {'users': 27, 'duration': 4, 'spawn_rate': 27}, {'users': 26, 'duration': 1, 'spawn_rate': 26}, {'users': 25, 'duration': 1, 'spawn_rate': 1}, {'users': 25, 'duration': 2, 'spawn_rate': 25}, {'users': 24, 'duration': 1, 'spawn_rate': 1}, {'users': 24, 'duration': 1, 'spawn_rate': 24}, {'users': 23, 'duration': 1, 'spawn_rate': 1}, {'users': 23, 'duration': 3, 'spawn_rate': 23}, {'users': 22, 'duration': 1, 'spawn_rate': 1}, {'users': 22, 'duration': 3, 'spawn_rate': 22}, {'users': 21, 'duration': 1, 'spawn_rate': 1}, {'users': 21, 'duration': 2, 'spawn_rate': 21}, {'users': 20, 'duration': 1, 'spawn_rate': 1}, {'users': 20, 'duration': 1, 'spawn_rate': 20}, {'users': 19, 'duration': 1, 'spawn_rate': 1}, {'users': 19, 'duration': 3, 'spawn_rate': 19}, {'users': 18, 'duration': 1, 'spawn_rate': 18}, {'users': 19, 'duration': 1, 'spawn_rate': 19}, {'users': 18, 'duration': 1, 'spawn_rate': 1}, {'users': 18, 'duration': 8, 'spawn_rate': 18}, {'users': 17, 'duration': 1, 'spawn_rate': 1}, {'users': 17, 'duration': 12, 'spawn_rate': 17}, {'users': 16, 'duration': 1, 'spawn_rate': 1}, {'users': 16, 'duration': 7, 'spawn_rate': 16}, {'users': 30, 'duration': 1, 'spawn_rate': 30}, {'users': 31, 'duration': 1, 'spawn_rate': 1}, {'users': 31, 'duration': 1, 'spawn_rate': 31}, {'users': 30, 'duration': 1, 'spawn_rate': 1}, {'users': 30, 'duration': 3, 'spawn_rate': 30}, {'users': 29, 'duration': 1, 'spawn_rate': 1}, {'users': 29, 'duration': 1, 'spawn_rate': 29}, {'users': 28, 'duration': 1, 'spawn_rate': 1}, {'users': 28, 'duration': 1, 'spawn_rate': 28}, {'users': 27, 'duration': 1, 'spawn_rate': 27}, {'users': 26, 'duration': 1, 'spawn_rate': 1}, {'users': 26, 'duration': 1, 'spawn_rate': 26}, {'users': 25, 'duration': 1, 'spawn_rate': 1}, {'users': 25, 'duration': 1, 'spawn_rate': 25}, {'users': 24, 'duration': 1, 'spawn_rate': 24}, {'users': 23, 'duration': 1, 'spawn_rate': 1}, {'users': 23, 'duration': 1, 'spawn_rate': 23}, {'users': 22, 'duration': 1, 'spawn_rate': 1}, {'users': 22, 'duration': 6, 'spawn_rate': 22}, {'users': 21, 'duration': 1, 'spawn_rate': 21}, {'users': 20, 'duration': 1, 'spawn_rate': 1}, {'users': 20, 'duration': 1, 'spawn_rate': 20}, {'users': 19, 'duration': 1, 'spawn_rate': 1}, {'users': 19, 'duration': 5, 'spawn_rate': 19}, {'users': 18, 'duration': 1, 'spawn_rate': 1}, {'users': 18, 'duration': 2, 'spawn_rate': 18}, {'users': 17, 'duration': 1, 'spawn_rate': 1}, {'users': 17, 'duration': 1, 'spawn_rate': 17}, {'users': 16, 'duration': 1, 'spawn_rate': 16}, {'users': 15, 'duration': 1, 'spawn_rate': 15}, {'users': 14, 'duration': 1, 'spawn_rate': 1}, {'users': 14, 'duration': 2, 'spawn_rate': 14}, {'users': 13, 'duration': 1, 'spawn_rate': 1}, {'users': 13, 'duration': 1, 'spawn_rate': 13}, {'users': 12, 'duration': 1, 'spawn_rate': 12}, {'users': 11, 'duration': 1, 'spawn_rate': 1}, {'users': 11, 'duration': 5, 'spawn_rate': 11}, {'users': 12, 'duration': 1, 'spawn_rate': 1}, {'users': 12, 'duration': 4, 'spawn_rate': 12}, {'users': 13, 'duration': 1, 'spawn_rate': 13}, {'users': 27, 'duration': 1, 'spawn_rate': 27}, {'users': 28, 'duration': 1, 'spawn_rate': 28}, {'users': 29, 'duration': 1, 'spawn_rate': 29}, {'users': 30, 'duration': 1, 'spawn_rate': 1}, {'users': 30, 'duration': 1, 'spawn_rate': 30}, {'users': 31, 'duration': 1, 'spawn_rate': 1}, {'users': 31, 'duration': 3, 'spawn_rate': 31}, {'users': 30, 'duration': 1, 'spawn_rate': 30}, {'users': 31, 'duration': 1, 'spawn_rate': 1}, {'users': 31, 'duration': 2, 'spawn_rate': 31}, {'users': 30, 'duration': 1, 'spawn_rate': 30}, {'users': 31, 'duration': 1, 'spawn_rate': 31}, {'users': 30, 'duration': 1, 'spawn_rate': 1}, {'users': 30, 'duration': 1, 'spawn_rate': 30}, {'users': 27, 'duration': 1, 'spawn_rate': 27}, {'users': 26, 'duration': 1, 'spawn_rate': 26}, {'users': 25, 'duration': 1, 'spawn_rate': 25}, {'users': 24, 'duration': 1, 'spawn_rate': 24}, {'users': 23, 'duration': 1, 'spawn_rate': 23}, {'users': 22, 'duration': 1, 'spawn_rate': 22}, {'users': 20, 'duration': 1, 'spawn_rate': 20}, {'users': 19, 'duration': 1, 'spawn_rate': 19}, {'users': 18, 'duration': 1, 'spawn_rate': 18}, {'users': 19, 'duration': 1, 'spawn_rate': 19}, {'users': 18, 'duration': 1, 'spawn_rate': 1}, {'users': 18, 'duration': 3, 'spawn_rate': 18}, {'users': 19, 'duration': 1, 'spawn_rate': 1}, {'users': 19, 'duration': 1, 'spawn_rate': 19}, {'users': 17, 'duration': 1, 'spawn_rate': 1}, {'users': 17, 'duration': 2, 'spawn_rate': 17}, {'users': 16, 'duration': 1, 'spawn_rate': 16}, {'users': 14, 'duration': 1, 'spawn_rate': 1}, {'users': 14, 'duration': 3, 'spawn_rate': 14}, {'users': 15, 'duration': 1, 'spawn_rate': 15}, {'users': 13, 'duration': 1, 'spawn_rate': 13}, {'users': 12, 'duration': 1, 'spawn_rate': 1}, {'users': 12, 'duration': 2, 'spawn_rate': 12}, {'users': 13, 'duration': 1, 'spawn_rate': 1}, {'users': 13, 'duration': 1, 'spawn_rate': 13}, {'users': 12, 'duration': 1, 'spawn_rate': 1}, {'users': 12, 'duration': 1, 'spawn_rate': 12}, {'users': 11, 'duration': 1, 'spawn_rate': 1}, {'users': 11, 'duration': 3, 'spawn_rate': 11}, {'users': 12, 'duration': 1, 'spawn_rate': 12}, {'users': 11, 'duration': 1, 'spawn_rate': 11}, {'users': 10, 'duration': 1, 'spawn_rate': 1}, {'users': 10, 'duration': 1, 'spawn_rate': 10}, {'users': 9, 'duration': 1, 'spawn_rate': 9}, {'users': 8, 'duration': 1, 'spawn_rate': 8}, {'users': 22, 'duration': 1, 'spawn_rate': 22}, {'users': 21, 'duration': 1, 'spawn_rate': 21}, {'users': 18, 'duration': 1, 'spawn_rate': 18}, {'users': 15, 'duration': 1, 'spawn_rate': 15}, {'users': 14, 'duration': 1, 'spawn_rate': 14}, {'users': 12, 'duration': 1, 'spawn_rate': 12}, {'users': 16, 'duration': 1, 'spawn_rate': 16}, {'users': 18, 'duration': 1, 'spawn_rate': 18}, {'users': 22, 'duration': 1, 'spawn_rate': 22}, {'users': 23, 'duration': 1, 'spawn_rate': 23}, {'users': 25, 'duration': 1, 'spawn_rate': 25}, {'users': 23, 'duration': 1, 'spawn_rate': 23}, {'users': 24, 'duration': 1, 'spawn_rate': 24}, {'users': 25, 'duration': 1, 'spawn_rate': 25}, {'users': 27, 'duration': 1, 'spawn_rate': 27}, {'users': 29, 'duration': 1, 'spawn_rate': 29}, {'users': 26, 'duration': 1, 'spawn_rate': 26}, {'users': 22, 'duration': 1, 'spawn_rate': 22}, {'users': 24, 'duration': 1, 'spawn_rate': 1}, {'users': 24, 'duration': 1, 'spawn_rate': 24}, {'users': 28, 'duration': 1, 'spawn_rate': 1}, {'users': 28, 'duration': 1, 'spawn_rate': 28}, {'users': 29, 'duration': 1, 'spawn_rate': 29}, {'users': 30, 'duration': 1, 'spawn_rate': 30}, {'users': 29, 'duration': 1, 'spawn_rate': 29}, {'users': 24, 'duration': 1, 'spawn_rate': 24}, {'users': 21, 'duration': 1, 'spawn_rate': 21}, {'users': 22, 'duration': 1, 'spawn_rate': 22}, {'users': 23, 'duration': 1, 'spawn_rate': 23}, {'users': 22, 'duration': 1, 'spawn_rate': 22}, {'users': 21, 'duration': 1, 'spawn_rate': 21}, {'users': 22, 'duration': 1, 'spawn_rate': 22}, {'users': 21, 'duration': 1, 'spawn_rate': 21}, {'users': 17, 'duration': 1, 'spawn_rate': 17}, {'users': 13, 'duration': 1, 'spawn_rate': 1}, {'users': 13, 'duration': 1, 'spawn_rate': 13}, {'users': 16, 'duration': 1, 'spawn_rate': 1}, {'users': 16, 'duration': 1, 'spawn_rate': 16}, {'users': 15, 'duration': 1, 'spawn_rate': 1}, {'users': 15, 'duration': 2, 'spawn_rate': 15}, {'users': 16, 'duration': 1, 'spawn_rate': 1}, {'users': 16, 'duration': 1, 'spawn_rate': 16}, {'users': 17, 'duration': 1, 'spawn_rate': 17}, {'users': 18, 'duration': 1, 'spawn_rate': 18}, {'users': 16, 'duration': 1, 'spawn_rate': 16}, {'users': 21, 'duration': 1, 'spawn_rate': 1}, {'users': 21, 'duration': 1, 'spawn_rate': 21}, {'users': 20, 'duration': 1, 'spawn_rate': 1}, {'users': 20, 'duration': 1, 'spawn_rate': 20}, {'users': 19, 'duration': 1, 'spawn_rate': 19}, {'users': 22, 'duration': 1, 'spawn_rate': 1}, {'users': 22, 'duration': 2, 'spawn_rate': 22}, {'users': 20, 'duration': 1, 'spawn_rate': 20}, {'users': 18, 'duration': 1, 'spawn_rate': 18}, {'users': 12, 'duration': 1, 'spawn_rate': 12}, {'users': 8, 'duration': 1, 'spawn_rate': 8}, {'users': 5, 'duration': 1, 'spawn_rate': 5}, {'users': 3, 'duration': 1, 'spawn_rate': 3}]\n"
          ]
        }
      ]
    },
    {
      "cell_type": "code",
      "source": [
        "import json\n",
        "json_data=[]\n",
        "users=0\n",
        "for i in range(len(stage_list)):\n",
        "  if i==0:\n",
        "    data =stage_list[i]\n",
        "    json_data.append(data)\n",
        "    print(json_data)\n",
        "    pass\n",
        "\n",
        "  else:   \n",
        "   data =stage_list[i]\n",
        "   p_data = stage_list[i-1]\n",
        "   print(i,data['duration'],p_data['duration'])\n",
        "   data['duration']=data['duration']+p_data['duration']\n",
        "   json_data.append(data)\n",
        "   users +=data['users']"
      ],
      "metadata": {
        "colab": {
          "base_uri": "https://localhost:8080/"
        },
        "id": "aT8LRTyEmt1d",
        "outputId": "67240832-820a-43ba-aa9e-551240189fcd"
      },
      "execution_count": 54,
      "outputs": [
        {
          "output_type": "stream",
          "name": "stdout",
          "text": [
            "[{'users': 0, 'duration': 540, 'spawn_rate': 0}]\n",
            "1 1 540\n",
            "2 59 541\n",
            "3 1 600\n",
            "4 59 601\n",
            "5 1 660\n",
            "6 111 661\n",
            "7 1 772\n",
            "8 7 773\n",
            "9 1 780\n",
            "10 59 781\n",
            "11 1 840\n",
            "12 136 841\n",
            "13 1 977\n",
            "14 42 978\n",
            "15 1 1020\n",
            "16 179 1021\n"
          ]
        }
      ]
    },
    {
      "cell_type": "code",
      "source": [
        "print(json_data)"
      ],
      "metadata": {
        "colab": {
          "base_uri": "https://localhost:8080/"
        },
        "id": "Bq3YgjJ5n9GI",
        "outputId": "67137baa-e0f4-45aa-f45d-bb98700f1215"
      },
      "execution_count": 73,
      "outputs": [
        {
          "output_type": "stream",
          "name": "stdout",
          "text": [
            "[{'users': 0, 'duration': 540, 'spawn_rate': 0}, {'users': 1, 'duration': 541, 'spawn_rate': 1}, {'users': 1, 'duration': 600, 'spawn_rate': 1}, {'users': 0, 'duration': 601, 'spawn_rate': 1}, {'users': 0, 'duration': 660, 'spawn_rate': 0}, {'users': 1, 'duration': 661, 'spawn_rate': 1}, {'users': 1, 'duration': 772, 'spawn_rate': 1}, {'users': 0, 'duration': 773, 'spawn_rate': 1}, {'users': 0, 'duration': 780, 'spawn_rate': 0}, {'users': 5, 'duration': 781, 'spawn_rate': 1}, {'users': 5, 'duration': 840, 'spawn_rate': 5}, {'users': 0, 'duration': 841, 'spawn_rate': 1}, {'users': 0, 'duration': 977, 'spawn_rate': 0}, {'users': 1, 'duration': 978, 'spawn_rate': 1}, {'users': 1, 'duration': 1020, 'spawn_rate': 1}, {'users': 0, 'duration': 1021, 'spawn_rate': 1}, {'users': 0, 'duration': 1200, 'spawn_rate': 0}]\n"
          ]
        }
      ]
    },
    {
      "cell_type": "code",
      "source": [
        "users"
      ],
      "metadata": {
        "colab": {
          "base_uri": "https://localhost:8080/"
        },
        "id": "Xv4n9k3gplFy",
        "outputId": "e689e140-f6e5-4225-95dc-6956b477668a"
      },
      "execution_count": 52,
      "outputs": [
        {
          "output_type": "execute_result",
          "data": {
            "text/plain": [
              "16"
            ]
          },
          "metadata": {},
          "execution_count": 52
        }
      ]
    }
  ],
  "metadata": {
    "colab": {
      "provenance": [],
      "include_colab_link": true
    },
    "kernelspec": {
      "display_name": "Python 3",
      "language": "python",
      "name": "python3"
    },
    "language_info": {
      "codemirror_mode": {
        "name": "ipython",
        "version": 3
      },
      "file_extension": ".py",
      "mimetype": "text/x-python",
      "name": "python",
      "nbconvert_exporter": "python",
      "pygments_lexer": "ipython3",
      "version": "3.7.3"
    }
  },
  "nbformat": 4,
  "nbformat_minor": 0
}