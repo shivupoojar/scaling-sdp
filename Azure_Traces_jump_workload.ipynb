{
  "cells": [
    {
      "cell_type": "markdown",
      "metadata": {
        "id": "view-in-github",
        "colab_type": "text"
      },
      "source": [
        "<a href=\"https://colab.research.google.com/github/shivupoojar/scaling-sdp/blob/main/Azure_Traces_jump_workload.ipynb\" target=\"_parent\"><img src=\"https://colab.research.google.com/assets/colab-badge.svg\" alt=\"Open In Colab\"/></a>"
      ]
    },
    {
      "cell_type": "code",
      "execution_count": 1,
      "metadata": {
        "colab": {
          "base_uri": "https://localhost:8080/"
        },
        "id": "aKX1PpCA1e_-",
        "outputId": "4030ac1a-94d1-48d2-d13f-66362af331ed"
      },
      "outputs": [
        {
          "output_type": "stream",
          "name": "stdout",
          "text": [
            "/content\n",
            "Mounted at /content/drive\n",
            "/content/drive/My Drive/Colab Notebooks/azurefunctions-dataset2019\n"
          ]
        }
      ],
      "source": [
        "!pwd\n",
        "from google.colab import drive\n",
        "drive.mount('/content/drive')\n",
        "%cd /content/drive/My Drive/Colab Notebooks/azurefunctions-dataset2019\n"
      ]
    },
    {
      "cell_type": "code",
      "execution_count": 8,
      "metadata": {
        "id": "UxZ0fSA3J_TQ"
      },
      "outputs": [],
      "source": [
        "import pandas as pd\n",
        "import numpy as np \n",
        "%matplotlib inline\n",
        "import matplotlib.pyplot as plt\n",
        "import seaborn as sns\n",
        "import scipy.stats as stats\n",
        "import io\n",
        "import glob\n",
        "import os"
      ]
    },
    {
      "cell_type": "code",
      "execution_count": 12,
      "metadata": {
        "id": "vO4Yqr7nvR9i"
      },
      "outputs": [],
      "source": [
        "# importing libraries\n",
        "import numpy as np\n",
        "import matplotlib.pyplot as plt"
      ]
    },
    {
      "cell_type": "code",
      "execution_count": 19,
      "metadata": {
        "id": "PVYrPe3mvX7B"
      },
      "outputs": [],
      "source": [
        "# jump1.csv, jump.csv\n",
        "df = pd.read_csv('jump1.csv')\n"
      ]
    },
    {
      "cell_type": "code",
      "execution_count": 20,
      "metadata": {
        "colab": {
          "base_uri": "https://localhost:8080/",
          "height": 295
        },
        "id": "XRDzupmYbcYK",
        "outputId": "aaa93c06-1a1c-4f3c-97f9-c4e90675474c"
      },
      "outputs": [
        {
          "output_type": "display_data",
          "data": {
            "text/plain": [
              "<Figure size 432x288 with 1 Axes>"
            ],
            "image/png": "[encoded data removed]"
          },
          "metadata": {
            "needs_background": "light"
          }
        }
      ],
      "source": [
        "plt.plot(df['Time'],df['InvocationsPerMinute'],linestyle='dotted', color='b', marker='.',label='cpu_used')\n",
        "#plt.plot(df['InvocationsPerMinute'], df['Time'], linestyle='dotted',  color='r', marker='.',label='cpu_requested')\n",
        "plt.title('Jump Workload')\n",
        "plt.xlabel('Time (Seconds)')\n",
        "plt.ylabel('Users')\n",
        "plt.xlim([0, 1200])\n",
        "plt.grid()"
      ]
    },
    {
      "cell_type": "code",
      "source": [
        "from stochastic.processes.continuous import FractionalBrownianMotion\n",
        "import stochastic\n"
      ],
      "metadata": {
        "id": "6Uw-FoDWaZVc",
        "colab": {
          "base_uri": "https://localhost:8080/"
        },
        "outputId": "52d7ecad-86cb-4995-ab50-2c99cdaf3cd6"
      },
      "execution_count": 15,
      "outputs": [
        {
          "output_type": "stream",
          "name": "stdout",
          "text": [
            "Looking in indexes: https://pypi.org/simple, https://us-python.pkg.dev/colab-wheels/public/simple/\n",
            "Collecting stochastic\n",
            "  Downloading stochastic-0.7.0-py3-none-any.whl (48 kB)\n",
            "\u001b[2K     \u001b[90m━━━━━━━━━━━━━━━━━━━━━━━━━━━━━━━━━━━━━━━━\u001b[0m \u001b[32m48.1/48.1 KB\u001b[0m \u001b[31m3.8 MB/s\u001b[0m eta \u001b[36m0:00:00\u001b[0m\n",
            "\u001b[?25hRequirement already satisfied: scipy<2.0,>=1.8 in /usr/local/lib/python3.9/dist-packages (from stochastic) (1.10.1)\n",
            "Requirement already satisfied: numpy<2.0,>=1.19 in /usr/local/lib/python3.9/dist-packages (from stochastic) (1.22.4)\n",
            "Installing collected packages: stochastic\n",
            "Successfully installed stochastic-0.7.0\n"
          ]
        }
      ]
    },
    {
      "cell_type": "code",
      "source": [
        "#df = pd.read_csv('jump.csv')\n",
        "per_minute_rates_arr = df['InvocationsPerMinute'].values  # noqa E501\n",
        "scale_factor=8\n",
        "scale_type='linear'\n",
        "bm = FractionalBrownianMotion(hurst=0.8, t=10)\n",
        "magnitude_multiplier = 100  # Need to increase magnitude or values become too small\n",
        "samples = bm.sample(60 * len(per_minute_rates_arr)) * magnitude_multiplier\n",
        "all_bm_samples = samples + np.abs(np.floor(samples.min()))\n",
        "\n",
        "per_second_rates = np.array([])\n",
        "for i in range(len(per_minute_rates_arr)):\n",
        "    current_rate_minute = per_minute_rates_arr[i]\n",
        "    bm_samples = all_bm_samples[i * 60:(i + 1) * 60]\n",
        "\n",
        "    # Scale random samples by actual request rate per minute\n",
        "    total_units = bm_samples.sum()\n",
        "    requests_per_unit = current_rate_minute / total_units\n",
        "    upscaled_samples = bm_samples * requests_per_unit\n",
        "\n",
        "    per_second_rates = np.append(per_second_rates, upscaled_samples)\n",
        "\n",
        "scaled_per_second_rates = None\n",
        "if scale_type == 'linear':\n",
        "    scaled_per_second_rates = per_second_rates * scale_factor\n",
        "elif scale_type == 'compound':\n",
        "    # Use compounding to scale\n",
        "    compounding_fractions = per_second_rates / per_second_rates.sum()\n",
        "    max_fraction = np.quantile(compounding_fractions, 0.95)\n",
        "    # Find exponent required to scale the maximum requests per second by the scale_factor\n",
        "    exponent = np.log(scale_factor) / np.log(1 + max_fraction)\n",
        "    scaled_per_second_rates = per_second_rates * np.power(1 + compounding_fractions, exponent)  # noqa E501\n",
        "    # Clip extremes\n",
        "    clip_threshold = np.quantile(scaled_per_second_rates, 0.95)\n",
        "    scaled_per_second_rates[scaled_per_second_rates > clip_threshold] = clip_threshold\n",
        "else:\n",
        "    raise Exception(f'Unknown scaling type: {scale_type}')\n",
        "rps=np.round(scaled_per_second_rates)\n",
        "\n",
        "print(np.round(scaled_per_second_rates))\n",
        "\n",
        "\n"
      ],
      "metadata": {
        "colab": {
          "base_uri": "https://localhost:8080/"
        },
        "id": "Rtw7YcDqdQdh",
        "outputId": "170dd146-1385-458f-eee1-677267330425"
      },
      "execution_count": 25,
      "outputs": [
        {
          "output_type": "stream",
          "name": "stdout",
          "text": [
            "[0. 0. 0. ... 0. 0. 0.]\n"
          ]
        }
      ]
    },
    {
      "cell_type": "code",
      "source": [
        "df2=pd.read_csv('time.csv')\n",
        "df2['rps']= rps\n",
        "time = df2['Time'].values\n",
        "plt.plot(time[:-10],rps[:-10],linestyle='dotted', color='b', marker='.',label='cpu_used')\n",
        "plt.plot(df['Time'],df['InvocationsPerMinute'],linestyle='dotted', color='r', marker='.',label='cpu_used')\n",
        "\n",
        "\n",
        "#plt.plot(df['InvocationsPerMinute'], df['Time'], linestyle='dotted',  color='r', marker='.',label='cpu_requested')\n",
        "plt.title('keda')\n",
        "plt.xlabel('Time (Seconds)')\n",
        "plt.ylabel('CPU (millicores)')\n",
        "\n",
        "plt.grid()"
      ],
      "metadata": {
        "colab": {
          "base_uri": "https://localhost:8080/",
          "height": 295
        },
        "id": "Wtw9DyqQgrcn",
        "outputId": "11599a3c-fb4e-4997-bc4f-27a3c0cc8cf5"
      },
      "execution_count": 29,
      "outputs": [
        {
          "output_type": "display_data",
          "data": {
            "text/plain": [
              "<Figure size 432x288 with 1 Axes>"
            ],
            "image/png": "[encoded data removed]"
          },
          "metadata": {
            "needs_background": "light"
          }
        }
      ]
    },
    {
      "cell_type": "code",
      "source": [],
      "metadata": {
        "colab": {
          "base_uri": "https://localhost:8080/"
        },
        "id": "7okhZ4Jmmasc",
        "outputId": "b8c61cf2-8143-4217-ca59-e5ca9eef1ab3"
      },
      "execution_count": 30,
      "outputs": [
        {
          "output_type": "stream",
          "name": "stdout",
          "text": [
            "[0. 0. 0. ... 0. 0. 0.]\n"
          ]
        }
      ]
    },
    {
      "cell_type": "code",
      "source": [
        "\n",
        "# Run length encoding merges contiguous seconds with the same request rate\n",
        "per_second_rates = rps\n",
        "n = len(per_second_rates)\n",
        "element_does_not_match_prev = per_second_rates[1:] != per_second_rates[:-1]\n",
        "positions_where_element_does_not_match = np.append(np.where(element_does_not_match_prev), n - 1)  # noqa E501\n",
        "#print(positions_where_element_does_not_match)\n",
        "\n",
        "run_lengths = np.diff(np.append(-1, positions_where_element_does_not_match))\n",
        "#print(run_lengths)\n",
        "key_elements = per_second_rates[positions_where_element_does_not_match]\n",
        "#print(key_elements)\n",
        "pre_allocated_vus = int(np.ceil(np.max(per_second_rates) / 10))\n",
        "start_rate = 0\n",
        "if len(key_elements) > 0:\n",
        "    start_rate = int(key_elements[0])\n",
        "\n",
        "stage_list = []\n",
        "for i in range(len(key_elements)):\n",
        "    duration_in_seconds = int(run_lengths[i])\n",
        "    target = int(key_elements[i])\n",
        "    # Split longer stages than 1s to model sharp transitions\n",
        "    # instead of linearly ramping up/down.\n",
        "    # Skip splitting for first stage and use startRate instead.\n",
        "    if duration_in_seconds > 1 and i > 0:\n",
        "        stage_list.append({\n",
        "            'users': target,\n",
        "            'duration': 1,\n",
        "            'spawn_rate': 1\n",
        "        })\n",
        "        stage_list.append({\n",
        "            'users': target,\n",
        "            'duration': int(duration_in_seconds - 1),\n",
        "            'spawn_rate': target\n",
        "        })\n",
        "    else:\n",
        "        stage_list.append({\n",
        "            'users': target,\n",
        "            'duration': int(duration_in_seconds),\n",
        "            'spawn_rate': target\n",
        "        })\n",
        "\n",
        "# reference for this object:\n",
        "# https://k6.io/docs/using-k6/scenarios/executors/ramping-arrival-rate\n",
        "config_object = {\n",
        "    'scenarios': {\n",
        "        'benchmark_scenario': {\n",
        "            'executor': 'ramping-arrival-rate',\n",
        "            'startRate': start_rate,\n",
        "            'timeUnit': '1s',\n",
        "            'preAllocatedVUs': pre_allocated_vus,\n",
        "            'stages': stage_list\n",
        "        }\n",
        "    }\n",
        "}\n",
        "print(stage_list)\n"
      ],
      "metadata": {
        "colab": {
          "base_uri": "https://localhost:8080/"
        },
        "id": "aoEsq1I67mR6",
        "outputId": "26a2e54f-948f-4bfa-fe50-5b64eacaac37"
      },
      "execution_count": 53,
      "outputs": [
        {
          "output_type": "stream",
          "name": "stdout",
          "text": [
            "[{'users': 0, 'duration': 540, 'spawn_rate': 0}, {'users': 1, 'duration': 1, 'spawn_rate': 1}, {'users': 1, 'duration': 59, 'spawn_rate': 1}, {'users': 0, 'duration': 1, 'spawn_rate': 1}, {'users': 0, 'duration': 59, 'spawn_rate': 0}, {'users': 1, 'duration': 1, 'spawn_rate': 1}, {'users': 1, 'duration': 111, 'spawn_rate': 1}, {'users': 0, 'duration': 1, 'spawn_rate': 1}, {'users': 0, 'duration': 7, 'spawn_rate': 0}, {'users': 5, 'duration': 1, 'spawn_rate': 1}, {'users': 5, 'duration': 59, 'spawn_rate': 5}, {'users': 0, 'duration': 1, 'spawn_rate': 1}, {'users': 0, 'duration': 136, 'spawn_rate': 0}, {'users': 1, 'duration': 1, 'spawn_rate': 1}, {'users': 1, 'duration': 42, 'spawn_rate': 1}, {'users': 0, 'duration': 1, 'spawn_rate': 1}, {'users': 0, 'duration': 179, 'spawn_rate': 0}]\n"
          ]
        }
      ]
    },
    {
      "cell_type": "code",
      "source": [
        "import json\n",
        "json_data=[]\n",
        "users=0\n",
        "for i in range(len(stage_list)):\n",
        "  if i==0:\n",
        "    data =stage_list[i]\n",
        "    json_data.append(data)\n",
        "    print(json_data)\n",
        "    pass\n",
        "\n",
        "  else:   \n",
        "   data =stage_list[i]\n",
        "   p_data = stage_list[i-1]\n",
        "   print(i,data['duration'],p_data['duration'])\n",
        "   data['duration']=data['duration']+p_data['duration']\n",
        "   json_data.append(data)\n",
        "   users +=data['users']"
      ],
      "metadata": {
        "colab": {
          "base_uri": "https://localhost:8080/"
        },
        "id": "aT8LRTyEmt1d",
        "outputId": "67240832-820a-43ba-aa9e-551240189fcd"
      },
      "execution_count": 54,
      "outputs": [
        {
          "output_type": "stream",
          "name": "stdout",
          "text": [
            "[{'users': 0, 'duration': 540, 'spawn_rate': 0}]\n",
            "1 1 540\n",
            "2 59 541\n",
            "3 1 600\n",
            "4 59 601\n",
            "5 1 660\n",
            "6 111 661\n",
            "7 1 772\n",
            "8 7 773\n",
            "9 1 780\n",
            "10 59 781\n",
            "11 1 840\n",
            "12 136 841\n",
            "13 1 977\n",
            "14 42 978\n",
            "15 1 1020\n",
            "16 179 1021\n"
          ]
        }
      ]
    },
    {
      "cell_type": "code",
      "source": [
        "print(json_data)"
      ],
      "metadata": {
        "colab": {
          "base_uri": "https://localhost:8080/"
        },
        "id": "Bq3YgjJ5n9GI",
        "outputId": "96aeb47f-1477-47df-fd45-1bf4cfa26864"
      },
      "execution_count": 51,
      "outputs": [
        {
          "output_type": "stream",
          "name": "stdout",
          "text": [
            "[{'users': 0, 'duration': 540, 'spawn_rate': 0}, {'users': 1, 'duration': 541, 'spawn_rate': 1}, {'users': 1, 'duration': 600, 'spawn_rate': 1}, {'users': 0, 'duration': 601, 'spawn_rate': 1}, {'users': 0, 'duration': 660, 'spawn_rate': 0}, {'users': 1, 'duration': 661, 'spawn_rate': 1}, {'users': 1, 'duration': 772, 'spawn_rate': 1}, {'users': 0, 'duration': 773, 'spawn_rate': 1}, {'users': 0, 'duration': 780, 'spawn_rate': 0}, {'users': 5, 'duration': 781, 'spawn_rate': 1}, {'users': 5, 'duration': 840, 'spawn_rate': 5}, {'users': 0, 'duration': 841, 'spawn_rate': 1}, {'users': 0, 'duration': 977, 'spawn_rate': 0}, {'users': 1, 'duration': 978, 'spawn_rate': 1}, {'users': 1, 'duration': 1020, 'spawn_rate': 1}, {'users': 0, 'duration': 1021, 'spawn_rate': 1}, {'users': 0, 'duration': 1200, 'spawn_rate': 0}]\n"
          ]
        }
      ]
    },
    {
      "cell_type": "code",
      "source": [
        "users"
      ],
      "metadata": {
        "colab": {
          "base_uri": "https://localhost:8080/"
        },
        "id": "Xv4n9k3gplFy",
        "outputId": "e689e140-f6e5-4225-95dc-6956b477668a"
      },
      "execution_count": 52,
      "outputs": [
        {
          "output_type": "execute_result",
          "data": {
            "text/plain": [
              "16"
            ]
          },
          "metadata": {},
          "execution_count": 52
        }
      ]
    }
  ],
  "metadata": {
    "colab": {
      "provenance": [],
      "include_colab_link": true
    },
    "kernelspec": {
      "display_name": "Python 3",
      "language": "python",
      "name": "python3"
    },
    "language_info": {
      "codemirror_mode": {
        "name": "ipython",
        "version": 3
      },
      "file_extension": ".py",
      "mimetype": "text/x-python",
      "name": "python",
      "nbconvert_exporter": "python",
      "pygments_lexer": "ipython3",
      "version": "3.7.3"
    }
  },
  "nbformat": 4,
  "nbformat_minor": 0
}